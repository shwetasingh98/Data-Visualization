{
 "cells": [
  {
   "cell_type": "markdown",
   "id": "6736be25",
   "metadata": {
    "papermill": {
     "duration": 0.008458,
     "end_time": "2022-10-14T08:06:37.063737",
     "exception": false,
     "start_time": "2022-10-14T08:06:37.055279",
     "status": "completed"
    },
    "tags": []
   },
   "source": [
    "**This notebook is an exercise in the [Data Visualization](https://www.kaggle.com/learn/data-visualization) course.  You can reference the tutorial at [this link](https://www.kaggle.com/alexisbcook/line-charts).**\n",
    "\n",
    "---\n"
   ]
  },
  {
   "cell_type": "markdown",
   "id": "ae33dbb8",
   "metadata": {
    "papermill": {
     "duration": 0.006562,
     "end_time": "2022-10-14T08:06:37.077520",
     "exception": false,
     "start_time": "2022-10-14T08:06:37.070958",
     "status": "completed"
    },
    "tags": []
   },
   "source": [
    "In this exercise, you will use your new knowledge to propose a solution to a real-world scenario. To succeed, you will need to import data into Python, answer questions using the data, and generate **line charts** to understand patterns in the data.\n",
    "\n",
    "## Scenario\n",
    "\n",
    "You have recently been hired to manage the museums in the City of Los Angeles. Your first project focuses on the four museums pictured in the images below.\n",
    "\n",
    "![ex1_museums](https://i.imgur.com/pFYL8J1.png)\n",
    "\n",
    "You will leverage data from the Los Angeles [Data Portal](https://data.lacity.org/) that tracks monthly visitors to each museum.  \n",
    "\n",
    "![ex1_xlsx](https://i.imgur.com/mGWYlym.png)\n",
    "\n",
    "## Setup\n",
    "\n",
    "Run the next cell to import and configure the Python libraries that you need to complete the exercise."
   ]
  },
  {
   "cell_type": "code",
   "execution_count": 1,
   "id": "1c73fb5f",
   "metadata": {
    "execution": {
     "iopub.execute_input": "2022-10-14T08:06:37.093723Z",
     "iopub.status.busy": "2022-10-14T08:06:37.092790Z",
     "iopub.status.idle": "2022-10-14T08:06:38.146589Z",
     "shell.execute_reply": "2022-10-14T08:06:38.145518Z"
    },
    "papermill": {
     "duration": 1.0654,
     "end_time": "2022-10-14T08:06:38.149656",
     "exception": false,
     "start_time": "2022-10-14T08:06:37.084256",
     "status": "completed"
    },
    "tags": []
   },
   "outputs": [
    {
     "name": "stdout",
     "output_type": "stream",
     "text": [
      "Setup Complete\n"
     ]
    }
   ],
   "source": [
    "import pandas as pd\n",
    "pd.plotting.register_matplotlib_converters()\n",
    "import matplotlib.pyplot as plt\n",
    "%matplotlib inline\n",
    "import seaborn as sns\n",
    "print(\"Setup Complete\")"
   ]
  },
  {
   "cell_type": "markdown",
   "id": "77ed6a82",
   "metadata": {
    "papermill": {
     "duration": 0.00643,
     "end_time": "2022-10-14T08:06:38.163350",
     "exception": false,
     "start_time": "2022-10-14T08:06:38.156920",
     "status": "completed"
    },
    "tags": []
   },
   "source": [
    "The questions below will give you feedback on your work. Run the following cell to set up the feedback system."
   ]
  },
  {
   "cell_type": "code",
   "execution_count": 2,
   "id": "13c7d8ae",
   "metadata": {
    "execution": {
     "iopub.execute_input": "2022-10-14T08:06:38.179028Z",
     "iopub.status.busy": "2022-10-14T08:06:38.177934Z",
     "iopub.status.idle": "2022-10-14T08:06:38.230520Z",
     "shell.execute_reply": "2022-10-14T08:06:38.229296Z"
    },
    "papermill": {
     "duration": 0.063433,
     "end_time": "2022-10-14T08:06:38.233402",
     "exception": false,
     "start_time": "2022-10-14T08:06:38.169969",
     "status": "completed"
    },
    "tags": []
   },
   "outputs": [
    {
     "name": "stdout",
     "output_type": "stream",
     "text": [
      "Setup Complete\n"
     ]
    }
   ],
   "source": [
    "# Set up code checking\n",
    "import os\n",
    "if not os.path.exists(\"../input/museum_visitors.csv\"):\n",
    "    os.symlink(\"../input/data-for-datavis/museum_visitors.csv\", \"../input/museum_visitors.csv\") \n",
    "from learntools.core import binder\n",
    "binder.bind(globals())\n",
    "from learntools.data_viz_to_coder.ex2 import *\n",
    "print(\"Setup Complete\")"
   ]
  },
  {
   "cell_type": "markdown",
   "id": "f649759c",
   "metadata": {
    "papermill": {
     "duration": 0.006642,
     "end_time": "2022-10-14T08:06:38.247577",
     "exception": false,
     "start_time": "2022-10-14T08:06:38.240935",
     "status": "completed"
    },
    "tags": []
   },
   "source": [
    "## Step 1: Load the data\n",
    "\n",
    "Your first assignment is to read the LA Museum Visitors data file into `museum_data`.  Note that:\n",
    "- The filepath to the dataset is stored as `museum_filepath`.  Please **do not** change the provided value of the filepath.\n",
    "- The name of the column to use as row labels is `\"Date\"`.  (This can be seen in cell A1 when the file is opened in Excel.)\n",
    "\n",
    "To help with this, you may find it useful to revisit some relevant code from the tutorial, which we have pasted below:\n",
    "\n",
    "```python\n",
    "# Path of the file to read\n",
    "spotify_filepath = \"../input/spotify.csv\"\n",
    "\n",
    "# Read the file into a variable spotify_data\n",
    "spotify_data = pd.read_csv(spotify_filepath, index_col=\"Date\", parse_dates=True)\n",
    "```\n",
    "\n",
    "The code you need to write now looks very similar!"
   ]
  },
  {
   "cell_type": "code",
   "execution_count": 3,
   "id": "328b8c89",
   "metadata": {
    "execution": {
     "iopub.execute_input": "2022-10-14T08:06:38.263411Z",
     "iopub.status.busy": "2022-10-14T08:06:38.262459Z",
     "iopub.status.idle": "2022-10-14T08:06:38.279807Z",
     "shell.execute_reply": "2022-10-14T08:06:38.278569Z"
    },
    "papermill": {
     "duration": 0.027635,
     "end_time": "2022-10-14T08:06:38.282103",
     "exception": false,
     "start_time": "2022-10-14T08:06:38.254468",
     "status": "completed"
    },
    "tags": []
   },
   "outputs": [
    {
     "data": {
      "application/javascript": [
       "parent.postMessage({\"jupyterEvent\": \"custom.exercise_interaction\", \"data\": {\"outcomeType\": 1, \"valueTowardsCompletion\": 0.3333333333333333, \"interactionType\": 1, \"questionType\": 1, \"questionId\": \"1_LoadMuseumData\", \"learnToolsVersion\": \"0.3.4\", \"failureMessage\": \"\", \"exceptionClass\": \"\", \"trace\": \"\"}}, \"*\")"
      ],
      "text/plain": [
       "<IPython.core.display.Javascript object>"
      ]
     },
     "metadata": {},
     "output_type": "display_data"
    },
    {
     "data": {
      "text/markdown": [
       "<span style=\"color:#33cc33\">Correct</span>"
      ],
      "text/plain": [
       "Correct"
      ]
     },
     "metadata": {},
     "output_type": "display_data"
    }
   ],
   "source": [
    "# Path of the file to read\n",
    "museum_filepath = \"../input/museum_visitors.csv\"\n",
    "\n",
    "# Fill in the line below to read the file into a variable museum_data\n",
    "museum_data = pd.read_csv(museum_filepath,index_col=\"Date\", parse_dates=True)\n",
    "\n",
    "# Run the line below with no changes to check that you've loaded the data correctly\n",
    "step_1.check()"
   ]
  },
  {
   "cell_type": "code",
   "execution_count": 4,
   "id": "e16b22a4",
   "metadata": {
    "execution": {
     "iopub.execute_input": "2022-10-14T08:06:38.298171Z",
     "iopub.status.busy": "2022-10-14T08:06:38.297799Z",
     "iopub.status.idle": "2022-10-14T08:06:38.301810Z",
     "shell.execute_reply": "2022-10-14T08:06:38.300770Z"
    },
    "papermill": {
     "duration": 0.01468,
     "end_time": "2022-10-14T08:06:38.303995",
     "exception": false,
     "start_time": "2022-10-14T08:06:38.289315",
     "status": "completed"
    },
    "tags": []
   },
   "outputs": [],
   "source": [
    "# Uncomment the line below to receive a hint\n",
    "#step_1.hint()\n",
    "# Uncomment the line below to see the solution\n",
    "#step_1.solution()"
   ]
  },
  {
   "cell_type": "markdown",
   "id": "9efd56f5",
   "metadata": {
    "papermill": {
     "duration": 0.006639,
     "end_time": "2022-10-14T08:06:38.317873",
     "exception": false,
     "start_time": "2022-10-14T08:06:38.311234",
     "status": "completed"
    },
    "tags": []
   },
   "source": [
    "## Step 2: Review the data\n",
    "\n",
    "Use a Python command to print the last 5 rows of the data."
   ]
  },
  {
   "cell_type": "code",
   "execution_count": 5,
   "id": "94bd924f",
   "metadata": {
    "execution": {
     "iopub.execute_input": "2022-10-14T08:06:38.334826Z",
     "iopub.status.busy": "2022-10-14T08:06:38.334140Z",
     "iopub.status.idle": "2022-10-14T08:06:38.348577Z",
     "shell.execute_reply": "2022-10-14T08:06:38.347731Z"
    },
    "papermill": {
     "duration": 0.026013,
     "end_time": "2022-10-14T08:06:38.350790",
     "exception": false,
     "start_time": "2022-10-14T08:06:38.324777",
     "status": "completed"
    },
    "tags": []
   },
   "outputs": [
    {
     "data": {
      "text/html": [
       "<div>\n",
       "<style scoped>\n",
       "    .dataframe tbody tr th:only-of-type {\n",
       "        vertical-align: middle;\n",
       "    }\n",
       "\n",
       "    .dataframe tbody tr th {\n",
       "        vertical-align: top;\n",
       "    }\n",
       "\n",
       "    .dataframe thead th {\n",
       "        text-align: right;\n",
       "    }\n",
       "</style>\n",
       "<table border=\"1\" class=\"dataframe\">\n",
       "  <thead>\n",
       "    <tr style=\"text-align: right;\">\n",
       "      <th></th>\n",
       "      <th>Avila Adobe</th>\n",
       "      <th>Firehouse Museum</th>\n",
       "      <th>Chinese American Museum</th>\n",
       "      <th>America Tropical Interpretive Center</th>\n",
       "    </tr>\n",
       "    <tr>\n",
       "      <th>Date</th>\n",
       "      <th></th>\n",
       "      <th></th>\n",
       "      <th></th>\n",
       "      <th></th>\n",
       "    </tr>\n",
       "  </thead>\n",
       "  <tbody>\n",
       "    <tr>\n",
       "      <th>2014-01-01</th>\n",
       "      <td>24778</td>\n",
       "      <td>4486</td>\n",
       "      <td>1581</td>\n",
       "      <td>6602</td>\n",
       "    </tr>\n",
       "    <tr>\n",
       "      <th>2014-02-01</th>\n",
       "      <td>18976</td>\n",
       "      <td>4172</td>\n",
       "      <td>1785</td>\n",
       "      <td>5029</td>\n",
       "    </tr>\n",
       "    <tr>\n",
       "      <th>2014-03-01</th>\n",
       "      <td>25231</td>\n",
       "      <td>7082</td>\n",
       "      <td>3229</td>\n",
       "      <td>8129</td>\n",
       "    </tr>\n",
       "    <tr>\n",
       "      <th>2014-04-01</th>\n",
       "      <td>26989</td>\n",
       "      <td>6756</td>\n",
       "      <td>2129</td>\n",
       "      <td>2824</td>\n",
       "    </tr>\n",
       "    <tr>\n",
       "      <th>2014-05-01</th>\n",
       "      <td>36883</td>\n",
       "      <td>10858</td>\n",
       "      <td>3676</td>\n",
       "      <td>10694</td>\n",
       "    </tr>\n",
       "  </tbody>\n",
       "</table>\n",
       "</div>"
      ],
      "text/plain": [
       "            Avila Adobe  Firehouse Museum  Chinese American Museum  \\\n",
       "Date                                                                 \n",
       "2014-01-01        24778              4486                     1581   \n",
       "2014-02-01        18976              4172                     1785   \n",
       "2014-03-01        25231              7082                     3229   \n",
       "2014-04-01        26989              6756                     2129   \n",
       "2014-05-01        36883             10858                     3676   \n",
       "\n",
       "            America Tropical Interpretive Center  \n",
       "Date                                              \n",
       "2014-01-01                                  6602  \n",
       "2014-02-01                                  5029  \n",
       "2014-03-01                                  8129  \n",
       "2014-04-01                                  2824  \n",
       "2014-05-01                                 10694  "
      ]
     },
     "execution_count": 5,
     "metadata": {},
     "output_type": "execute_result"
    }
   ],
   "source": [
    "# Print the last five rows of the data \n",
    "museum_data.head()\n",
    " # Your code here"
   ]
  },
  {
   "cell_type": "markdown",
   "id": "a3e16c5d",
   "metadata": {
    "papermill": {
     "duration": 0.006871,
     "end_time": "2022-10-14T08:06:38.364869",
     "exception": false,
     "start_time": "2022-10-14T08:06:38.357998",
     "status": "completed"
    },
    "tags": []
   },
   "source": [
    "The last row (for `2018-11-01`) tracks the number of visitors to each museum in November 2018, the next-to-last row (for `2018-10-01`) tracks the number of visitors to each museum in October 2018, _and so on_.\n",
    "\n",
    "Use the last 5 rows of the data to answer the questions below."
   ]
  },
  {
   "cell_type": "code",
   "execution_count": 6,
   "id": "3dc69662",
   "metadata": {
    "execution": {
     "iopub.execute_input": "2022-10-14T08:06:38.381341Z",
     "iopub.status.busy": "2022-10-14T08:06:38.380606Z",
     "iopub.status.idle": "2022-10-14T08:06:38.392506Z",
     "shell.execute_reply": "2022-10-14T08:06:38.391269Z"
    },
    "papermill": {
     "duration": 0.023189,
     "end_time": "2022-10-14T08:06:38.395160",
     "exception": false,
     "start_time": "2022-10-14T08:06:38.371971",
     "status": "completed"
    },
    "tags": []
   },
   "outputs": [
    {
     "data": {
      "text/html": [
       "<div>\n",
       "<style scoped>\n",
       "    .dataframe tbody tr th:only-of-type {\n",
       "        vertical-align: middle;\n",
       "    }\n",
       "\n",
       "    .dataframe tbody tr th {\n",
       "        vertical-align: top;\n",
       "    }\n",
       "\n",
       "    .dataframe thead th {\n",
       "        text-align: right;\n",
       "    }\n",
       "</style>\n",
       "<table border=\"1\" class=\"dataframe\">\n",
       "  <thead>\n",
       "    <tr style=\"text-align: right;\">\n",
       "      <th></th>\n",
       "      <th>Avila Adobe</th>\n",
       "      <th>Firehouse Museum</th>\n",
       "      <th>Chinese American Museum</th>\n",
       "      <th>America Tropical Interpretive Center</th>\n",
       "    </tr>\n",
       "    <tr>\n",
       "      <th>Date</th>\n",
       "      <th></th>\n",
       "      <th></th>\n",
       "      <th></th>\n",
       "      <th></th>\n",
       "    </tr>\n",
       "  </thead>\n",
       "  <tbody>\n",
       "    <tr>\n",
       "      <th>2018-07-01</th>\n",
       "      <td>23136</td>\n",
       "      <td>4191</td>\n",
       "      <td>2620</td>\n",
       "      <td>4718</td>\n",
       "    </tr>\n",
       "    <tr>\n",
       "      <th>2018-08-01</th>\n",
       "      <td>20815</td>\n",
       "      <td>4866</td>\n",
       "      <td>2409</td>\n",
       "      <td>3891</td>\n",
       "    </tr>\n",
       "    <tr>\n",
       "      <th>2018-09-01</th>\n",
       "      <td>21020</td>\n",
       "      <td>4956</td>\n",
       "      <td>2146</td>\n",
       "      <td>3180</td>\n",
       "    </tr>\n",
       "    <tr>\n",
       "      <th>2018-10-01</th>\n",
       "      <td>19280</td>\n",
       "      <td>4622</td>\n",
       "      <td>2364</td>\n",
       "      <td>3775</td>\n",
       "    </tr>\n",
       "    <tr>\n",
       "      <th>2018-11-01</th>\n",
       "      <td>17163</td>\n",
       "      <td>4082</td>\n",
       "      <td>2385</td>\n",
       "      <td>4562</td>\n",
       "    </tr>\n",
       "  </tbody>\n",
       "</table>\n",
       "</div>"
      ],
      "text/plain": [
       "            Avila Adobe  Firehouse Museum  Chinese American Museum  \\\n",
       "Date                                                                 \n",
       "2018-07-01        23136              4191                     2620   \n",
       "2018-08-01        20815              4866                     2409   \n",
       "2018-09-01        21020              4956                     2146   \n",
       "2018-10-01        19280              4622                     2364   \n",
       "2018-11-01        17163              4082                     2385   \n",
       "\n",
       "            America Tropical Interpretive Center  \n",
       "Date                                              \n",
       "2018-07-01                                  4718  \n",
       "2018-08-01                                  3891  \n",
       "2018-09-01                                  3180  \n",
       "2018-10-01                                  3775  \n",
       "2018-11-01                                  4562  "
      ]
     },
     "execution_count": 6,
     "metadata": {},
     "output_type": "execute_result"
    }
   ],
   "source": [
    "museum_data.tail()"
   ]
  },
  {
   "cell_type": "code",
   "execution_count": 7,
   "id": "2ee27820",
   "metadata": {
    "execution": {
     "iopub.execute_input": "2022-10-14T08:06:38.412511Z",
     "iopub.status.busy": "2022-10-14T08:06:38.412081Z",
     "iopub.status.idle": "2022-10-14T08:06:38.421965Z",
     "shell.execute_reply": "2022-10-14T08:06:38.420932Z"
    },
    "papermill": {
     "duration": 0.021532,
     "end_time": "2022-10-14T08:06:38.424339",
     "exception": false,
     "start_time": "2022-10-14T08:06:38.402807",
     "status": "completed"
    },
    "tags": []
   },
   "outputs": [
    {
     "data": {
      "text/plain": [
       "Date\n",
       "2014-01-01    1581\n",
       "2014-02-01    1785\n",
       "2014-03-01    3229\n",
       "2014-04-01    2129\n",
       "2014-05-01    3676\n",
       "2014-06-01    2121\n",
       "2014-07-01    2239\n",
       "2014-08-01    1769\n",
       "2014-09-01    1073\n",
       "2014-10-01    1979\n",
       "2014-11-01    2404\n",
       "2014-12-01    1319\n",
       "2015-01-01    1823\n",
       "2015-02-01    1558\n",
       "2015-03-01    2336\n",
       "2015-04-01    3057\n",
       "2015-05-01    4009\n",
       "2015-06-01    2544\n",
       "2015-07-01    3057\n",
       "2015-08-01    2415\n",
       "2015-09-01    1398\n",
       "2015-10-01    2237\n",
       "2015-11-01    2850\n",
       "2015-12-01    2075\n",
       "2016-01-01    2150\n",
       "2016-02-01    2547\n",
       "2016-03-01    7702\n",
       "2016-04-01    3485\n",
       "2016-05-01    4565\n",
       "2016-06-01    3034\n",
       "2016-07-01    2776\n",
       "2016-08-01    2153\n",
       "2016-09-01    1754\n",
       "2016-10-01    2607\n",
       "2016-11-01    2248\n",
       "2016-12-01    2263\n",
       "2017-01-01    2531\n",
       "2017-02-01    2139\n",
       "2017-03-01    5966\n",
       "2017-04-01    3273\n",
       "2017-05-01    5585\n",
       "2017-06-01    2946\n",
       "2017-07-01    2939\n",
       "2017-08-01    1784\n",
       "2017-09-01    1704\n",
       "2017-10-01    2419\n",
       "2017-11-01    2685\n",
       "2017-12-01    2768\n",
       "2018-01-01    2477\n",
       "2018-02-01    2710\n",
       "2018-03-01    4529\n",
       "2018-04-01    2750\n",
       "2018-05-01    4960\n",
       "2018-06-01    2518\n",
       "2018-07-01    2620\n",
       "2018-08-01    2409\n",
       "2018-09-01    2146\n",
       "2018-10-01    2364\n",
       "2018-11-01    2385\n",
       "Name: Chinese American Museum, dtype: int64"
      ]
     },
     "execution_count": 7,
     "metadata": {},
     "output_type": "execute_result"
    }
   ],
   "source": [
    "museum_data['Chinese American Museum']"
   ]
  },
  {
   "cell_type": "code",
   "execution_count": 8,
   "id": "036c3a76",
   "metadata": {
    "execution": {
     "iopub.execute_input": "2022-10-14T08:06:38.441565Z",
     "iopub.status.busy": "2022-10-14T08:06:38.441164Z",
     "iopub.status.idle": "2022-10-14T08:06:38.455304Z",
     "shell.execute_reply": "2022-10-14T08:06:38.454172Z"
    },
    "papermill": {
     "duration": 0.025312,
     "end_time": "2022-10-14T08:06:38.457613",
     "exception": false,
     "start_time": "2022-10-14T08:06:38.432301",
     "status": "completed"
    },
    "tags": []
   },
   "outputs": [
    {
     "data": {
      "text/plain": [
       "2620"
      ]
     },
     "execution_count": 8,
     "metadata": {},
     "output_type": "execute_result"
    }
   ],
   "source": [
    "museum_data['Chinese American Museum'].loc['2018-07-01']\n"
   ]
  },
  {
   "cell_type": "code",
   "execution_count": 9,
   "id": "cda316d5",
   "metadata": {
    "execution": {
     "iopub.execute_input": "2022-10-14T08:06:38.475296Z",
     "iopub.status.busy": "2022-10-14T08:06:38.474235Z",
     "iopub.status.idle": "2022-10-14T08:06:38.481071Z",
     "shell.execute_reply": "2022-10-14T08:06:38.480352Z"
    },
    "papermill": {
     "duration": 0.01781,
     "end_time": "2022-10-14T08:06:38.483113",
     "exception": false,
     "start_time": "2022-10-14T08:06:38.465303",
     "status": "completed"
    },
    "tags": []
   },
   "outputs": [
    {
     "data": {
      "text/plain": [
       "19280"
      ]
     },
     "execution_count": 9,
     "metadata": {},
     "output_type": "execute_result"
    }
   ],
   "source": [
    "Avila=museum_data['Avila Adobe'].loc['2018-10-01']\n",
    "Avila\n"
   ]
  },
  {
   "cell_type": "code",
   "execution_count": 10,
   "id": "107f3e60",
   "metadata": {
    "execution": {
     "iopub.execute_input": "2022-10-14T08:06:38.501184Z",
     "iopub.status.busy": "2022-10-14T08:06:38.500514Z",
     "iopub.status.idle": "2022-10-14T08:06:38.507057Z",
     "shell.execute_reply": "2022-10-14T08:06:38.506096Z"
    },
    "papermill": {
     "duration": 0.018237,
     "end_time": "2022-10-14T08:06:38.509208",
     "exception": false,
     "start_time": "2022-10-14T08:06:38.490971",
     "status": "completed"
    },
    "tags": []
   },
   "outputs": [
    {
     "data": {
      "text/plain": [
       "4622"
      ]
     },
     "execution_count": 10,
     "metadata": {},
     "output_type": "execute_result"
    }
   ],
   "source": [
    "Fire=museum_data['Firehouse Museum'].loc['2018-10-01']\n",
    "Fire"
   ]
  },
  {
   "cell_type": "code",
   "execution_count": 11,
   "id": "1ece36d0",
   "metadata": {
    "execution": {
     "iopub.execute_input": "2022-10-14T08:06:38.526923Z",
     "iopub.status.busy": "2022-10-14T08:06:38.526280Z",
     "iopub.status.idle": "2022-10-14T08:06:38.534894Z",
     "shell.execute_reply": "2022-10-14T08:06:38.534146Z"
    },
    "papermill": {
     "duration": 0.019756,
     "end_time": "2022-10-14T08:06:38.536883",
     "exception": false,
     "start_time": "2022-10-14T08:06:38.517127",
     "status": "completed"
    },
    "tags": []
   },
   "outputs": [
    {
     "data": {
      "application/javascript": [
       "parent.postMessage({\"jupyterEvent\": \"custom.exercise_interaction\", \"data\": {\"outcomeType\": 1, \"valueTowardsCompletion\": 0.3333333333333333, \"interactionType\": 1, \"questionType\": 1, \"questionId\": \"2_ReviewData\", \"learnToolsVersion\": \"0.3.4\", \"failureMessage\": \"\", \"exceptionClass\": \"\", \"trace\": \"\"}}, \"*\")"
      ],
      "text/plain": [
       "<IPython.core.display.Javascript object>"
      ]
     },
     "metadata": {},
     "output_type": "display_data"
    },
    {
     "data": {
      "text/markdown": [
       "<span style=\"color:#33cc33\">Correct</span>"
      ],
      "text/plain": [
       "Correct"
      ]
     },
     "metadata": {},
     "output_type": "display_data"
    }
   ],
   "source": [
    "# Fill in the line below: How many visitors did the Chinese American Museum \n",
    "# receive in July 2018?\n",
    "ca_museum_jul18 =museum_data['Chinese American Museum'].loc['2018-07-01']\n",
    "\n",
    "# Fill in the line below: In October 2018, how many more visitors did Avila \n",
    "# Adobe receive than the Firehouse Museum?\n",
    "avila_oct18 = Avila-Fire\n",
    "\n",
    "# Check your answers\n",
    "step_2.check()"
   ]
  },
  {
   "cell_type": "code",
   "execution_count": 12,
   "id": "a0670d41",
   "metadata": {
    "execution": {
     "iopub.execute_input": "2022-10-14T08:06:38.555012Z",
     "iopub.status.busy": "2022-10-14T08:06:38.554365Z",
     "iopub.status.idle": "2022-10-14T08:06:38.558561Z",
     "shell.execute_reply": "2022-10-14T08:06:38.557561Z"
    },
    "papermill": {
     "duration": 0.015911,
     "end_time": "2022-10-14T08:06:38.560763",
     "exception": false,
     "start_time": "2022-10-14T08:06:38.544852",
     "status": "completed"
    },
    "tags": []
   },
   "outputs": [],
   "source": [
    "# Lines below will give you a hint or solution code\n",
    "#step_2.hint()\n",
    "#step_2.solution()"
   ]
  },
  {
   "cell_type": "markdown",
   "id": "735a12fb",
   "metadata": {
    "papermill": {
     "duration": 0.01187,
     "end_time": "2022-10-14T08:06:38.581653",
     "exception": false,
     "start_time": "2022-10-14T08:06:38.569783",
     "status": "completed"
    },
    "tags": []
   },
   "source": [
    "## Step 3: Convince the museum board \n",
    "\n",
    "The Firehouse Museum claims they ran an event in 2014 that brought an incredible number of visitors, and that they should get extra budget to run a similar event again.  The other museums think these types of events aren't that important, and budgets should be split purely based on recent visitors on an average day.  \n",
    "\n",
    "To show the museum board how the event compared to regular traffic at each museum, create a line chart that shows how the number of visitors to each museum evolved over time.  Your figure should have four lines (one for each museum).\n",
    "\n",
    "> **(Optional) Note**: If you have some prior experience with plotting figures in Python, you might be familiar with the `plt.show()` command.  If you decide to use this command, please place it **after** the line of code that checks your answer (in this case, place it after `step_3.check()` below) -- otherwise, the checking code will return an error!"
   ]
  },
  {
   "cell_type": "code",
   "execution_count": 13,
   "id": "23023bbc",
   "metadata": {
    "execution": {
     "iopub.execute_input": "2022-10-14T08:06:38.604941Z",
     "iopub.status.busy": "2022-10-14T08:06:38.603895Z",
     "iopub.status.idle": "2022-10-14T08:06:39.084047Z",
     "shell.execute_reply": "2022-10-14T08:06:39.082911Z"
    },
    "papermill": {
     "duration": 0.496367,
     "end_time": "2022-10-14T08:06:39.087260",
     "exception": false,
     "start_time": "2022-10-14T08:06:38.590893",
     "status": "completed"
    },
    "tags": []
   },
   "outputs": [
    {
     "data": {
      "application/javascript": [
       "parent.postMessage({\"jupyterEvent\": \"custom.exercise_interaction\", \"data\": {\"outcomeType\": 1, \"valueTowardsCompletion\": 0.3333333333333333, \"interactionType\": 1, \"questionType\": 2, \"questionId\": \"3_PlotAll\", \"learnToolsVersion\": \"0.3.4\", \"failureMessage\": \"\", \"exceptionClass\": \"\", \"trace\": \"\"}}, \"*\")"
      ],
      "text/plain": [
       "<IPython.core.display.Javascript object>"
      ]
     },
     "metadata": {},
     "output_type": "display_data"
    },
    {
     "data": {
      "text/markdown": [
       "<span style=\"color:#33cc33\">Correct</span>"
      ],
      "text/plain": [
       "Correct"
      ]
     },
     "metadata": {},
     "output_type": "display_data"
    },
    {
     "data": {
      "image/png": "[encoded data removed]",
      "text/plain": [
       "<Figure size 1008x432 with 1 Axes>"
      ]
     },
     "metadata": {
      "needs_background": "light"
     },
     "output_type": "display_data"
    }
   ],
   "source": [
    "# Line chart showing the number of visitors to each museum over time\n",
    "plt.figure(figsize=(14,6))\n",
    "sns.lineplot(data=museum_data)\n",
    "plt.title(\"Monthly Visitors\")\n",
    " # Your code here\n",
    "\n",
    "# Check your answer\n",
    "step_3.check()"
   ]
  },
  {
   "cell_type": "code",
   "execution_count": 14,
   "id": "c0c83066",
   "metadata": {
    "execution": {
     "iopub.execute_input": "2022-10-14T08:06:39.109527Z",
     "iopub.status.busy": "2022-10-14T08:06:39.109102Z",
     "iopub.status.idle": "2022-10-14T08:06:39.113517Z",
     "shell.execute_reply": "2022-10-14T08:06:39.112586Z"
    },
    "papermill": {
     "duration": 0.018159,
     "end_time": "2022-10-14T08:06:39.116357",
     "exception": false,
     "start_time": "2022-10-14T08:06:39.098198",
     "status": "completed"
    },
    "tags": []
   },
   "outputs": [],
   "source": [
    "# Lines below will give you a hint or solution code\n",
    "#step_3.hint()\n",
    "#step_3.solution_plot()"
   ]
  },
  {
   "cell_type": "markdown",
   "id": "235b7728",
   "metadata": {
    "papermill": {
     "duration": 0.00926,
     "end_time": "2022-10-14T08:06:39.135280",
     "exception": false,
     "start_time": "2022-10-14T08:06:39.126020",
     "status": "completed"
    },
    "tags": []
   },
   "source": [
    "## Step 4: Assess seasonality\n",
    "\n",
    "When meeting with the employees at Avila Adobe, you hear that one major pain point is that the number of museum visitors varies greatly with the seasons, with low seasons (when the employees are perfectly staffed and happy) and also high seasons (when the employees are understaffed and stressed).  You realize that if you can predict these high and low seasons, you can plan ahead to hire some additional seasonal employees to help out with the extra work.\n",
    "\n",
    "#### Part A\n",
    "Create a line chart that shows how the number of visitors to Avila Adobe has evolved over time.  (_If your code returns an error, the first thing that you should check is that you've spelled the name of the column correctly!  You must write the name of the column exactly as it appears in the dataset._)"
   ]
  },
  {
   "cell_type": "code",
   "execution_count": 15,
   "id": "f229afc8",
   "metadata": {
    "execution": {
     "iopub.execute_input": "2022-10-14T08:06:39.156062Z",
     "iopub.status.busy": "2022-10-14T08:06:39.155682Z",
     "iopub.status.idle": "2022-10-14T08:06:39.162546Z",
     "shell.execute_reply": "2022-10-14T08:06:39.161504Z"
    },
    "papermill": {
     "duration": 0.020041,
     "end_time": "2022-10-14T08:06:39.164896",
     "exception": false,
     "start_time": "2022-10-14T08:06:39.144855",
     "status": "completed"
    },
    "tags": []
   },
   "outputs": [
    {
     "data": {
      "text/plain": [
       "Index(['Avila Adobe', 'Firehouse Museum', 'Chinese American Museum',\n",
       "       'America Tropical Interpretive Center'],\n",
       "      dtype='object')"
      ]
     },
     "execution_count": 15,
     "metadata": {},
     "output_type": "execute_result"
    }
   ],
   "source": [
    "museum_data.columns"
   ]
  },
  {
   "cell_type": "code",
   "execution_count": 16,
   "id": "410bf9fd",
   "metadata": {
    "execution": {
     "iopub.execute_input": "2022-10-14T08:06:39.186048Z",
     "iopub.status.busy": "2022-10-14T08:06:39.185664Z",
     "iopub.status.idle": "2022-10-14T08:06:39.506568Z",
     "shell.execute_reply": "2022-10-14T08:06:39.505629Z"
    },
    "papermill": {
     "duration": 0.334515,
     "end_time": "2022-10-14T08:06:39.509077",
     "exception": false,
     "start_time": "2022-10-14T08:06:39.174562",
     "status": "completed"
    },
    "tags": []
   },
   "outputs": [
    {
     "name": "stdout",
     "output_type": "stream",
     "text": [
      "Thank you for creating a line chart!  To see how your code compares to the official solution, please use the code cell below.\n"
     ]
    },
    {
     "data": {
      "application/javascript": [
       "parent.postMessage({\"jupyterEvent\": \"custom.exercise_interaction\", \"data\": {\"outcomeType\": 1, \"valueTowardsCompletion\": 0.3333333333333333, \"interactionType\": 1, \"questionType\": 2, \"questionId\": \"4.1_PlotAvila\", \"learnToolsVersion\": \"0.3.4\", \"failureMessage\": \"\", \"exceptionClass\": \"\", \"trace\": \"\"}}, \"*\")"
      ],
      "text/plain": [
       "<IPython.core.display.Javascript object>"
      ]
     },
     "metadata": {},
     "output_type": "display_data"
    },
    {
     "data": {
      "text/markdown": [
       "<span style=\"color:#33cc33\">Correct</span>"
      ],
      "text/plain": [
       "Correct"
      ]
     },
     "metadata": {},
     "output_type": "display_data"
    },
    {
     "data": {
      "image/png": "[encoded data removed]",
      "text/plain": [
       "<Figure size 1008x576 with 1 Axes>"
      ]
     },
     "metadata": {
      "needs_background": "light"
     },
     "output_type": "display_data"
    }
   ],
   "source": [
    "# Line plot showing the number of visitors to Avila Adobe over time\n",
    "plt.figure(figsize=(14,8))\n",
    "plt.title(\"number of visitors to Avila Adobe over time\")\n",
    "sns.lineplot(data=museum_data['Avila Adobe'])\n",
    "plt.xlabel(\"Date\")\n",
    "# Your code here\n",
    "\n",
    "# Check your answer\n",
    "step_4.a.check()"
   ]
  },
  {
   "cell_type": "code",
   "execution_count": 17,
   "id": "a9cbf71a",
   "metadata": {
    "execution": {
     "iopub.execute_input": "2022-10-14T08:06:39.534511Z",
     "iopub.status.busy": "2022-10-14T08:06:39.533513Z",
     "iopub.status.idle": "2022-10-14T08:06:39.538397Z",
     "shell.execute_reply": "2022-10-14T08:06:39.537340Z"
    },
    "papermill": {
     "duration": 0.020553,
     "end_time": "2022-10-14T08:06:39.540737",
     "exception": false,
     "start_time": "2022-10-14T08:06:39.520184",
     "status": "completed"
    },
    "tags": []
   },
   "outputs": [],
   "source": [
    "# Lines below will give you a hint or solution code\n",
    "#step_4.a.hint()\n",
    "#step_4.a.solution_plot()"
   ]
  },
  {
   "cell_type": "markdown",
   "id": "f2a59e17",
   "metadata": {
    "papermill": {
     "duration": 0.010187,
     "end_time": "2022-10-14T08:06:39.561884",
     "exception": false,
     "start_time": "2022-10-14T08:06:39.551697",
     "status": "completed"
    },
    "tags": []
   },
   "source": [
    "#### Part B\n",
    "\n",
    "Does Avila Adobe get more visitors:\n",
    "- in September-February (in LA, the fall and winter months), or \n",
    "- in March-August (in LA, the spring and summer)?  \n",
    "\n",
    "Using this information, when should the museum staff additional seasonal employees?"
   ]
  },
  {
   "cell_type": "code",
   "execution_count": 18,
   "id": "88ad7208",
   "metadata": {
    "execution": {
     "iopub.execute_input": "2022-10-14T08:06:39.587561Z",
     "iopub.status.busy": "2022-10-14T08:06:39.587143Z",
     "iopub.status.idle": "2022-10-14T08:06:39.591401Z",
     "shell.execute_reply": "2022-10-14T08:06:39.590355Z"
    },
    "papermill": {
     "duration": 0.019027,
     "end_time": "2022-10-14T08:06:39.593519",
     "exception": false,
     "start_time": "2022-10-14T08:06:39.574492",
     "status": "completed"
    },
    "tags": []
   },
   "outputs": [],
   "source": [
    "#step_4.b.hint()"
   ]
  },
  {
   "cell_type": "code",
   "execution_count": 19,
   "id": "1c2bbff4",
   "metadata": {
    "execution": {
     "iopub.execute_input": "2022-10-14T08:06:39.616844Z",
     "iopub.status.busy": "2022-10-14T08:06:39.616459Z",
     "iopub.status.idle": "2022-10-14T08:06:39.621342Z",
     "shell.execute_reply": "2022-10-14T08:06:39.620164Z"
    },
    "papermill": {
     "duration": 0.019283,
     "end_time": "2022-10-14T08:06:39.623602",
     "exception": false,
     "start_time": "2022-10-14T08:06:39.604319",
     "status": "completed"
    },
    "tags": []
   },
   "outputs": [],
   "source": [
    "# Check your answer (Run this code cell to receive credit!)\n",
    "#step_4.b.solution()"
   ]
  },
  {
   "cell_type": "markdown",
   "id": "7b0b4471",
   "metadata": {
    "papermill": {
     "duration": 0.010302,
     "end_time": "2022-10-14T08:06:39.645793",
     "exception": false,
     "start_time": "2022-10-14T08:06:39.635491",
     "status": "completed"
    },
    "tags": []
   },
   "source": [
    "# Keep going\n",
    "\n",
    "Move on to learn about **[bar charts and heatmaps](https://www.kaggle.com/alexisbcook/bar-charts-and-heatmaps)** with a new dataset!"
   ]
  },
  {
   "cell_type": "markdown",
   "id": "61c1bc32",
   "metadata": {
    "papermill": {
     "duration": 0.010378,
     "end_time": "2022-10-14T08:06:39.666811",
     "exception": false,
     "start_time": "2022-10-14T08:06:39.656433",
     "status": "completed"
    },
    "tags": []
   },
   "source": [
    "---\n",
    "\n",
    "\n",
    "\n",
    "\n",
    "*Have questions or comments? Visit the [course discussion forum](https://www.kaggle.com/learn/data-visualization/discussion) to chat with other learners.*"
   ]
  }
 ],
 "metadata": {
  "kernelspec": {
   "display_name": "Python 3",
   "language": "python",
   "name": "python3"
  },
  "language_info": {
   "codemirror_mode": {
    "name": "ipython",
    "version": 3
   },
   "file_extension": ".py",
   "mimetype": "text/x-python",
   "name": "python",
   "nbconvert_exporter": "python",
   "pygments_lexer": "ipython3",
   "version": "3.7.12"
  },
  "papermill": {
   "default_parameters": {},
   "duration": 11.852961,
   "end_time": "2022-10-14T08:06:40.399117",
   "environment_variables": {},
   "exception": null,
   "input_path": "__notebook__.ipynb",
   "output_path": "__notebook__.ipynb",
   "parameters": {},
   "start_time": "2022-10-14T08:06:28.546156",
   "version": "2.3.4"
  }
 },
 "nbformat": 4,
 "nbformat_minor": 5
}
