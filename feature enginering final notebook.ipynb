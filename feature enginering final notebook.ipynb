{
 "cells": [
  {
   "cell_type": "code",
   "execution_count": 1,
   "id": "18d17184",
   "metadata": {},
   "outputs": [],
   "source": [
    "import pandas as pd\n",
    "import numpy as np\n",
    "import matplotlib.pyplot as plt\n",
    "import seaborn as sns\n",
    "from sklearn.feature_selection import SelectKBest\n",
    "from sklearn.feature_selection import chi2\n",
    "import warnings\n",
    "warnings.filterwarnings(\"ignore\")"
   ]
  },
  {
   "cell_type": "code",
   "execution_count": 2,
   "id": "e9ffc8e1",
   "metadata": {},
   "outputs": [
    {
     "data": {
      "text/html": [
       "<div>\n",
       "<style scoped>\n",
       "    .dataframe tbody tr th:only-of-type {\n",
       "        vertical-align: middle;\n",
       "    }\n",
       "\n",
       "    .dataframe tbody tr th {\n",
       "        vertical-align: top;\n",
       "    }\n",
       "\n",
       "    .dataframe thead th {\n",
       "        text-align: right;\n",
       "    }\n",
       "</style>\n",
       "<table border=\"1\" class=\"dataframe\">\n",
       "  <thead>\n",
       "    <tr style=\"text-align: right;\">\n",
       "      <th></th>\n",
       "      <th>BidsPortfolioManager</th>\n",
       "      <th>BidsApi</th>\n",
       "      <th>BidsManual</th>\n",
       "      <th>NewCreditCustomer</th>\n",
       "      <th>VerificationType</th>\n",
       "      <th>LanguageCode</th>\n",
       "      <th>Age</th>\n",
       "      <th>Gender</th>\n",
       "      <th>Country</th>\n",
       "      <th>AppliedAmount</th>\n",
       "      <th>...</th>\n",
       "      <th>CreditScoreEsMicroL</th>\n",
       "      <th>PrincipalPaymentsMade</th>\n",
       "      <th>InterestAndPenaltyPaymentsMade</th>\n",
       "      <th>PrincipalBalance</th>\n",
       "      <th>InterestAndPenaltyBalance</th>\n",
       "      <th>NoOfPreviousLoansBeforeLoan</th>\n",
       "      <th>AmountOfPreviousLoansBeforeLoan</th>\n",
       "      <th>PreviousRepaymentsBeforeLoan</th>\n",
       "      <th>PreviousEarlyRepaymentsCountBeforeLoan</th>\n",
       "      <th>Target</th>\n",
       "    </tr>\n",
       "  </thead>\n",
       "  <tbody>\n",
       "    <tr>\n",
       "      <th>0</th>\n",
       "      <td>0</td>\n",
       "      <td>0</td>\n",
       "      <td>115.0410</td>\n",
       "      <td>True</td>\n",
       "      <td>2.0</td>\n",
       "      <td>1</td>\n",
       "      <td>61</td>\n",
       "      <td>1.0</td>\n",
       "      <td>EE</td>\n",
       "      <td>319.5582</td>\n",
       "      <td>...</td>\n",
       "      <td>NaN</td>\n",
       "      <td>115.0408</td>\n",
       "      <td>20.4222</td>\n",
       "      <td>0.00</td>\n",
       "      <td>0.00</td>\n",
       "      <td>1</td>\n",
       "      <td>83.0852</td>\n",
       "      <td>0.0000</td>\n",
       "      <td>0</td>\n",
       "      <td>1</td>\n",
       "    </tr>\n",
       "    <tr>\n",
       "      <th>1</th>\n",
       "      <td>0</td>\n",
       "      <td>0</td>\n",
       "      <td>140.6057</td>\n",
       "      <td>False</td>\n",
       "      <td>2.0</td>\n",
       "      <td>1</td>\n",
       "      <td>48</td>\n",
       "      <td>1.0</td>\n",
       "      <td>EE</td>\n",
       "      <td>191.7349</td>\n",
       "      <td>...</td>\n",
       "      <td>NaN</td>\n",
       "      <td>140.6057</td>\n",
       "      <td>2.0227</td>\n",
       "      <td>0.00</td>\n",
       "      <td>0.00</td>\n",
       "      <td>2</td>\n",
       "      <td>255.6467</td>\n",
       "      <td>258.6256</td>\n",
       "      <td>0</td>\n",
       "      <td>1</td>\n",
       "    </tr>\n",
       "    <tr>\n",
       "      <th>2</th>\n",
       "      <td>0</td>\n",
       "      <td>0</td>\n",
       "      <td>319.5580</td>\n",
       "      <td>True</td>\n",
       "      <td>2.0</td>\n",
       "      <td>1</td>\n",
       "      <td>58</td>\n",
       "      <td>1.0</td>\n",
       "      <td>EE</td>\n",
       "      <td>319.5582</td>\n",
       "      <td>...</td>\n",
       "      <td>NaN</td>\n",
       "      <td>203.1909</td>\n",
       "      <td>59.7626</td>\n",
       "      <td>116.35</td>\n",
       "      <td>414.07</td>\n",
       "      <td>0</td>\n",
       "      <td>0.0000</td>\n",
       "      <td>0.0000</td>\n",
       "      <td>0</td>\n",
       "      <td>1</td>\n",
       "    </tr>\n",
       "    <tr>\n",
       "      <th>3</th>\n",
       "      <td>0</td>\n",
       "      <td>0</td>\n",
       "      <td>57.5205</td>\n",
       "      <td>True</td>\n",
       "      <td>2.0</td>\n",
       "      <td>1</td>\n",
       "      <td>23</td>\n",
       "      <td>1.0</td>\n",
       "      <td>EE</td>\n",
       "      <td>127.8233</td>\n",
       "      <td>...</td>\n",
       "      <td>NaN</td>\n",
       "      <td>57.5205</td>\n",
       "      <td>18.7323</td>\n",
       "      <td>0.00</td>\n",
       "      <td>0.00</td>\n",
       "      <td>1</td>\n",
       "      <td>134.2144</td>\n",
       "      <td>0.0000</td>\n",
       "      <td>0</td>\n",
       "      <td>1</td>\n",
       "    </tr>\n",
       "    <tr>\n",
       "      <th>4</th>\n",
       "      <td>0</td>\n",
       "      <td>0</td>\n",
       "      <td>319.5582</td>\n",
       "      <td>True</td>\n",
       "      <td>2.0</td>\n",
       "      <td>1</td>\n",
       "      <td>25</td>\n",
       "      <td>1.0</td>\n",
       "      <td>EE</td>\n",
       "      <td>319.5582</td>\n",
       "      <td>...</td>\n",
       "      <td>NaN</td>\n",
       "      <td>319.5436</td>\n",
       "      <td>220.4200</td>\n",
       "      <td>0.00</td>\n",
       "      <td>0.00</td>\n",
       "      <td>1</td>\n",
       "      <td>146.9966</td>\n",
       "      <td>0.0000</td>\n",
       "      <td>0</td>\n",
       "      <td>1</td>\n",
       "    </tr>\n",
       "  </tbody>\n",
       "</table>\n",
       "<p>5 rows × 42 columns</p>\n",
       "</div>"
      ],
      "text/plain": [
       "   BidsPortfolioManager  BidsApi  BidsManual  NewCreditCustomer  \\\n",
       "0                     0        0    115.0410               True   \n",
       "1                     0        0    140.6057              False   \n",
       "2                     0        0    319.5580               True   \n",
       "3                     0        0     57.5205               True   \n",
       "4                     0        0    319.5582               True   \n",
       "\n",
       "   VerificationType LanguageCode  Age  Gender Country  AppliedAmount  ...  \\\n",
       "0               2.0            1   61     1.0      EE       319.5582  ...   \n",
       "1               2.0            1   48     1.0      EE       191.7349  ...   \n",
       "2               2.0            1   58     1.0      EE       319.5582  ...   \n",
       "3               2.0            1   23     1.0      EE       127.8233  ...   \n",
       "4               2.0            1   25     1.0      EE       319.5582  ...   \n",
       "\n",
       "   CreditScoreEsMicroL  PrincipalPaymentsMade  InterestAndPenaltyPaymentsMade  \\\n",
       "0                  NaN               115.0408                         20.4222   \n",
       "1                  NaN               140.6057                          2.0227   \n",
       "2                  NaN               203.1909                         59.7626   \n",
       "3                  NaN                57.5205                         18.7323   \n",
       "4                  NaN               319.5436                        220.4200   \n",
       "\n",
       "   PrincipalBalance InterestAndPenaltyBalance NoOfPreviousLoansBeforeLoan  \\\n",
       "0              0.00                      0.00                           1   \n",
       "1              0.00                      0.00                           2   \n",
       "2            116.35                    414.07                           0   \n",
       "3              0.00                      0.00                           1   \n",
       "4              0.00                      0.00                           1   \n",
       "\n",
       "  AmountOfPreviousLoansBeforeLoan PreviousRepaymentsBeforeLoan  \\\n",
       "0                         83.0852                       0.0000   \n",
       "1                        255.6467                     258.6256   \n",
       "2                          0.0000                       0.0000   \n",
       "3                        134.2144                       0.0000   \n",
       "4                        146.9966                       0.0000   \n",
       "\n",
       "  PreviousEarlyRepaymentsCountBeforeLoan Target  \n",
       "0                                      0      1  \n",
       "1                                      0      1  \n",
       "2                                      0      1  \n",
       "3                                      0      1  \n",
       "4                                      0      1  \n",
       "\n",
       "[5 rows x 42 columns]"
      ]
     },
     "execution_count": 2,
     "metadata": {},
     "output_type": "execute_result"
    }
   ],
   "source": [
    "df=pd.read_csv(\"C:\\\\Users\\\\ADMIN\\Desktop\\\\Bondora_preprocessed.csv\")\n",
    "df.head()"
   ]
  },
  {
   "cell_type": "code",
   "execution_count": 3,
   "id": "1dbc5d1a",
   "metadata": {},
   "outputs": [
    {
     "data": {
      "text/plain": [
       "Index(['BidsPortfolioManager', 'BidsApi', 'BidsManual', 'NewCreditCustomer',\n",
       "       'VerificationType', 'LanguageCode', 'Age', 'Gender', 'Country',\n",
       "       'AppliedAmount', 'Amount', 'Interest', 'LoanDuration', 'MonthlyPayment',\n",
       "       'County', 'City', 'UseOfLoan', 'Education', 'MaritalStatus',\n",
       "       'EmploymentStatus', 'EmploymentDurationCurrentEmployer',\n",
       "       'OccupationArea', 'HomeOwnershipType', 'IncomeTotal',\n",
       "       'ExistingLiabilities', 'LiabilitiesTotal', 'RefinanceLiabilities',\n",
       "       'DebtToIncome', 'FreeCash', 'MonthlyPaymentDay', 'Rating',\n",
       "       'Restructured', 'CreditScoreEsMicroL', 'PrincipalPaymentsMade',\n",
       "       'InterestAndPenaltyPaymentsMade', 'PrincipalBalance',\n",
       "       'InterestAndPenaltyBalance', 'NoOfPreviousLoansBeforeLoan',\n",
       "       'AmountOfPreviousLoansBeforeLoan', 'PreviousRepaymentsBeforeLoan',\n",
       "       'PreviousEarlyRepaymentsCountBeforeLoan', 'Target'],\n",
       "      dtype='object')"
      ]
     },
     "execution_count": 3,
     "metadata": {},
     "output_type": "execute_result"
    }
   ],
   "source": [
    "df.columns"
   ]
  },
  {
   "cell_type": "code",
   "execution_count": 4,
   "id": "a8480e9a",
   "metadata": {},
   "outputs": [],
   "source": [
    "df.drop(columns=[\"MonthlyPaymentDay\"],inplace=True)"
   ]
  },
  {
   "cell_type": "code",
   "execution_count": 5,
   "id": "19d6ecae",
   "metadata": {},
   "outputs": [
    {
     "data": {
      "text/html": [
       "<div>\n",
       "<style scoped>\n",
       "    .dataframe tbody tr th:only-of-type {\n",
       "        vertical-align: middle;\n",
       "    }\n",
       "\n",
       "    .dataframe tbody tr th {\n",
       "        vertical-align: top;\n",
       "    }\n",
       "\n",
       "    .dataframe thead th {\n",
       "        text-align: right;\n",
       "    }\n",
       "</style>\n",
       "<table border=\"1\" class=\"dataframe\">\n",
       "  <thead>\n",
       "    <tr style=\"text-align: right;\">\n",
       "      <th></th>\n",
       "      <th>BidsPortfolioManager</th>\n",
       "      <th>BidsApi</th>\n",
       "      <th>BidsManual</th>\n",
       "      <th>VerificationType</th>\n",
       "      <th>Age</th>\n",
       "      <th>Gender</th>\n",
       "      <th>AppliedAmount</th>\n",
       "      <th>Amount</th>\n",
       "      <th>Interest</th>\n",
       "      <th>LoanDuration</th>\n",
       "      <th>...</th>\n",
       "      <th>FreeCash</th>\n",
       "      <th>PrincipalPaymentsMade</th>\n",
       "      <th>InterestAndPenaltyPaymentsMade</th>\n",
       "      <th>PrincipalBalance</th>\n",
       "      <th>InterestAndPenaltyBalance</th>\n",
       "      <th>NoOfPreviousLoansBeforeLoan</th>\n",
       "      <th>AmountOfPreviousLoansBeforeLoan</th>\n",
       "      <th>PreviousRepaymentsBeforeLoan</th>\n",
       "      <th>PreviousEarlyRepaymentsCountBeforeLoan</th>\n",
       "      <th>Target</th>\n",
       "    </tr>\n",
       "  </thead>\n",
       "  <tbody>\n",
       "    <tr>\n",
       "      <th>count</th>\n",
       "      <td>134529.000000</td>\n",
       "      <td>134529.000000</td>\n",
       "      <td>134529.000000</td>\n",
       "      <td>134484.000000</td>\n",
       "      <td>134529.000000</td>\n",
       "      <td>134484.000000</td>\n",
       "      <td>134529.000000</td>\n",
       "      <td>134529.000000</td>\n",
       "      <td>134529.000000</td>\n",
       "      <td>134529.000000</td>\n",
       "      <td>...</td>\n",
       "      <td>134484.000000</td>\n",
       "      <td>134529.000000</td>\n",
       "      <td>134529.000000</td>\n",
       "      <td>134529.000000</td>\n",
       "      <td>134529.000000</td>\n",
       "      <td>134529.000000</td>\n",
       "      <td>134529.000000</td>\n",
       "      <td>91368.000000</td>\n",
       "      <td>134529.000000</td>\n",
       "      <td>134529.000000</td>\n",
       "    </tr>\n",
       "    <tr>\n",
       "      <th>mean</th>\n",
       "      <td>966.452876</td>\n",
       "      <td>29.111664</td>\n",
       "      <td>559.332590</td>\n",
       "      <td>2.817257</td>\n",
       "      <td>40.819295</td>\n",
       "      <td>0.442097</td>\n",
       "      <td>2727.947540</td>\n",
       "      <td>2543.872472</td>\n",
       "      <td>35.889583</td>\n",
       "      <td>46.151573</td>\n",
       "      <td>...</td>\n",
       "      <td>122.239119</td>\n",
       "      <td>761.476162</td>\n",
       "      <td>488.397102</td>\n",
       "      <td>1769.281104</td>\n",
       "      <td>701.567107</td>\n",
       "      <td>1.487620</td>\n",
       "      <td>2868.652401</td>\n",
       "      <td>928.395548</td>\n",
       "      <td>0.069903</td>\n",
       "      <td>0.576195</td>\n",
       "    </tr>\n",
       "    <tr>\n",
       "      <th>std</th>\n",
       "      <td>1355.686016</td>\n",
       "      <td>150.159148</td>\n",
       "      <td>750.360512</td>\n",
       "      <td>1.407908</td>\n",
       "      <td>12.348693</td>\n",
       "      <td>0.636083</td>\n",
       "      <td>2374.439168</td>\n",
       "      <td>2170.128183</td>\n",
       "      <td>26.288644</td>\n",
       "      <td>15.202688</td>\n",
       "      <td>...</td>\n",
       "      <td>692.480442</td>\n",
       "      <td>1371.557801</td>\n",
       "      <td>827.805133</td>\n",
       "      <td>2030.546309</td>\n",
       "      <td>2514.595572</td>\n",
       "      <td>2.396148</td>\n",
       "      <td>4507.046575</td>\n",
       "      <td>2042.348751</td>\n",
       "      <td>0.359461</td>\n",
       "      <td>0.494162</td>\n",
       "    </tr>\n",
       "    <tr>\n",
       "      <th>min</th>\n",
       "      <td>0.000000</td>\n",
       "      <td>0.000000</td>\n",
       "      <td>0.000000</td>\n",
       "      <td>0.000000</td>\n",
       "      <td>0.000000</td>\n",
       "      <td>0.000000</td>\n",
       "      <td>31.955800</td>\n",
       "      <td>6.390000</td>\n",
       "      <td>3.000000</td>\n",
       "      <td>1.000000</td>\n",
       "      <td>...</td>\n",
       "      <td>-2332.000000</td>\n",
       "      <td>0.000000</td>\n",
       "      <td>0.000000</td>\n",
       "      <td>-34.200000</td>\n",
       "      <td>-2.660000</td>\n",
       "      <td>0.000000</td>\n",
       "      <td>0.000000</td>\n",
       "      <td>0.000000</td>\n",
       "      <td>0.000000</td>\n",
       "      <td>0.000000</td>\n",
       "    </tr>\n",
       "    <tr>\n",
       "      <th>25%</th>\n",
       "      <td>155.000000</td>\n",
       "      <td>0.000000</td>\n",
       "      <td>96.000000</td>\n",
       "      <td>1.000000</td>\n",
       "      <td>31.000000</td>\n",
       "      <td>0.000000</td>\n",
       "      <td>800.000000</td>\n",
       "      <td>744.000000</td>\n",
       "      <td>20.000000</td>\n",
       "      <td>36.000000</td>\n",
       "      <td>...</td>\n",
       "      <td>0.000000</td>\n",
       "      <td>50.870000</td>\n",
       "      <td>44.930000</td>\n",
       "      <td>212.820000</td>\n",
       "      <td>0.000000</td>\n",
       "      <td>0.000000</td>\n",
       "      <td>0.000000</td>\n",
       "      <td>0.000000</td>\n",
       "      <td>0.000000</td>\n",
       "      <td>0.000000</td>\n",
       "    </tr>\n",
       "    <tr>\n",
       "      <th>50%</th>\n",
       "      <td>465.000000</td>\n",
       "      <td>0.000000</td>\n",
       "      <td>317.000000</td>\n",
       "      <td>4.000000</td>\n",
       "      <td>40.000000</td>\n",
       "      <td>0.000000</td>\n",
       "      <td>2125.000000</td>\n",
       "      <td>2125.000000</td>\n",
       "      <td>30.930000</td>\n",
       "      <td>48.000000</td>\n",
       "      <td>...</td>\n",
       "      <td>0.000000</td>\n",
       "      <td>208.100000</td>\n",
       "      <td>181.210000</td>\n",
       "      <td>1061.990000</td>\n",
       "      <td>0.000000</td>\n",
       "      <td>1.000000</td>\n",
       "      <td>396.354100</td>\n",
       "      <td>197.980000</td>\n",
       "      <td>0.000000</td>\n",
       "      <td>1.000000</td>\n",
       "    </tr>\n",
       "    <tr>\n",
       "      <th>75%</th>\n",
       "      <td>1218.000000</td>\n",
       "      <td>5.000000</td>\n",
       "      <td>729.000000</td>\n",
       "      <td>4.000000</td>\n",
       "      <td>50.000000</td>\n",
       "      <td>1.000000</td>\n",
       "      <td>4145.000000</td>\n",
       "      <td>3600.000000</td>\n",
       "      <td>40.400000</td>\n",
       "      <td>60.000000</td>\n",
       "      <td>...</td>\n",
       "      <td>1.630000</td>\n",
       "      <td>766.410000</td>\n",
       "      <td>568.530000</td>\n",
       "      <td>2636.330000</td>\n",
       "      <td>202.900000</td>\n",
       "      <td>2.000000</td>\n",
       "      <td>4250.000000</td>\n",
       "      <td>780.950000</td>\n",
       "      <td>0.000000</td>\n",
       "      <td>1.000000</td>\n",
       "    </tr>\n",
       "    <tr>\n",
       "      <th>max</th>\n",
       "      <td>10625.000000</td>\n",
       "      <td>7570.000000</td>\n",
       "      <td>10630.000000</td>\n",
       "      <td>4.000000</td>\n",
       "      <td>77.000000</td>\n",
       "      <td>2.000000</td>\n",
       "      <td>10632.000000</td>\n",
       "      <td>10632.000000</td>\n",
       "      <td>264.310000</td>\n",
       "      <td>60.000000</td>\n",
       "      <td>...</td>\n",
       "      <td>158748.640000</td>\n",
       "      <td>10632.000000</td>\n",
       "      <td>16873.000000</td>\n",
       "      <td>10632.000000</td>\n",
       "      <td>64494.770000</td>\n",
       "      <td>25.000000</td>\n",
       "      <td>53762.000000</td>\n",
       "      <td>34077.420000</td>\n",
       "      <td>11.000000</td>\n",
       "      <td>1.000000</td>\n",
       "    </tr>\n",
       "  </tbody>\n",
       "</table>\n",
       "<p>8 rows × 26 columns</p>\n",
       "</div>"
      ],
      "text/plain": [
       "       BidsPortfolioManager        BidsApi     BidsManual  VerificationType  \\\n",
       "count         134529.000000  134529.000000  134529.000000     134484.000000   \n",
       "mean             966.452876      29.111664     559.332590          2.817257   \n",
       "std             1355.686016     150.159148     750.360512          1.407908   \n",
       "min                0.000000       0.000000       0.000000          0.000000   \n",
       "25%              155.000000       0.000000      96.000000          1.000000   \n",
       "50%              465.000000       0.000000     317.000000          4.000000   \n",
       "75%             1218.000000       5.000000     729.000000          4.000000   \n",
       "max            10625.000000    7570.000000   10630.000000          4.000000   \n",
       "\n",
       "                 Age         Gender  AppliedAmount         Amount  \\\n",
       "count  134529.000000  134484.000000  134529.000000  134529.000000   \n",
       "mean       40.819295       0.442097    2727.947540    2543.872472   \n",
       "std        12.348693       0.636083    2374.439168    2170.128183   \n",
       "min         0.000000       0.000000      31.955800       6.390000   \n",
       "25%        31.000000       0.000000     800.000000     744.000000   \n",
       "50%        40.000000       0.000000    2125.000000    2125.000000   \n",
       "75%        50.000000       1.000000    4145.000000    3600.000000   \n",
       "max        77.000000       2.000000   10632.000000   10632.000000   \n",
       "\n",
       "            Interest   LoanDuration  ...       FreeCash  \\\n",
       "count  134529.000000  134529.000000  ...  134484.000000   \n",
       "mean       35.889583      46.151573  ...     122.239119   \n",
       "std        26.288644      15.202688  ...     692.480442   \n",
       "min         3.000000       1.000000  ...   -2332.000000   \n",
       "25%        20.000000      36.000000  ...       0.000000   \n",
       "50%        30.930000      48.000000  ...       0.000000   \n",
       "75%        40.400000      60.000000  ...       1.630000   \n",
       "max       264.310000      60.000000  ...  158748.640000   \n",
       "\n",
       "       PrincipalPaymentsMade  InterestAndPenaltyPaymentsMade  \\\n",
       "count          134529.000000                   134529.000000   \n",
       "mean              761.476162                      488.397102   \n",
       "std              1371.557801                      827.805133   \n",
       "min                 0.000000                        0.000000   \n",
       "25%                50.870000                       44.930000   \n",
       "50%               208.100000                      181.210000   \n",
       "75%               766.410000                      568.530000   \n",
       "max             10632.000000                    16873.000000   \n",
       "\n",
       "       PrincipalBalance  InterestAndPenaltyBalance  \\\n",
       "count     134529.000000              134529.000000   \n",
       "mean        1769.281104                 701.567107   \n",
       "std         2030.546309                2514.595572   \n",
       "min          -34.200000                  -2.660000   \n",
       "25%          212.820000                   0.000000   \n",
       "50%         1061.990000                   0.000000   \n",
       "75%         2636.330000                 202.900000   \n",
       "max        10632.000000               64494.770000   \n",
       "\n",
       "       NoOfPreviousLoansBeforeLoan  AmountOfPreviousLoansBeforeLoan  \\\n",
       "count                134529.000000                    134529.000000   \n",
       "mean                      1.487620                      2868.652401   \n",
       "std                       2.396148                      4507.046575   \n",
       "min                       0.000000                         0.000000   \n",
       "25%                       0.000000                         0.000000   \n",
       "50%                       1.000000                       396.354100   \n",
       "75%                       2.000000                      4250.000000   \n",
       "max                      25.000000                     53762.000000   \n",
       "\n",
       "       PreviousRepaymentsBeforeLoan  PreviousEarlyRepaymentsCountBeforeLoan  \\\n",
       "count                  91368.000000                           134529.000000   \n",
       "mean                     928.395548                                0.069903   \n",
       "std                     2042.348751                                0.359461   \n",
       "min                        0.000000                                0.000000   \n",
       "25%                        0.000000                                0.000000   \n",
       "50%                      197.980000                                0.000000   \n",
       "75%                      780.950000                                0.000000   \n",
       "max                    34077.420000                               11.000000   \n",
       "\n",
       "              Target  \n",
       "count  134529.000000  \n",
       "mean        0.576195  \n",
       "std         0.494162  \n",
       "min         0.000000  \n",
       "25%         0.000000  \n",
       "50%         1.000000  \n",
       "75%         1.000000  \n",
       "max         1.000000  \n",
       "\n",
       "[8 rows x 26 columns]"
      ]
     },
     "execution_count": 5,
     "metadata": {},
     "output_type": "execute_result"
    }
   ],
   "source": [
    "df.describe()"
   ]
  },
  {
   "cell_type": "code",
   "execution_count": 6,
   "id": "92ada431",
   "metadata": {},
   "outputs": [],
   "source": [
    "num_lst=df.describe().columns.to_list()\n",
    "num_lst.remove('Target')\n",
    "num_lst.remove('VerificationType')\n",
    "num_lst.remove('Gender')"
   ]
  },
  {
   "cell_type": "code",
   "execution_count": 7,
   "id": "a294e269",
   "metadata": {},
   "outputs": [],
   "source": [
    "def changetype(lst):\n",
    "    for i in lst:\n",
    "        df[i]=df[i].astype(\"category\")\n",
    "        "
   ]
  },
  {
   "cell_type": "code",
   "execution_count": 8,
   "id": "d949b8d9",
   "metadata": {},
   "outputs": [],
   "source": [
    "lst=['Target','CreditScoreEsMicroL','Rating','Country','UseOfLoan','Education','MaritalStatus','EmploymentStatus',\n",
    "    'EmploymentDurationCurrentEmployer','OccupationArea','HomeOwnershipType','LanguageCode','VerificationType','Gender']\n",
    "changetype(lst)"
   ]
  },
  {
   "cell_type": "code",
   "execution_count": 9,
   "id": "c6ce6758",
   "metadata": {},
   "outputs": [],
   "source": [
    "# seprating independent and dependent features\n",
    "x=df.drop(columns=['Target'])\n",
    "y=df['Target']"
   ]
  },
  {
   "cell_type": "code",
   "execution_count": 10,
   "id": "bf0578a6",
   "metadata": {},
   "outputs": [
    {
     "data": {
      "text/plain": [
       "((134529, 40), (134529,))"
      ]
     },
     "execution_count": 10,
     "metadata": {},
     "output_type": "execute_result"
    }
   ],
   "source": [
    "# checking the shape \n",
    "x.shape , y.shape"
   ]
  },
  {
   "cell_type": "code",
   "execution_count": 11,
   "id": "48a8c572",
   "metadata": {},
   "outputs": [
    {
     "name": "stdout",
     "output_type": "stream",
     "text": [
      "(107623, 40) (107623,)\n",
      "(26906, 40) (26906,)\n"
     ]
    }
   ],
   "source": [
    "# with sklearn modules splitting data into train and test set\n",
    "from sklearn.model_selection import train_test_split\n",
    "x_train , x_test ,y_train ,y_test = train_test_split(x,y,test_size=0.20,stratify=y,random_state=42)\n",
    "print(x_train.shape ,y_train.shape)\n",
    "print(x_test.shape , y_test.shape)"
   ]
  },
  {
   "cell_type": "code",
   "execution_count": 12,
   "id": "c6496bb8",
   "metadata": {},
   "outputs": [],
   "source": [
    "# making a function to plot box and distribution plot\n",
    "def outlierplot(feature):\n",
    "    fig, (ax1,ax2) = plt.subplots(1, 2, figsize=(15, 5))\n",
    "    sns.boxplot(x=x_train[feature],ax=ax1)\n",
    "    sns.distplot(x=x_train[feature] ,ax=ax2,hist=False)\n",
    "    plt.show()"
   ]
  },
  {
   "cell_type": "code",
   "execution_count": 13,
   "id": "6cddd721",
   "metadata": {},
   "outputs": [
    {
     "data": {
      "image/png": "[encoded data removed]",
      "text/plain": [
       "<Figure size 1080x360 with 2 Axes>"
      ]
     },
     "metadata": {
      "needs_background": "light"
     },
     "output_type": "display_data"
    }
   ],
   "source": [
    "# plotting for Age\n",
    "outlierplot('Age')"
   ]
  },
  {
   "cell_type": "code",
   "execution_count": 14,
   "id": "688282a2",
   "metadata": {},
   "outputs": [],
   "source": [
    "#Capping"
   ]
  },
  {
   "cell_type": "code",
   "execution_count": 15,
   "id": "51a949fd",
   "metadata": {},
   "outputs": [],
   "source": [
    "Q3=x_train[\"Age\"].quantile(0.75)\n",
    "Q1=x_train[\"Age\"].quantile(0.25)\n",
    "IQR=Q3-Q1\n",
    "ul=Q3+1.5*IQR\n",
    "ll=Q1-1.5*IQR\n"
   ]
  },
  {
   "cell_type": "code",
   "execution_count": 16,
   "id": "e10ef397",
   "metadata": {},
   "outputs": [],
   "source": [
    "x_train.loc[x_train['Age']<ll,\"Age\"]=ll"
   ]
  },
  {
   "cell_type": "code",
   "execution_count": 17,
   "id": "41760c65",
   "metadata": {},
   "outputs": [],
   "source": [
    "# definning a function to perform the imputation\n",
    "def capping(feature):\n",
    "    Q3=x_train[feature].quantile(0.75)\n",
    "    Q1=x_train[feature].quantile(0.25)\n",
    "    IQR=Q3-Q1\n",
    "    ul=Q3+1.5*IQR\n",
    "    ll=Q1-1.5*IQR\n",
    "    if x_train[feature].min() < ll:\n",
    "         x_train.loc[x_train[feature]<ll,feature]=ll\n",
    "    elif x_train[feature].max() > ul:\n",
    "         x_train.loc[x_train[feature]>ul,feature]=ul\n",
    "     \n",
    "    # returns box plot after imutation\n",
    "    x_train[feature].plot.box()\n",
    "        "
   ]
  },
  {
   "cell_type": "code",
   "execution_count": 18,
   "id": "937a45ce",
   "metadata": {},
   "outputs": [],
   "source": [
    "# made a function for plot box and distribution plot\n",
    "def outlierplot(feature):\n",
    "    fig, (ax1,ax2) = plt.subplots(1, 2, figsize=(15, 5))\n",
    "    sns.boxplot(x=x_train[feature],ax=ax1)\n",
    "    sns.distplot(x=x_train[feature] ,ax=ax2,hist=False)\n",
    "    plt.show()\n",
    "    "
   ]
  },
  {
   "cell_type": "code",
   "execution_count": 19,
   "id": "87e4c496",
   "metadata": {},
   "outputs": [
    {
     "data": {
      "image/png": "[encoded data removed]",
      "text/plain": [
       "<Figure size 1080x360 with 2 Axes>"
      ]
     },
     "metadata": {
      "needs_background": "light"
     },
     "output_type": "display_data"
    }
   ],
   "source": [
    "outlierplot(\"Age\")"
   ]
  },
  {
   "cell_type": "code",
   "execution_count": 20,
   "id": "f0b27bf9",
   "metadata": {},
   "outputs": [
    {
     "data": {
      "image/png": "[encoded data removed]",
      "text/plain": [
       "<Figure size 432x288 with 1 Axes>"
      ]
     },
     "metadata": {
      "needs_background": "light"
     },
     "output_type": "display_data"
    }
   ],
   "source": [
    "capping('Age')"
   ]
  },
  {
   "cell_type": "code",
   "execution_count": 21,
   "id": "447a14a1",
   "metadata": {},
   "outputs": [
    {
     "data": {
      "image/png": "[encoded data removed]",
      "text/plain": [
       "<Figure size 1080x360 with 2 Axes>"
      ]
     },
     "metadata": {
      "needs_background": "light"
     },
     "output_type": "display_data"
    }
   ],
   "source": [
    "outlierplot(\"LoanDuration\")"
   ]
  },
  {
   "cell_type": "code",
   "execution_count": 22,
   "id": "4ae5ad1b",
   "metadata": {},
   "outputs": [
    {
     "data": {
      "image/png": "[encoded data removed]",
      "text/plain": [
       "<Figure size 1080x360 with 2 Axes>"
      ]
     },
     "metadata": {
      "needs_background": "light"
     },
     "output_type": "display_data"
    }
   ],
   "source": [
    "outlierplot(\"BidsPortfolioManager\")"
   ]
  },
  {
   "cell_type": "code",
   "execution_count": 23,
   "id": "bd44f5fb",
   "metadata": {},
   "outputs": [
    {
     "data": {
      "image/png": "[encoded data removed]",
      "text/plain": [
       "<Figure size 1080x360 with 2 Axes>"
      ]
     },
     "metadata": {
      "needs_background": "light"
     },
     "output_type": "display_data"
    }
   ],
   "source": [
    "outlierplot(\"BidsApi\")"
   ]
  },
  {
   "cell_type": "code",
   "execution_count": 24,
   "id": "595e94d5",
   "metadata": {},
   "outputs": [],
   "source": [
    "df=pd.read_csv(\"C:\\\\Users\\\\ADMIN\\Desktop\\\\Bondora_preprocessed.csv\",usecols=[\"BidsPortfolioManager\",\"BidsApi\",\"Age\",\"LoanDuration\",\"ExistingLiabilities\",\"RefinanceLiabilities\",\"Target\",\"MonthlyPaymentDay\",\"NoOfPreviousLoansBeforeLoan\",\"PreviousEarlyRepaymentsCountBeforeLoan\"])"
   ]
  },
  {
   "cell_type": "code",
   "execution_count": 25,
   "id": "323a3dfa",
   "metadata": {},
   "outputs": [
    {
     "data": {
      "text/html": [
       "<div>\n",
       "<style scoped>\n",
       "    .dataframe tbody tr th:only-of-type {\n",
       "        vertical-align: middle;\n",
       "    }\n",
       "\n",
       "    .dataframe tbody tr th {\n",
       "        vertical-align: top;\n",
       "    }\n",
       "\n",
       "    .dataframe thead th {\n",
       "        text-align: right;\n",
       "    }\n",
       "</style>\n",
       "<table border=\"1\" class=\"dataframe\">\n",
       "  <thead>\n",
       "    <tr style=\"text-align: right;\">\n",
       "      <th></th>\n",
       "      <th>BidsPortfolioManager</th>\n",
       "      <th>BidsApi</th>\n",
       "      <th>Age</th>\n",
       "      <th>LoanDuration</th>\n",
       "      <th>ExistingLiabilities</th>\n",
       "      <th>RefinanceLiabilities</th>\n",
       "      <th>MonthlyPaymentDay</th>\n",
       "      <th>NoOfPreviousLoansBeforeLoan</th>\n",
       "      <th>PreviousEarlyRepaymentsCountBeforeLoan</th>\n",
       "      <th>Target</th>\n",
       "    </tr>\n",
       "  </thead>\n",
       "  <tbody>\n",
       "    <tr>\n",
       "      <th>0</th>\n",
       "      <td>0</td>\n",
       "      <td>0</td>\n",
       "      <td>61</td>\n",
       "      <td>12</td>\n",
       "      <td>0</td>\n",
       "      <td>0</td>\n",
       "      <td>25</td>\n",
       "      <td>1</td>\n",
       "      <td>0</td>\n",
       "      <td>1</td>\n",
       "    </tr>\n",
       "    <tr>\n",
       "      <th>1</th>\n",
       "      <td>0</td>\n",
       "      <td>0</td>\n",
       "      <td>48</td>\n",
       "      <td>1</td>\n",
       "      <td>0</td>\n",
       "      <td>0</td>\n",
       "      <td>15</td>\n",
       "      <td>2</td>\n",
       "      <td>0</td>\n",
       "      <td>1</td>\n",
       "    </tr>\n",
       "    <tr>\n",
       "      <th>2</th>\n",
       "      <td>0</td>\n",
       "      <td>0</td>\n",
       "      <td>58</td>\n",
       "      <td>20</td>\n",
       "      <td>0</td>\n",
       "      <td>0</td>\n",
       "      <td>25</td>\n",
       "      <td>0</td>\n",
       "      <td>0</td>\n",
       "      <td>1</td>\n",
       "    </tr>\n",
       "    <tr>\n",
       "      <th>3</th>\n",
       "      <td>0</td>\n",
       "      <td>0</td>\n",
       "      <td>23</td>\n",
       "      <td>15</td>\n",
       "      <td>0</td>\n",
       "      <td>0</td>\n",
       "      <td>15</td>\n",
       "      <td>1</td>\n",
       "      <td>0</td>\n",
       "      <td>1</td>\n",
       "    </tr>\n",
       "    <tr>\n",
       "      <th>4</th>\n",
       "      <td>0</td>\n",
       "      <td>0</td>\n",
       "      <td>25</td>\n",
       "      <td>12</td>\n",
       "      <td>0</td>\n",
       "      <td>0</td>\n",
       "      <td>25</td>\n",
       "      <td>1</td>\n",
       "      <td>0</td>\n",
       "      <td>1</td>\n",
       "    </tr>\n",
       "  </tbody>\n",
       "</table>\n",
       "</div>"
      ],
      "text/plain": [
       "   BidsPortfolioManager  BidsApi  Age  LoanDuration  ExistingLiabilities  \\\n",
       "0                     0        0   61            12                    0   \n",
       "1                     0        0   48             1                    0   \n",
       "2                     0        0   58            20                    0   \n",
       "3                     0        0   23            15                    0   \n",
       "4                     0        0   25            12                    0   \n",
       "\n",
       "   RefinanceLiabilities  MonthlyPaymentDay  NoOfPreviousLoansBeforeLoan  \\\n",
       "0                     0                 25                            1   \n",
       "1                     0                 15                            2   \n",
       "2                     0                 25                            0   \n",
       "3                     0                 15                            1   \n",
       "4                     0                 25                            1   \n",
       "\n",
       "   PreviousEarlyRepaymentsCountBeforeLoan  Target  \n",
       "0                                       0       1  \n",
       "1                                       0       1  \n",
       "2                                       0       1  \n",
       "3                                       0       1  \n",
       "4                                       0       1  "
      ]
     },
     "execution_count": 25,
     "metadata": {},
     "output_type": "execute_result"
    }
   ],
   "source": [
    "df.head()"
   ]
  },
  {
   "cell_type": "markdown",
   "id": "cd0feaf4",
   "metadata": {},
   "source": [
    "# Handle Categorical Feature with one hot encoding method\n"
   ]
  },
  {
   "cell_type": "code",
   "execution_count": 26,
   "id": "188cda7b",
   "metadata": {},
   "outputs": [],
   "source": [
    "#df[\"Target\"].unique()"
   ]
  },
  {
   "cell_type": "code",
   "execution_count": 27,
   "id": "6184fd1b",
   "metadata": {},
   "outputs": [
    {
     "data": {
      "text/plain": [
       "array([   0, 3110, 1200, ..., 4274, 2974, 5530], dtype=int64)"
      ]
     },
     "execution_count": 27,
     "metadata": {},
     "output_type": "execute_result"
    }
   ],
   "source": [
    "df[\"BidsPortfolioManager\"].unique()\n",
    "\n"
   ]
  },
  {
   "cell_type": "code",
   "execution_count": 28,
   "id": "79450959",
   "metadata": {},
   "outputs": [],
   "source": [
    "#tmp = pd.get_dummies(x_train['Age'])\n",
    "\n",
    "#tmp.head()"
   ]
  },
  {
   "cell_type": "code",
   "execution_count": 29,
   "id": "ce475aba",
   "metadata": {},
   "outputs": [
    {
     "data": {
      "text/plain": [
       "0       4535\n",
       "525      928\n",
       "500      890\n",
       "1000     702\n",
       "3000     635\n",
       "2000     635\n",
       "529      606\n",
       "530      599\n",
       "35       565\n",
       "55       546\n",
       "Name: BidsPortfolioManager, dtype: int64"
      ]
     },
     "execution_count": 29,
     "metadata": {},
     "output_type": "execute_result"
    }
   ],
   "source": [
    "df.BidsPortfolioManager.value_counts().sort_values(ascending=False).head(10)"
   ]
  },
  {
   "cell_type": "code",
   "execution_count": 30,
   "id": "b835fa4d",
   "metadata": {},
   "outputs": [],
   "source": [
    "bid_cat=df.Age.value_counts().sort_values(ascending=False).head(10).index\n",
    "bid_cat=list(bid_cat)\n"
   ]
  },
  {
   "cell_type": "code",
   "execution_count": 31,
   "id": "0b8c0d6a",
   "metadata": {},
   "outputs": [
    {
     "data": {
      "text/plain": [
       "[34, 29, 37, 31, 35, 30, 33, 38, 32, 36]"
      ]
     },
     "execution_count": 31,
     "metadata": {},
     "output_type": "execute_result"
    }
   ],
   "source": [
    "bid_cat"
   ]
  },
  {
   "cell_type": "code",
   "execution_count": 32,
   "id": "51ad3bc9",
   "metadata": {},
   "outputs": [],
   "source": [
    "\n",
    "import numpy as np\n",
    "for categories in bid_cat:\n",
    "    df[categories]=np.where(df['BidsPortfolioManager']==categories,1,0)\n"
   ]
  },
  {
   "cell_type": "code",
   "execution_count": 33,
   "id": "a46c4408",
   "metadata": {},
   "outputs": [],
   "source": [
    "#bid_cat.append('BidsPortfolioManager')\n",
    "#df[bid_cat]"
   ]
  },
  {
   "cell_type": "code",
   "execution_count": 34,
   "id": "fdc5ebf8",
   "metadata": {},
   "outputs": [
    {
     "data": {
      "text/plain": [
       "array([1, 0], dtype=int64)"
      ]
     },
     "execution_count": 34,
     "metadata": {},
     "output_type": "execute_result"
    }
   ],
   "source": [
    "df[\"Target\"].unique()\n"
   ]
  },
  {
   "cell_type": "code",
   "execution_count": 35,
   "id": "368e70f3",
   "metadata": {},
   "outputs": [
    {
     "data": {
      "text/plain": [
       "array([25, 15,  9,  3,  1, 10, 28, 24, 20, 23, 11, 18, 12,  5, 26, 22, 16,\n",
       "        2,  7, 13,  6, 21, 14, 19,  8, 27, 17,  4,  0], dtype=int64)"
      ]
     },
     "execution_count": 35,
     "metadata": {},
     "output_type": "execute_result"
    }
   ],
   "source": [
    "df[\"MonthlyPaymentDay\"].unique()"
   ]
  },
  {
   "cell_type": "code",
   "execution_count": 36,
   "id": "2487d652",
   "metadata": {},
   "outputs": [
    {
     "data": {
      "text/plain": [
       "array([25, 15,  9,  3,  1, 10, 28, 24, 20, 23, 11, 18, 12,  5, 26, 22, 16,\n",
       "        2,  7, 13,  6, 21, 14, 19,  8, 27, 17,  4,  0], dtype=int64)"
      ]
     },
     "execution_count": 36,
     "metadata": {},
     "output_type": "execute_result"
    }
   ],
   "source": [
    "df[\"MonthlyPaymentDay\"].unique()\n"
   ]
  },
  {
   "cell_type": "code",
   "execution_count": 37,
   "id": "0daeb62d",
   "metadata": {},
   "outputs": [
    {
     "name": "stdout",
     "output_type": "stream",
     "text": [
      "5730\n",
      "1002\n",
      "62\n",
      "31\n",
      "39\n",
      "21\n",
      "29\n",
      "26\n",
      "11\n",
      "2\n",
      "2\n",
      "2\n",
      "2\n",
      "2\n",
      "2\n",
      "2\n",
      "2\n",
      "2\n",
      "2\n",
      "2\n"
     ]
    }
   ],
   "source": [
    "for i in df.columns:\n",
    "    print(len(df[i].unique()))\n"
   ]
  },
  {
   "cell_type": "code",
   "execution_count": 38,
   "id": "b4afa579",
   "metadata": {},
   "outputs": [
    {
     "data": {
      "text/plain": [
       "10    13754\n",
       "15    12137\n",
       "1     11759\n",
       "13    10991\n",
       "3      9371\n",
       "8      8639\n",
       "18     8014\n",
       "4      6709\n",
       "5      6094\n",
       "11     5041\n",
       "Name: MonthlyPaymentDay, dtype: int64"
      ]
     },
     "execution_count": 38,
     "metadata": {},
     "output_type": "execute_result"
    }
   ],
   "source": [
    "df.MonthlyPaymentDay.value_counts().sort_values(ascending=False).head(10)\n"
   ]
  },
  {
   "cell_type": "code",
   "execution_count": 39,
   "id": "11c3b2d3",
   "metadata": {},
   "outputs": [],
   "source": [
    "#month_cat=df.MonthlyPaymentDay.value_counts().sort_values(ascending=False).head(10).index\n"
   ]
  },
  {
   "cell_type": "code",
   "execution_count": 40,
   "id": "0481ac0b",
   "metadata": {},
   "outputs": [],
   "source": [
    "#month_cat=list(month_cat)\n"
   ]
  },
  {
   "cell_type": "code",
   "execution_count": 41,
   "id": "893ce4b7",
   "metadata": {},
   "outputs": [],
   "source": [
    "#import numpy as np\n",
    "#for categories in month_cat:\n",
    "    #df[categories]=np.where(df['MonthlyPaymentDay']==categories,1,0)\n"
   ]
  },
  {
   "cell_type": "code",
   "execution_count": 42,
   "id": "e87eebae",
   "metadata": {},
   "outputs": [],
   "source": [
    "#month_cat.append('MonthlyPaymentDay')\n"
   ]
  },
  {
   "cell_type": "code",
   "execution_count": 43,
   "id": "a82f24df",
   "metadata": {},
   "outputs": [],
   "source": [
    "#df[month_cat]"
   ]
  },
  {
   "cell_type": "code",
   "execution_count": 44,
   "id": "eef73a84",
   "metadata": {},
   "outputs": [
    {
     "data": {
      "text/plain": [
       "array([ 1,  2,  0,  3,  4,  5,  9,  8,  7,  6, 11, 10, 13, 20, 12, 14, 15,\n",
       "       16, 17, 18, 19, 21, 22, 23, 24, 25], dtype=int64)"
      ]
     },
     "execution_count": 44,
     "metadata": {},
     "output_type": "execute_result"
    }
   ],
   "source": [
    "df[\"NoOfPreviousLoansBeforeLoan\"].unique()"
   ]
  },
  {
   "cell_type": "code",
   "execution_count": 45,
   "id": "b94a1135",
   "metadata": {},
   "outputs": [
    {
     "name": "stdout",
     "output_type": "stream",
     "text": [
      "5730\n",
      "1002\n",
      "62\n",
      "31\n",
      "39\n",
      "21\n",
      "29\n",
      "26\n",
      "11\n",
      "2\n",
      "2\n",
      "2\n",
      "2\n",
      "2\n",
      "2\n",
      "2\n",
      "2\n",
      "2\n",
      "2\n",
      "2\n"
     ]
    }
   ],
   "source": [
    "\n",
    "for i in df.columns:\n",
    "    print(len(df[i].unique()))\n"
   ]
  },
  {
   "cell_type": "code",
   "execution_count": 46,
   "id": "b656caf7",
   "metadata": {},
   "outputs": [
    {
     "data": {
      "text/plain": [
       "0    66653\n",
       "1    26449\n",
       "2    14257\n",
       "3     8383\n",
       "4     5542\n",
       "5     3836\n",
       "6     2698\n",
       "7     1958\n",
       "8     1424\n",
       "9     1018\n",
       "Name: NoOfPreviousLoansBeforeLoan, dtype: int64"
      ]
     },
     "execution_count": 46,
     "metadata": {},
     "output_type": "execute_result"
    }
   ],
   "source": [
    "df.NoOfPreviousLoansBeforeLoan.value_counts().sort_values(ascending=False).head(10)\n"
   ]
  },
  {
   "cell_type": "code",
   "execution_count": 47,
   "id": "26358b60",
   "metadata": {},
   "outputs": [],
   "source": [
    "nloan_cat=df.NoOfPreviousLoansBeforeLoan.value_counts().sort_values(ascending=False).head(10).index\n"
   ]
  },
  {
   "cell_type": "code",
   "execution_count": 48,
   "id": "90af19db",
   "metadata": {},
   "outputs": [],
   "source": [
    "nloan_cat=list(nloan_cat)\n"
   ]
  },
  {
   "cell_type": "code",
   "execution_count": 49,
   "id": "5427da0c",
   "metadata": {},
   "outputs": [],
   "source": [
    "import numpy as np\n",
    "for categories in nloan_cat:\n",
    "    df[categories]=np.where(df['NoOfPreviousLoansBeforeLoan']==categories,1,0)\n"
   ]
  },
  {
   "cell_type": "code",
   "execution_count": 50,
   "id": "18ade9f8",
   "metadata": {},
   "outputs": [],
   "source": [
    "nloan_cat.append('NoOfPreviousLoansBeforeLoan')"
   ]
  },
  {
   "cell_type": "code",
   "execution_count": 51,
   "id": "70d609d0",
   "metadata": {},
   "outputs": [
    {
     "data": {
      "text/html": [
       "<div>\n",
       "<style scoped>\n",
       "    .dataframe tbody tr th:only-of-type {\n",
       "        vertical-align: middle;\n",
       "    }\n",
       "\n",
       "    .dataframe tbody tr th {\n",
       "        vertical-align: top;\n",
       "    }\n",
       "\n",
       "    .dataframe thead th {\n",
       "        text-align: right;\n",
       "    }\n",
       "</style>\n",
       "<table border=\"1\" class=\"dataframe\">\n",
       "  <thead>\n",
       "    <tr style=\"text-align: right;\">\n",
       "      <th></th>\n",
       "      <th>0</th>\n",
       "      <th>1</th>\n",
       "      <th>2</th>\n",
       "      <th>3</th>\n",
       "      <th>4</th>\n",
       "      <th>5</th>\n",
       "      <th>6</th>\n",
       "      <th>7</th>\n",
       "      <th>8</th>\n",
       "      <th>9</th>\n",
       "      <th>NoOfPreviousLoansBeforeLoan</th>\n",
       "    </tr>\n",
       "  </thead>\n",
       "  <tbody>\n",
       "    <tr>\n",
       "      <th>0</th>\n",
       "      <td>0</td>\n",
       "      <td>1</td>\n",
       "      <td>0</td>\n",
       "      <td>0</td>\n",
       "      <td>0</td>\n",
       "      <td>0</td>\n",
       "      <td>0</td>\n",
       "      <td>0</td>\n",
       "      <td>0</td>\n",
       "      <td>0</td>\n",
       "      <td>1</td>\n",
       "    </tr>\n",
       "    <tr>\n",
       "      <th>1</th>\n",
       "      <td>0</td>\n",
       "      <td>0</td>\n",
       "      <td>1</td>\n",
       "      <td>0</td>\n",
       "      <td>0</td>\n",
       "      <td>0</td>\n",
       "      <td>0</td>\n",
       "      <td>0</td>\n",
       "      <td>0</td>\n",
       "      <td>0</td>\n",
       "      <td>2</td>\n",
       "    </tr>\n",
       "    <tr>\n",
       "      <th>2</th>\n",
       "      <td>1</td>\n",
       "      <td>0</td>\n",
       "      <td>0</td>\n",
       "      <td>0</td>\n",
       "      <td>0</td>\n",
       "      <td>0</td>\n",
       "      <td>0</td>\n",
       "      <td>0</td>\n",
       "      <td>0</td>\n",
       "      <td>0</td>\n",
       "      <td>0</td>\n",
       "    </tr>\n",
       "    <tr>\n",
       "      <th>3</th>\n",
       "      <td>0</td>\n",
       "      <td>1</td>\n",
       "      <td>0</td>\n",
       "      <td>0</td>\n",
       "      <td>0</td>\n",
       "      <td>0</td>\n",
       "      <td>0</td>\n",
       "      <td>0</td>\n",
       "      <td>0</td>\n",
       "      <td>0</td>\n",
       "      <td>1</td>\n",
       "    </tr>\n",
       "    <tr>\n",
       "      <th>4</th>\n",
       "      <td>0</td>\n",
       "      <td>1</td>\n",
       "      <td>0</td>\n",
       "      <td>0</td>\n",
       "      <td>0</td>\n",
       "      <td>0</td>\n",
       "      <td>0</td>\n",
       "      <td>0</td>\n",
       "      <td>0</td>\n",
       "      <td>0</td>\n",
       "      <td>1</td>\n",
       "    </tr>\n",
       "    <tr>\n",
       "      <th>...</th>\n",
       "      <td>...</td>\n",
       "      <td>...</td>\n",
       "      <td>...</td>\n",
       "      <td>...</td>\n",
       "      <td>...</td>\n",
       "      <td>...</td>\n",
       "      <td>...</td>\n",
       "      <td>...</td>\n",
       "      <td>...</td>\n",
       "      <td>...</td>\n",
       "      <td>...</td>\n",
       "    </tr>\n",
       "    <tr>\n",
       "      <th>134524</th>\n",
       "      <td>1</td>\n",
       "      <td>0</td>\n",
       "      <td>0</td>\n",
       "      <td>0</td>\n",
       "      <td>0</td>\n",
       "      <td>0</td>\n",
       "      <td>0</td>\n",
       "      <td>0</td>\n",
       "      <td>0</td>\n",
       "      <td>0</td>\n",
       "      <td>0</td>\n",
       "    </tr>\n",
       "    <tr>\n",
       "      <th>134525</th>\n",
       "      <td>0</td>\n",
       "      <td>1</td>\n",
       "      <td>0</td>\n",
       "      <td>0</td>\n",
       "      <td>0</td>\n",
       "      <td>0</td>\n",
       "      <td>0</td>\n",
       "      <td>0</td>\n",
       "      <td>0</td>\n",
       "      <td>0</td>\n",
       "      <td>1</td>\n",
       "    </tr>\n",
       "    <tr>\n",
       "      <th>134526</th>\n",
       "      <td>1</td>\n",
       "      <td>0</td>\n",
       "      <td>0</td>\n",
       "      <td>0</td>\n",
       "      <td>0</td>\n",
       "      <td>0</td>\n",
       "      <td>0</td>\n",
       "      <td>0</td>\n",
       "      <td>0</td>\n",
       "      <td>0</td>\n",
       "      <td>0</td>\n",
       "    </tr>\n",
       "    <tr>\n",
       "      <th>134527</th>\n",
       "      <td>0</td>\n",
       "      <td>1</td>\n",
       "      <td>0</td>\n",
       "      <td>0</td>\n",
       "      <td>0</td>\n",
       "      <td>0</td>\n",
       "      <td>0</td>\n",
       "      <td>0</td>\n",
       "      <td>0</td>\n",
       "      <td>0</td>\n",
       "      <td>1</td>\n",
       "    </tr>\n",
       "    <tr>\n",
       "      <th>134528</th>\n",
       "      <td>0</td>\n",
       "      <td>1</td>\n",
       "      <td>0</td>\n",
       "      <td>0</td>\n",
       "      <td>0</td>\n",
       "      <td>0</td>\n",
       "      <td>0</td>\n",
       "      <td>0</td>\n",
       "      <td>0</td>\n",
       "      <td>0</td>\n",
       "      <td>1</td>\n",
       "    </tr>\n",
       "  </tbody>\n",
       "</table>\n",
       "<p>134529 rows × 11 columns</p>\n",
       "</div>"
      ],
      "text/plain": [
       "        0  1  2  3  4  5  6  7  8  9  NoOfPreviousLoansBeforeLoan\n",
       "0       0  1  0  0  0  0  0  0  0  0                            1\n",
       "1       0  0  1  0  0  0  0  0  0  0                            2\n",
       "2       1  0  0  0  0  0  0  0  0  0                            0\n",
       "3       0  1  0  0  0  0  0  0  0  0                            1\n",
       "4       0  1  0  0  0  0  0  0  0  0                            1\n",
       "...    .. .. .. .. .. .. .. .. .. ..                          ...\n",
       "134524  1  0  0  0  0  0  0  0  0  0                            0\n",
       "134525  0  1  0  0  0  0  0  0  0  0                            1\n",
       "134526  1  0  0  0  0  0  0  0  0  0                            0\n",
       "134527  0  1  0  0  0  0  0  0  0  0                            1\n",
       "134528  0  1  0  0  0  0  0  0  0  0                            1\n",
       "\n",
       "[134529 rows x 11 columns]"
      ]
     },
     "execution_count": 51,
     "metadata": {},
     "output_type": "execute_result"
    }
   ],
   "source": [
    "df[nloan_cat]"
   ]
  },
  {
   "cell_type": "code",
   "execution_count": 52,
   "id": "ea3eb42b",
   "metadata": {},
   "outputs": [
    {
     "name": "stdout",
     "output_type": "stream",
     "text": [
      "(107623, 40) (107623,)\n",
      "(26906, 40) (26906,)\n"
     ]
    }
   ],
   "source": [
    "from sklearn.model_selection import train_test_split\n",
    "x_train , x_test ,y_train ,y_test = train_test_split(x,y,test_size=0.20,stratify=y,random_state=42)\n",
    "print(x_train.shape ,y_train.shape)\n",
    "print(x_test.shape , y_test.shape)\n"
   ]
  },
  {
   "cell_type": "code",
   "execution_count": 53,
   "id": "6ec504dc",
   "metadata": {},
   "outputs": [
    {
     "data": {
      "text/html": [
       "<div>\n",
       "<style scoped>\n",
       "    .dataframe tbody tr th:only-of-type {\n",
       "        vertical-align: middle;\n",
       "    }\n",
       "\n",
       "    .dataframe tbody tr th {\n",
       "        vertical-align: top;\n",
       "    }\n",
       "\n",
       "    .dataframe thead th {\n",
       "        text-align: right;\n",
       "    }\n",
       "</style>\n",
       "<table border=\"1\" class=\"dataframe\">\n",
       "  <thead>\n",
       "    <tr style=\"text-align: right;\">\n",
       "      <th></th>\n",
       "      <th>BidsApi</th>\n",
       "      <th>Age</th>\n",
       "      <th>LoanDuration</th>\n",
       "      <th>ExistingLiabilities</th>\n",
       "      <th>RefinanceLiabilities</th>\n",
       "      <th>MonthlyPaymentDay</th>\n",
       "      <th>NoOfPreviousLoansBeforeLoan</th>\n",
       "      <th>PreviousEarlyRepaymentsCountBeforeLoan</th>\n",
       "      <th>Target</th>\n",
       "      <th>34</th>\n",
       "      <th>...</th>\n",
       "      <th>0</th>\n",
       "      <th>1</th>\n",
       "      <th>2</th>\n",
       "      <th>3</th>\n",
       "      <th>4</th>\n",
       "      <th>5</th>\n",
       "      <th>6</th>\n",
       "      <th>7</th>\n",
       "      <th>8</th>\n",
       "      <th>9</th>\n",
       "    </tr>\n",
       "  </thead>\n",
       "  <tbody>\n",
       "    <tr>\n",
       "      <th>count</th>\n",
       "      <td>134529.000000</td>\n",
       "      <td>134529.000000</td>\n",
       "      <td>134529.000000</td>\n",
       "      <td>134529.000000</td>\n",
       "      <td>134529.000000</td>\n",
       "      <td>134529.000000</td>\n",
       "      <td>134529.000000</td>\n",
       "      <td>134529.000000</td>\n",
       "      <td>134529.000000</td>\n",
       "      <td>134529.000000</td>\n",
       "      <td>...</td>\n",
       "      <td>134529.000000</td>\n",
       "      <td>134529.000000</td>\n",
       "      <td>134529.000000</td>\n",
       "      <td>134529.000000</td>\n",
       "      <td>134529.000000</td>\n",
       "      <td>134529.000000</td>\n",
       "      <td>134529.000000</td>\n",
       "      <td>134529.000000</td>\n",
       "      <td>134529.000000</td>\n",
       "      <td>134529.000000</td>\n",
       "    </tr>\n",
       "    <tr>\n",
       "      <th>mean</th>\n",
       "      <td>29.111664</td>\n",
       "      <td>40.819295</td>\n",
       "      <td>46.151573</td>\n",
       "      <td>3.181797</td>\n",
       "      <td>0.187313</td>\n",
       "      <td>11.143188</td>\n",
       "      <td>1.487620</td>\n",
       "      <td>0.069903</td>\n",
       "      <td>0.576195</td>\n",
       "      <td>0.001018</td>\n",
       "      <td>...</td>\n",
       "      <td>0.495455</td>\n",
       "      <td>0.196604</td>\n",
       "      <td>0.105977</td>\n",
       "      <td>0.062314</td>\n",
       "      <td>0.041196</td>\n",
       "      <td>0.028514</td>\n",
       "      <td>0.020055</td>\n",
       "      <td>0.014554</td>\n",
       "      <td>0.010585</td>\n",
       "      <td>0.007567</td>\n",
       "    </tr>\n",
       "    <tr>\n",
       "      <th>std</th>\n",
       "      <td>150.159148</td>\n",
       "      <td>12.348693</td>\n",
       "      <td>15.202688</td>\n",
       "      <td>3.424242</td>\n",
       "      <td>0.896455</td>\n",
       "      <td>7.044104</td>\n",
       "      <td>2.396148</td>\n",
       "      <td>0.359461</td>\n",
       "      <td>0.494162</td>\n",
       "      <td>0.031896</td>\n",
       "      <td>...</td>\n",
       "      <td>0.499981</td>\n",
       "      <td>0.397432</td>\n",
       "      <td>0.307810</td>\n",
       "      <td>0.241725</td>\n",
       "      <td>0.198743</td>\n",
       "      <td>0.166437</td>\n",
       "      <td>0.140189</td>\n",
       "      <td>0.119761</td>\n",
       "      <td>0.102338</td>\n",
       "      <td>0.086660</td>\n",
       "    </tr>\n",
       "    <tr>\n",
       "      <th>min</th>\n",
       "      <td>0.000000</td>\n",
       "      <td>0.000000</td>\n",
       "      <td>1.000000</td>\n",
       "      <td>0.000000</td>\n",
       "      <td>0.000000</td>\n",
       "      <td>0.000000</td>\n",
       "      <td>0.000000</td>\n",
       "      <td>0.000000</td>\n",
       "      <td>0.000000</td>\n",
       "      <td>0.000000</td>\n",
       "      <td>...</td>\n",
       "      <td>0.000000</td>\n",
       "      <td>0.000000</td>\n",
       "      <td>0.000000</td>\n",
       "      <td>0.000000</td>\n",
       "      <td>0.000000</td>\n",
       "      <td>0.000000</td>\n",
       "      <td>0.000000</td>\n",
       "      <td>0.000000</td>\n",
       "      <td>0.000000</td>\n",
       "      <td>0.000000</td>\n",
       "    </tr>\n",
       "    <tr>\n",
       "      <th>25%</th>\n",
       "      <td>0.000000</td>\n",
       "      <td>31.000000</td>\n",
       "      <td>36.000000</td>\n",
       "      <td>1.000000</td>\n",
       "      <td>0.000000</td>\n",
       "      <td>5.000000</td>\n",
       "      <td>0.000000</td>\n",
       "      <td>0.000000</td>\n",
       "      <td>0.000000</td>\n",
       "      <td>0.000000</td>\n",
       "      <td>...</td>\n",
       "      <td>0.000000</td>\n",
       "      <td>0.000000</td>\n",
       "      <td>0.000000</td>\n",
       "      <td>0.000000</td>\n",
       "      <td>0.000000</td>\n",
       "      <td>0.000000</td>\n",
       "      <td>0.000000</td>\n",
       "      <td>0.000000</td>\n",
       "      <td>0.000000</td>\n",
       "      <td>0.000000</td>\n",
       "    </tr>\n",
       "    <tr>\n",
       "      <th>50%</th>\n",
       "      <td>0.000000</td>\n",
       "      <td>40.000000</td>\n",
       "      <td>48.000000</td>\n",
       "      <td>2.000000</td>\n",
       "      <td>0.000000</td>\n",
       "      <td>10.000000</td>\n",
       "      <td>1.000000</td>\n",
       "      <td>0.000000</td>\n",
       "      <td>1.000000</td>\n",
       "      <td>0.000000</td>\n",
       "      <td>...</td>\n",
       "      <td>0.000000</td>\n",
       "      <td>0.000000</td>\n",
       "      <td>0.000000</td>\n",
       "      <td>0.000000</td>\n",
       "      <td>0.000000</td>\n",
       "      <td>0.000000</td>\n",
       "      <td>0.000000</td>\n",
       "      <td>0.000000</td>\n",
       "      <td>0.000000</td>\n",
       "      <td>0.000000</td>\n",
       "    </tr>\n",
       "    <tr>\n",
       "      <th>75%</th>\n",
       "      <td>5.000000</td>\n",
       "      <td>50.000000</td>\n",
       "      <td>60.000000</td>\n",
       "      <td>5.000000</td>\n",
       "      <td>0.000000</td>\n",
       "      <td>15.000000</td>\n",
       "      <td>2.000000</td>\n",
       "      <td>0.000000</td>\n",
       "      <td>1.000000</td>\n",
       "      <td>0.000000</td>\n",
       "      <td>...</td>\n",
       "      <td>1.000000</td>\n",
       "      <td>0.000000</td>\n",
       "      <td>0.000000</td>\n",
       "      <td>0.000000</td>\n",
       "      <td>0.000000</td>\n",
       "      <td>0.000000</td>\n",
       "      <td>0.000000</td>\n",
       "      <td>0.000000</td>\n",
       "      <td>0.000000</td>\n",
       "      <td>0.000000</td>\n",
       "    </tr>\n",
       "    <tr>\n",
       "      <th>max</th>\n",
       "      <td>7570.000000</td>\n",
       "      <td>77.000000</td>\n",
       "      <td>60.000000</td>\n",
       "      <td>40.000000</td>\n",
       "      <td>23.000000</td>\n",
       "      <td>28.000000</td>\n",
       "      <td>25.000000</td>\n",
       "      <td>11.000000</td>\n",
       "      <td>1.000000</td>\n",
       "      <td>1.000000</td>\n",
       "      <td>...</td>\n",
       "      <td>1.000000</td>\n",
       "      <td>1.000000</td>\n",
       "      <td>1.000000</td>\n",
       "      <td>1.000000</td>\n",
       "      <td>1.000000</td>\n",
       "      <td>1.000000</td>\n",
       "      <td>1.000000</td>\n",
       "      <td>1.000000</td>\n",
       "      <td>1.000000</td>\n",
       "      <td>1.000000</td>\n",
       "    </tr>\n",
       "  </tbody>\n",
       "</table>\n",
       "<p>8 rows × 29 columns</p>\n",
       "</div>"
      ],
      "text/plain": [
       "             BidsApi            Age   LoanDuration  ExistingLiabilities  \\\n",
       "count  134529.000000  134529.000000  134529.000000        134529.000000   \n",
       "mean       29.111664      40.819295      46.151573             3.181797   \n",
       "std       150.159148      12.348693      15.202688             3.424242   \n",
       "min         0.000000       0.000000       1.000000             0.000000   \n",
       "25%         0.000000      31.000000      36.000000             1.000000   \n",
       "50%         0.000000      40.000000      48.000000             2.000000   \n",
       "75%         5.000000      50.000000      60.000000             5.000000   \n",
       "max      7570.000000      77.000000      60.000000            40.000000   \n",
       "\n",
       "       RefinanceLiabilities  MonthlyPaymentDay  NoOfPreviousLoansBeforeLoan  \\\n",
       "count         134529.000000      134529.000000                134529.000000   \n",
       "mean               0.187313          11.143188                     1.487620   \n",
       "std                0.896455           7.044104                     2.396148   \n",
       "min                0.000000           0.000000                     0.000000   \n",
       "25%                0.000000           5.000000                     0.000000   \n",
       "50%                0.000000          10.000000                     1.000000   \n",
       "75%                0.000000          15.000000                     2.000000   \n",
       "max               23.000000          28.000000                    25.000000   \n",
       "\n",
       "       PreviousEarlyRepaymentsCountBeforeLoan         Target             34  \\\n",
       "count                           134529.000000  134529.000000  134529.000000   \n",
       "mean                                 0.069903       0.576195       0.001018   \n",
       "std                                  0.359461       0.494162       0.031896   \n",
       "min                                  0.000000       0.000000       0.000000   \n",
       "25%                                  0.000000       0.000000       0.000000   \n",
       "50%                                  0.000000       1.000000       0.000000   \n",
       "75%                                  0.000000       1.000000       0.000000   \n",
       "max                                 11.000000       1.000000       1.000000   \n",
       "\n",
       "       ...              0              1              2              3  \\\n",
       "count  ...  134529.000000  134529.000000  134529.000000  134529.000000   \n",
       "mean   ...       0.495455       0.196604       0.105977       0.062314   \n",
       "std    ...       0.499981       0.397432       0.307810       0.241725   \n",
       "min    ...       0.000000       0.000000       0.000000       0.000000   \n",
       "25%    ...       0.000000       0.000000       0.000000       0.000000   \n",
       "50%    ...       0.000000       0.000000       0.000000       0.000000   \n",
       "75%    ...       1.000000       0.000000       0.000000       0.000000   \n",
       "max    ...       1.000000       1.000000       1.000000       1.000000   \n",
       "\n",
       "                   4              5              6              7  \\\n",
       "count  134529.000000  134529.000000  134529.000000  134529.000000   \n",
       "mean        0.041196       0.028514       0.020055       0.014554   \n",
       "std         0.198743       0.166437       0.140189       0.119761   \n",
       "min         0.000000       0.000000       0.000000       0.000000   \n",
       "25%         0.000000       0.000000       0.000000       0.000000   \n",
       "50%         0.000000       0.000000       0.000000       0.000000   \n",
       "75%         0.000000       0.000000       0.000000       0.000000   \n",
       "max         1.000000       1.000000       1.000000       1.000000   \n",
       "\n",
       "                   8              9  \n",
       "count  134529.000000  134529.000000  \n",
       "mean        0.010585       0.007567  \n",
       "std         0.102338       0.086660  \n",
       "min         0.000000       0.000000  \n",
       "25%         0.000000       0.000000  \n",
       "50%         0.000000       0.000000  \n",
       "75%         0.000000       0.000000  \n",
       "max         1.000000       1.000000  \n",
       "\n",
       "[8 rows x 29 columns]"
      ]
     },
     "execution_count": 53,
     "metadata": {},
     "output_type": "execute_result"
    }
   ],
   "source": [
    "df.iloc[:,1:].describe()"
   ]
  },
  {
   "cell_type": "code",
   "execution_count": 54,
   "id": "cc1056b0",
   "metadata": {},
   "outputs": [
    {
     "data": {
      "image/png": "[encoded data removed]",
      "text/plain": [
       "<Figure size 504x288 with 1 Axes>"
      ]
     },
     "metadata": {
      "needs_background": "light"
     },
     "output_type": "display_data"
    },
    {
     "data": {
      "image/png": "[encoded data removed]",
      "text/plain": [
       "<Figure size 504x288 with 1 Axes>"
      ]
     },
     "metadata": {
      "needs_background": "light"
     },
     "output_type": "display_data"
    },
    {
     "data": {
      "image/png": "[encoded data removed]",
      "text/plain": [
       "<Figure size 504x288 with 1 Axes>"
      ]
     },
     "metadata": {
      "needs_background": "light"
     },
     "output_type": "display_data"
    },
    {
     "data": {
      "image/png": "[encoded data removed]",
      "text/plain": [
       "<Figure size 504x288 with 1 Axes>"
      ]
     },
     "metadata": {
      "needs_background": "light"
     },
     "output_type": "display_data"
    },
    {
     "data": {
      "image/png": "[encoded data removed]",
      "text/plain": [
       "<Figure size 504x288 with 1 Axes>"
      ]
     },
     "metadata": {
      "needs_background": "light"
     },
     "output_type": "display_data"
    },
    {
     "data": {
      "image/png": "[encoded data removed]",
      "text/plain": [
       "<Figure size 504x288 with 1 Axes>"
      ]
     },
     "metadata": {
      "needs_background": "light"
     },
     "output_type": "display_data"
    },
    {
     "data": {
      "image/png": "[encoded data removed]",
      "text/plain": [
       "<Figure size 504x288 with 1 Axes>"
      ]
     },
     "metadata": {
      "needs_background": "light"
     },
     "output_type": "display_data"
    },
    {
     "data": {
      "image/png": "[encoded data removed]",
      "text/plain": [
       "<Figure size 504x288 with 1 Axes>"
      ]
     },
     "metadata": {
      "needs_background": "light"
     },
     "output_type": "display_data"
    },
    {
     "data": {
      "image/png": "[encoded data removed]",
      "text/plain": [
       "<Figure size 504x288 with 1 Axes>"
      ]
     },
     "metadata": {
      "needs_background": "light"
     },
     "output_type": "display_data"
    },
    {
     "data": {
      "image/png": "[encoded data removed]",
      "text/plain": [
       "<Figure size 504x288 with 1 Axes>"
      ]
     },
     "metadata": {
      "needs_background": "light"
     },
     "output_type": "display_data"
    },
    {
     "data": {
      "image/png": "[encoded data removed]",
      "text/plain": [
       "<Figure size 504x288 with 1 Axes>"
      ]
     },
     "metadata": {
      "needs_background": "light"
     },
     "output_type": "display_data"
    },
    {
     "data": {
      "image/png": "[encoded data removed]",
      "text/plain": [
       "<Figure size 504x288 with 1 Axes>"
      ]
     },
     "metadata": {
      "needs_background": "light"
     },
     "output_type": "display_data"
    },
    {
     "data": {
      "image/png": "[encoded data removed]",
      "text/plain": [
       "<Figure size 504x288 with 1 Axes>"
      ]
     },
     "metadata": {
      "needs_background": "light"
     },
     "output_type": "display_data"
    },
    {
     "data": {
      "image/png": "[encoded data removed]",
      "text/plain": [
       "<Figure size 504x288 with 1 Axes>"
      ]
     },
     "metadata": {
      "needs_background": "light"
     },
     "output_type": "display_data"
    },
    {
     "data": {
      "image/png": "[encoded data removed]",
      "text/plain": [
       "<Figure size 504x288 with 1 Axes>"
      ]
     },
     "metadata": {
      "needs_background": "light"
     },
     "output_type": "display_data"
    },
    {
     "data": {
      "image/png": "[encoded data removed]",
      "text/plain": [
       "<Figure size 504x288 with 1 Axes>"
      ]
     },
     "metadata": {
      "needs_background": "light"
     },
     "output_type": "display_data"
    },
    {
     "data": {
      "image/png": "[encoded data removed]",
      "text/plain": [
       "<Figure size 504x288 with 1 Axes>"
      ]
     },
     "metadata": {
      "needs_background": "light"
     },
     "output_type": "display_data"
    },
    {
     "data": {
      "image/png": "[encoded data removed]",
      "text/plain": [
       "<Figure size 504x288 with 1 Axes>"
      ]
     },
     "metadata": {
      "needs_background": "light"
     },
     "output_type": "display_data"
    },
    {
     "data": {
      "image/png": "[encoded data removed]",
      "text/plain": [
       "<Figure size 504x288 with 1 Axes>"
      ]
     },
     "metadata": {
      "needs_background": "light"
     },
     "output_type": "display_data"
    },
    {
     "data": {
      "image/png": "[encoded data removed]",
      "text/plain": [
       "<Figure size 504x288 with 1 Axes>"
      ]
     },
     "metadata": {
      "needs_background": "light"
     },
     "output_type": "display_data"
    },
    {
     "data": {
      "image/png": "[encoded data removed]",
      "text/plain": [
       "<Figure size 504x288 with 1 Axes>"
      ]
     },
     "metadata": {
      "needs_background": "light"
     },
     "output_type": "display_data"
    },
    {
     "data": {
      "image/png": "[encoded data removed]",
      "text/plain": [
       "<Figure size 504x288 with 1 Axes>"
      ]
     },
     "metadata": {
      "needs_background": "light"
     },
     "output_type": "display_data"
    },
    {
     "data": {
      "image/png": "[encoded data removed]",
      "text/plain": [
       "<Figure size 504x288 with 1 Axes>"
      ]
     },
     "metadata": {
      "needs_background": "light"
     },
     "output_type": "display_data"
    },
    {
     "data": {
      "image/png": "[encoded data removed]",
      "text/plain": [
       "<Figure size 504x288 with 1 Axes>"
      ]
     },
     "metadata": {
      "needs_background": "light"
     },
     "output_type": "display_data"
    },
    {
     "data": {
      "image/png": "[encoded data removed]",
      "text/plain": [
       "<Figure size 504x288 with 1 Axes>"
      ]
     },
     "metadata": {
      "needs_background": "light"
     },
     "output_type": "display_data"
    },
    {
     "data": {
      "image/png": "[encoded data removed]",
      "text/plain": [
       "<Figure size 504x288 with 1 Axes>"
      ]
     },
     "metadata": {
      "needs_background": "light"
     },
     "output_type": "display_data"
    },
    {
     "data": {
      "image/png": "[encoded data removed]",
      "text/plain": [
       "<Figure size 504x288 with 1 Axes>"
      ]
     },
     "metadata": {
      "needs_background": "light"
     },
     "output_type": "display_data"
    },
    {
     "data": {
      "image/png": "[encoded data removed]",
      "text/plain": [
       "<Figure size 504x288 with 1 Axes>"
      ]
     },
     "metadata": {
      "needs_background": "light"
     },
     "output_type": "display_data"
    },
    {
     "data": {
      "image/png": "[encoded data removed]",
      "text/plain": [
       "<Figure size 504x288 with 1 Axes>"
      ]
     },
     "metadata": {
      "needs_background": "light"
     },
     "output_type": "display_data"
    }
   ],
   "source": [
    "for c in df.columns[1:]:\n",
    "    df.boxplot(c,by='Target',figsize=(7,4),fontsize=14)\n",
    "    plt.title(\"{}\\n\".format(c),fontsize=16)\n",
    "    plt.xlabel(\"loan class\", fontsize=16)"
   ]
  },
  {
   "cell_type": "markdown",
   "id": "beeda705",
   "metadata": {},
   "source": [
    "# Principal Component Analysis\n",
    "#Data scaling"
   ]
  },
  {
   "cell_type": "code",
   "execution_count": 55,
   "id": "c997f4d7",
   "metadata": {},
   "outputs": [],
   "source": [
    "from sklearn.preprocessing import StandardScaler\n",
    "scaler = StandardScaler()"
   ]
  },
  {
   "cell_type": "code",
   "execution_count": 56,
   "id": "4c422635",
   "metadata": {},
   "outputs": [],
   "source": [
    "x=df.drop(columns=['Target'])\n",
    "y=df['Target']"
   ]
  },
  {
   "cell_type": "code",
   "execution_count": 57,
   "id": "27074531",
   "metadata": {},
   "outputs": [
    {
     "data": {
      "text/plain": [
       "array([1, 0], dtype=int64)"
      ]
     },
     "execution_count": 57,
     "metadata": {},
     "output_type": "execute_result"
    }
   ],
   "source": [
    "df[\"Target\"].unique()"
   ]
  },
  {
   "cell_type": "code",
   "execution_count": 58,
   "id": "27091844",
   "metadata": {},
   "outputs": [],
   "source": [
    "x = scaler.fit_transform(x)"
   ]
  },
  {
   "cell_type": "code",
   "execution_count": 59,
   "id": "5f270c37",
   "metadata": {},
   "outputs": [],
   "source": [
    "\n",
    "dfx = pd.DataFrame(data=x,columns=df.columns[1:])"
   ]
  },
  {
   "cell_type": "code",
   "execution_count": 60,
   "id": "161ca3e6",
   "metadata": {},
   "outputs": [
    {
     "data": {
      "text/html": [
       "<div>\n",
       "<style scoped>\n",
       "    .dataframe tbody tr th:only-of-type {\n",
       "        vertical-align: middle;\n",
       "    }\n",
       "\n",
       "    .dataframe tbody tr th {\n",
       "        vertical-align: top;\n",
       "    }\n",
       "\n",
       "    .dataframe thead th {\n",
       "        text-align: right;\n",
       "    }\n",
       "</style>\n",
       "<table border=\"1\" class=\"dataframe\">\n",
       "  <thead>\n",
       "    <tr style=\"text-align: right;\">\n",
       "      <th></th>\n",
       "      <th>BidsApi</th>\n",
       "      <th>Age</th>\n",
       "      <th>LoanDuration</th>\n",
       "      <th>ExistingLiabilities</th>\n",
       "      <th>RefinanceLiabilities</th>\n",
       "      <th>MonthlyPaymentDay</th>\n",
       "      <th>NoOfPreviousLoansBeforeLoan</th>\n",
       "      <th>PreviousEarlyRepaymentsCountBeforeLoan</th>\n",
       "      <th>Target</th>\n",
       "      <th>34</th>\n",
       "      <th>...</th>\n",
       "      <th>0</th>\n",
       "      <th>1</th>\n",
       "      <th>2</th>\n",
       "      <th>3</th>\n",
       "      <th>4</th>\n",
       "      <th>5</th>\n",
       "      <th>6</th>\n",
       "      <th>7</th>\n",
       "      <th>8</th>\n",
       "      <th>9</th>\n",
       "    </tr>\n",
       "  </thead>\n",
       "  <tbody>\n",
       "    <tr>\n",
       "      <th>0</th>\n",
       "      <td>-0.712891</td>\n",
       "      <td>-0.193873</td>\n",
       "      <td>1.634244</td>\n",
       "      <td>-2.246425</td>\n",
       "      <td>-0.929201</td>\n",
       "      <td>-0.208949</td>\n",
       "      <td>1.967158</td>\n",
       "      <td>-0.203502</td>\n",
       "      <td>-0.194467</td>\n",
       "      <td>-0.031928</td>\n",
       "      <td>...</td>\n",
       "      <td>-0.990950</td>\n",
       "      <td>2.021473</td>\n",
       "      <td>-0.344296</td>\n",
       "      <td>-0.257788</td>\n",
       "      <td>-0.207281</td>\n",
       "      <td>-0.171322</td>\n",
       "      <td>-0.143058</td>\n",
       "      <td>-0.12153</td>\n",
       "      <td>-0.103433</td>\n",
       "      <td>-0.08732</td>\n",
       "    </tr>\n",
       "    <tr>\n",
       "      <th>1</th>\n",
       "      <td>-0.712891</td>\n",
       "      <td>-0.193873</td>\n",
       "      <td>0.581497</td>\n",
       "      <td>-2.969984</td>\n",
       "      <td>-0.929201</td>\n",
       "      <td>-0.208949</td>\n",
       "      <td>0.547525</td>\n",
       "      <td>0.213836</td>\n",
       "      <td>-0.194467</td>\n",
       "      <td>-0.031928</td>\n",
       "      <td>...</td>\n",
       "      <td>-0.990950</td>\n",
       "      <td>-0.494689</td>\n",
       "      <td>2.904479</td>\n",
       "      <td>-0.257788</td>\n",
       "      <td>-0.207281</td>\n",
       "      <td>-0.171322</td>\n",
       "      <td>-0.143058</td>\n",
       "      <td>-0.12153</td>\n",
       "      <td>-0.103433</td>\n",
       "      <td>-0.08732</td>\n",
       "    </tr>\n",
       "    <tr>\n",
       "      <th>2</th>\n",
       "      <td>-0.712891</td>\n",
       "      <td>-0.193873</td>\n",
       "      <td>1.391303</td>\n",
       "      <td>-1.720200</td>\n",
       "      <td>-0.929201</td>\n",
       "      <td>-0.208949</td>\n",
       "      <td>1.967158</td>\n",
       "      <td>-0.620840</td>\n",
       "      <td>-0.194467</td>\n",
       "      <td>-0.031928</td>\n",
       "      <td>...</td>\n",
       "      <td>1.009133</td>\n",
       "      <td>-0.494689</td>\n",
       "      <td>-0.344296</td>\n",
       "      <td>-0.257788</td>\n",
       "      <td>-0.207281</td>\n",
       "      <td>-0.171322</td>\n",
       "      <td>-0.143058</td>\n",
       "      <td>-0.12153</td>\n",
       "      <td>-0.103433</td>\n",
       "      <td>-0.08732</td>\n",
       "    </tr>\n",
       "    <tr>\n",
       "      <th>3</th>\n",
       "      <td>-0.712891</td>\n",
       "      <td>-0.193873</td>\n",
       "      <td>-1.443016</td>\n",
       "      <td>-2.049091</td>\n",
       "      <td>-0.929201</td>\n",
       "      <td>-0.208949</td>\n",
       "      <td>0.547525</td>\n",
       "      <td>-0.203502</td>\n",
       "      <td>-0.194467</td>\n",
       "      <td>-0.031928</td>\n",
       "      <td>...</td>\n",
       "      <td>-0.990950</td>\n",
       "      <td>2.021473</td>\n",
       "      <td>-0.344296</td>\n",
       "      <td>-0.257788</td>\n",
       "      <td>-0.207281</td>\n",
       "      <td>-0.171322</td>\n",
       "      <td>-0.143058</td>\n",
       "      <td>-0.12153</td>\n",
       "      <td>-0.103433</td>\n",
       "      <td>-0.08732</td>\n",
       "    </tr>\n",
       "    <tr>\n",
       "      <th>4</th>\n",
       "      <td>-0.712891</td>\n",
       "      <td>-0.193873</td>\n",
       "      <td>-1.281055</td>\n",
       "      <td>-2.246425</td>\n",
       "      <td>-0.929201</td>\n",
       "      <td>-0.208949</td>\n",
       "      <td>1.967158</td>\n",
       "      <td>-0.203502</td>\n",
       "      <td>-0.194467</td>\n",
       "      <td>-0.031928</td>\n",
       "      <td>...</td>\n",
       "      <td>-0.990950</td>\n",
       "      <td>2.021473</td>\n",
       "      <td>-0.344296</td>\n",
       "      <td>-0.257788</td>\n",
       "      <td>-0.207281</td>\n",
       "      <td>-0.171322</td>\n",
       "      <td>-0.143058</td>\n",
       "      <td>-0.12153</td>\n",
       "      <td>-0.103433</td>\n",
       "      <td>-0.08732</td>\n",
       "    </tr>\n",
       "    <tr>\n",
       "      <th>5</th>\n",
       "      <td>-0.712891</td>\n",
       "      <td>-0.193873</td>\n",
       "      <td>-1.523997</td>\n",
       "      <td>-1.457088</td>\n",
       "      <td>-0.929201</td>\n",
       "      <td>-0.208949</td>\n",
       "      <td>-0.304254</td>\n",
       "      <td>0.631174</td>\n",
       "      <td>-0.194467</td>\n",
       "      <td>-0.031928</td>\n",
       "      <td>...</td>\n",
       "      <td>-0.990950</td>\n",
       "      <td>-0.494689</td>\n",
       "      <td>-0.344296</td>\n",
       "      <td>3.879154</td>\n",
       "      <td>-0.207281</td>\n",
       "      <td>-0.171322</td>\n",
       "      <td>-0.143058</td>\n",
       "      <td>-0.12153</td>\n",
       "      <td>-0.103433</td>\n",
       "      <td>-0.08732</td>\n",
       "    </tr>\n",
       "    <tr>\n",
       "      <th>6</th>\n",
       "      <td>-0.712891</td>\n",
       "      <td>-0.193873</td>\n",
       "      <td>0.500517</td>\n",
       "      <td>-1.720200</td>\n",
       "      <td>-0.929201</td>\n",
       "      <td>-0.208949</td>\n",
       "      <td>-1.156033</td>\n",
       "      <td>-0.203502</td>\n",
       "      <td>-0.194467</td>\n",
       "      <td>-0.031928</td>\n",
       "      <td>...</td>\n",
       "      <td>-0.990950</td>\n",
       "      <td>2.021473</td>\n",
       "      <td>-0.344296</td>\n",
       "      <td>-0.257788</td>\n",
       "      <td>-0.207281</td>\n",
       "      <td>-0.171322</td>\n",
       "      <td>-0.143058</td>\n",
       "      <td>-0.12153</td>\n",
       "      <td>-0.103433</td>\n",
       "      <td>-0.08732</td>\n",
       "    </tr>\n",
       "    <tr>\n",
       "      <th>7</th>\n",
       "      <td>-0.712891</td>\n",
       "      <td>-0.193873</td>\n",
       "      <td>-1.443016</td>\n",
       "      <td>-2.641094</td>\n",
       "      <td>-0.929201</td>\n",
       "      <td>-0.208949</td>\n",
       "      <td>-1.439960</td>\n",
       "      <td>0.631174</td>\n",
       "      <td>-0.194467</td>\n",
       "      <td>-0.031928</td>\n",
       "      <td>...</td>\n",
       "      <td>-0.990950</td>\n",
       "      <td>-0.494689</td>\n",
       "      <td>-0.344296</td>\n",
       "      <td>3.879154</td>\n",
       "      <td>-0.207281</td>\n",
       "      <td>-0.171322</td>\n",
       "      <td>-0.143058</td>\n",
       "      <td>-0.12153</td>\n",
       "      <td>-0.103433</td>\n",
       "      <td>-0.08732</td>\n",
       "    </tr>\n",
       "    <tr>\n",
       "      <th>8</th>\n",
       "      <td>-0.712891</td>\n",
       "      <td>-0.193873</td>\n",
       "      <td>-1.443016</td>\n",
       "      <td>-2.246425</td>\n",
       "      <td>-0.929201</td>\n",
       "      <td>-0.208949</td>\n",
       "      <td>-1.439960</td>\n",
       "      <td>1.048512</td>\n",
       "      <td>-0.194467</td>\n",
       "      <td>-0.031928</td>\n",
       "      <td>...</td>\n",
       "      <td>-0.990950</td>\n",
       "      <td>-0.494689</td>\n",
       "      <td>-0.344296</td>\n",
       "      <td>-0.257788</td>\n",
       "      <td>4.824360</td>\n",
       "      <td>-0.171322</td>\n",
       "      <td>-0.143058</td>\n",
       "      <td>-0.12153</td>\n",
       "      <td>-0.103433</td>\n",
       "      <td>-0.08732</td>\n",
       "    </tr>\n",
       "    <tr>\n",
       "      <th>9</th>\n",
       "      <td>-0.712891</td>\n",
       "      <td>-0.193873</td>\n",
       "      <td>-0.228308</td>\n",
       "      <td>-2.246425</td>\n",
       "      <td>-0.929201</td>\n",
       "      <td>-0.208949</td>\n",
       "      <td>-0.162291</td>\n",
       "      <td>-0.620840</td>\n",
       "      <td>-0.194467</td>\n",
       "      <td>-0.031928</td>\n",
       "      <td>...</td>\n",
       "      <td>1.009133</td>\n",
       "      <td>-0.494689</td>\n",
       "      <td>-0.344296</td>\n",
       "      <td>-0.257788</td>\n",
       "      <td>-0.207281</td>\n",
       "      <td>-0.171322</td>\n",
       "      <td>-0.143058</td>\n",
       "      <td>-0.12153</td>\n",
       "      <td>-0.103433</td>\n",
       "      <td>-0.08732</td>\n",
       "    </tr>\n",
       "  </tbody>\n",
       "</table>\n",
       "<p>10 rows × 29 columns</p>\n",
       "</div>"
      ],
      "text/plain": [
       "    BidsApi       Age  LoanDuration  ExistingLiabilities  \\\n",
       "0 -0.712891 -0.193873      1.634244            -2.246425   \n",
       "1 -0.712891 -0.193873      0.581497            -2.969984   \n",
       "2 -0.712891 -0.193873      1.391303            -1.720200   \n",
       "3 -0.712891 -0.193873     -1.443016            -2.049091   \n",
       "4 -0.712891 -0.193873     -1.281055            -2.246425   \n",
       "5 -0.712891 -0.193873     -1.523997            -1.457088   \n",
       "6 -0.712891 -0.193873      0.500517            -1.720200   \n",
       "7 -0.712891 -0.193873     -1.443016            -2.641094   \n",
       "8 -0.712891 -0.193873     -1.443016            -2.246425   \n",
       "9 -0.712891 -0.193873     -0.228308            -2.246425   \n",
       "\n",
       "   RefinanceLiabilities  MonthlyPaymentDay  NoOfPreviousLoansBeforeLoan  \\\n",
       "0             -0.929201          -0.208949                     1.967158   \n",
       "1             -0.929201          -0.208949                     0.547525   \n",
       "2             -0.929201          -0.208949                     1.967158   \n",
       "3             -0.929201          -0.208949                     0.547525   \n",
       "4             -0.929201          -0.208949                     1.967158   \n",
       "5             -0.929201          -0.208949                    -0.304254   \n",
       "6             -0.929201          -0.208949                    -1.156033   \n",
       "7             -0.929201          -0.208949                    -1.439960   \n",
       "8             -0.929201          -0.208949                    -1.439960   \n",
       "9             -0.929201          -0.208949                    -0.162291   \n",
       "\n",
       "   PreviousEarlyRepaymentsCountBeforeLoan    Target        34  ...         0  \\\n",
       "0                               -0.203502 -0.194467 -0.031928  ... -0.990950   \n",
       "1                                0.213836 -0.194467 -0.031928  ... -0.990950   \n",
       "2                               -0.620840 -0.194467 -0.031928  ...  1.009133   \n",
       "3                               -0.203502 -0.194467 -0.031928  ... -0.990950   \n",
       "4                               -0.203502 -0.194467 -0.031928  ... -0.990950   \n",
       "5                                0.631174 -0.194467 -0.031928  ... -0.990950   \n",
       "6                               -0.203502 -0.194467 -0.031928  ... -0.990950   \n",
       "7                                0.631174 -0.194467 -0.031928  ... -0.990950   \n",
       "8                                1.048512 -0.194467 -0.031928  ... -0.990950   \n",
       "9                               -0.620840 -0.194467 -0.031928  ...  1.009133   \n",
       "\n",
       "          1         2         3         4         5         6        7  \\\n",
       "0  2.021473 -0.344296 -0.257788 -0.207281 -0.171322 -0.143058 -0.12153   \n",
       "1 -0.494689  2.904479 -0.257788 -0.207281 -0.171322 -0.143058 -0.12153   \n",
       "2 -0.494689 -0.344296 -0.257788 -0.207281 -0.171322 -0.143058 -0.12153   \n",
       "3  2.021473 -0.344296 -0.257788 -0.207281 -0.171322 -0.143058 -0.12153   \n",
       "4  2.021473 -0.344296 -0.257788 -0.207281 -0.171322 -0.143058 -0.12153   \n",
       "5 -0.494689 -0.344296  3.879154 -0.207281 -0.171322 -0.143058 -0.12153   \n",
       "6  2.021473 -0.344296 -0.257788 -0.207281 -0.171322 -0.143058 -0.12153   \n",
       "7 -0.494689 -0.344296  3.879154 -0.207281 -0.171322 -0.143058 -0.12153   \n",
       "8 -0.494689 -0.344296 -0.257788  4.824360 -0.171322 -0.143058 -0.12153   \n",
       "9 -0.494689 -0.344296 -0.257788 -0.207281 -0.171322 -0.143058 -0.12153   \n",
       "\n",
       "          8        9  \n",
       "0 -0.103433 -0.08732  \n",
       "1 -0.103433 -0.08732  \n",
       "2 -0.103433 -0.08732  \n",
       "3 -0.103433 -0.08732  \n",
       "4 -0.103433 -0.08732  \n",
       "5 -0.103433 -0.08732  \n",
       "6 -0.103433 -0.08732  \n",
       "7 -0.103433 -0.08732  \n",
       "8 -0.103433 -0.08732  \n",
       "9 -0.103433 -0.08732  \n",
       "\n",
       "[10 rows x 29 columns]"
      ]
     },
     "execution_count": 60,
     "metadata": {},
     "output_type": "execute_result"
    }
   ],
   "source": [
    "dfx.head(10)"
   ]
  },
  {
   "cell_type": "markdown",
   "id": "258715d5",
   "metadata": {},
   "source": [
    "# PCA class import and analysis"
   ]
  },
  {
   "cell_type": "code",
   "execution_count": 61,
   "id": "81374f77",
   "metadata": {},
   "outputs": [],
   "source": [
    "from sklearn.decomposition import PCA\n",
    "pca = PCA(n_components=None)\n",
    "dfx_pca = pca.fit(dfx)"
   ]
  },
  {
   "cell_type": "code",
   "execution_count": 62,
   "id": "44a33dd7",
   "metadata": {},
   "outputs": [
    {
     "data": {
      "image/png": "[encoded data removed]",
      "text/plain": [
       "<Figure size 720x432 with 1 Axes>"
      ]
     },
     "metadata": {
      "needs_background": "light"
     },
     "output_type": "display_data"
    }
   ],
   "source": [
    "plt.figure(figsize=(10,6))\n",
    "plt.scatter(x=[i+1 for i in range(len(dfx_pca.explained_variance_ratio_))],\n",
    "            y=dfx_pca.explained_variance_ratio_,\n",
    "           s=200, alpha=0.75,c='orange',edgecolor='k')\n",
    "plt.grid(True)\n",
    "plt.title(\"Explained variance ratio of the \\nfitted principal component vector\\n\",fontsize=25)\n",
    "plt.xlabel(\"Principal components\",fontsize=15)\n",
    "plt.xticks([i+1 for i in range(len(dfx_pca.explained_variance_ratio_))],fontsize=15)\n",
    "plt.yticks(fontsize=15)\n",
    "plt.ylabel(\"Explained variance ratio\",fontsize=15)\n",
    "plt.show()\n"
   ]
  },
  {
   "cell_type": "markdown",
   "id": "d8383595",
   "metadata": {},
   "source": [
    "# Transform the scaled data set using the fitted PCA object"
   ]
  },
  {
   "cell_type": "code",
   "execution_count": 63,
   "id": "ae91b2a4",
   "metadata": {},
   "outputs": [
    {
     "data": {
      "text/html": [
       "<div>\n",
       "<style scoped>\n",
       "    .dataframe tbody tr th:only-of-type {\n",
       "        vertical-align: middle;\n",
       "    }\n",
       "\n",
       "    .dataframe tbody tr th {\n",
       "        vertical-align: top;\n",
       "    }\n",
       "\n",
       "    .dataframe thead th {\n",
       "        text-align: right;\n",
       "    }\n",
       "</style>\n",
       "<table border=\"1\" class=\"dataframe\">\n",
       "  <thead>\n",
       "    <tr style=\"text-align: right;\">\n",
       "      <th></th>\n",
       "      <th>0</th>\n",
       "      <th>1</th>\n",
       "      <th>2</th>\n",
       "      <th>3</th>\n",
       "      <th>4</th>\n",
       "      <th>5</th>\n",
       "      <th>6</th>\n",
       "      <th>7</th>\n",
       "      <th>8</th>\n",
       "      <th>9</th>\n",
       "      <th>...</th>\n",
       "      <th>19</th>\n",
       "      <th>20</th>\n",
       "      <th>21</th>\n",
       "      <th>22</th>\n",
       "      <th>23</th>\n",
       "      <th>24</th>\n",
       "      <th>25</th>\n",
       "      <th>26</th>\n",
       "      <th>27</th>\n",
       "      <th>28</th>\n",
       "    </tr>\n",
       "  </thead>\n",
       "  <tbody>\n",
       "    <tr>\n",
       "      <th>0</th>\n",
       "      <td>0.455009</td>\n",
       "      <td>-1.394678</td>\n",
       "      <td>1.923681</td>\n",
       "      <td>-0.605076</td>\n",
       "      <td>1.022127</td>\n",
       "      <td>-0.586566</td>\n",
       "      <td>-0.112396</td>\n",
       "      <td>0.050505</td>\n",
       "      <td>-0.141874</td>\n",
       "      <td>-0.472498</td>\n",
       "      <td>...</td>\n",
       "      <td>-0.105833</td>\n",
       "      <td>-0.106064</td>\n",
       "      <td>-1.172532</td>\n",
       "      <td>-0.196398</td>\n",
       "      <td>-0.193440</td>\n",
       "      <td>2.893187</td>\n",
       "      <td>0.136162</td>\n",
       "      <td>-0.607632</td>\n",
       "      <td>0.153116</td>\n",
       "      <td>-0.000744</td>\n",
       "    </tr>\n",
       "    <tr>\n",
       "      <th>1</th>\n",
       "      <td>0.780035</td>\n",
       "      <td>-1.414169</td>\n",
       "      <td>0.264195</td>\n",
       "      <td>2.906263</td>\n",
       "      <td>0.403252</td>\n",
       "      <td>-1.518127</td>\n",
       "      <td>-0.686472</td>\n",
       "      <td>0.463791</td>\n",
       "      <td>-0.001142</td>\n",
       "      <td>-0.820989</td>\n",
       "      <td>...</td>\n",
       "      <td>-0.070652</td>\n",
       "      <td>-0.144747</td>\n",
       "      <td>-1.114575</td>\n",
       "      <td>0.556496</td>\n",
       "      <td>0.494911</td>\n",
       "      <td>1.550177</td>\n",
       "      <td>-0.425530</td>\n",
       "      <td>-0.835494</td>\n",
       "      <td>0.139245</td>\n",
       "      <td>-0.002267</td>\n",
       "    </tr>\n",
       "    <tr>\n",
       "      <th>2</th>\n",
       "      <td>-0.934585</td>\n",
       "      <td>-0.563404</td>\n",
       "      <td>-0.741889</td>\n",
       "      <td>0.198543</td>\n",
       "      <td>0.833754</td>\n",
       "      <td>-0.254189</td>\n",
       "      <td>0.076001</td>\n",
       "      <td>-0.071520</td>\n",
       "      <td>-0.141418</td>\n",
       "      <td>-0.291918</td>\n",
       "      <td>...</td>\n",
       "      <td>-0.131824</td>\n",
       "      <td>-0.103714</td>\n",
       "      <td>-0.985186</td>\n",
       "      <td>-0.365528</td>\n",
       "      <td>-0.302732</td>\n",
       "      <td>2.808856</td>\n",
       "      <td>0.290318</td>\n",
       "      <td>-0.326634</td>\n",
       "      <td>0.123426</td>\n",
       "      <td>0.000041</td>\n",
       "    </tr>\n",
       "    <tr>\n",
       "      <th>3</th>\n",
       "      <td>0.089104</td>\n",
       "      <td>-1.313397</td>\n",
       "      <td>1.797727</td>\n",
       "      <td>-0.448514</td>\n",
       "      <td>2.216518</td>\n",
       "      <td>-1.135147</td>\n",
       "      <td>-0.444039</td>\n",
       "      <td>0.115417</td>\n",
       "      <td>0.124875</td>\n",
       "      <td>0.092323</td>\n",
       "      <td>...</td>\n",
       "      <td>-0.103579</td>\n",
       "      <td>0.092828</td>\n",
       "      <td>-1.135580</td>\n",
       "      <td>0.515250</td>\n",
       "      <td>0.033999</td>\n",
       "      <td>0.101212</td>\n",
       "      <td>-0.222051</td>\n",
       "      <td>-0.440310</td>\n",
       "      <td>0.134669</td>\n",
       "      <td>-0.001088</td>\n",
       "    </tr>\n",
       "    <tr>\n",
       "      <th>4</th>\n",
       "      <td>0.322048</td>\n",
       "      <td>-1.146312</td>\n",
       "      <td>1.868896</td>\n",
       "      <td>-0.236786</td>\n",
       "      <td>2.639024</td>\n",
       "      <td>-1.132518</td>\n",
       "      <td>-0.286249</td>\n",
       "      <td>-0.064507</td>\n",
       "      <td>0.095204</td>\n",
       "      <td>0.271349</td>\n",
       "      <td>...</td>\n",
       "      <td>-0.155128</td>\n",
       "      <td>0.061146</td>\n",
       "      <td>-1.490652</td>\n",
       "      <td>0.142504</td>\n",
       "      <td>-0.671906</td>\n",
       "      <td>1.003468</td>\n",
       "      <td>-0.046030</td>\n",
       "      <td>-0.483259</td>\n",
       "      <td>0.148115</td>\n",
       "      <td>-0.000726</td>\n",
       "    </tr>\n",
       "    <tr>\n",
       "      <th>5</th>\n",
       "      <td>0.869633</td>\n",
       "      <td>-1.232250</td>\n",
       "      <td>-0.278972</td>\n",
       "      <td>0.845806</td>\n",
       "      <td>2.627395</td>\n",
       "      <td>2.696991</td>\n",
       "      <td>-0.887206</td>\n",
       "      <td>0.757998</td>\n",
       "      <td>0.203131</td>\n",
       "      <td>-0.479534</td>\n",
       "      <td>...</td>\n",
       "      <td>0.295172</td>\n",
       "      <td>-0.112371</td>\n",
       "      <td>-0.667915</td>\n",
       "      <td>0.695491</td>\n",
       "      <td>0.241258</td>\n",
       "      <td>-1.033322</td>\n",
       "      <td>-0.372448</td>\n",
       "      <td>-0.981312</td>\n",
       "      <td>0.105427</td>\n",
       "      <td>-0.003130</td>\n",
       "    </tr>\n",
       "    <tr>\n",
       "      <th>6</th>\n",
       "      <td>-0.102599</td>\n",
       "      <td>-1.688737</td>\n",
       "      <td>1.757871</td>\n",
       "      <td>-0.980221</td>\n",
       "      <td>0.476859</td>\n",
       "      <td>-0.711081</td>\n",
       "      <td>-0.491721</td>\n",
       "      <td>0.404229</td>\n",
       "      <td>-0.013110</td>\n",
       "      <td>-0.647928</td>\n",
       "      <td>...</td>\n",
       "      <td>-0.002182</td>\n",
       "      <td>0.010577</td>\n",
       "      <td>-0.453047</td>\n",
       "      <td>0.691553</td>\n",
       "      <td>1.201623</td>\n",
       "      <td>0.366615</td>\n",
       "      <td>-0.272134</td>\n",
       "      <td>-0.476900</td>\n",
       "      <td>0.121384</td>\n",
       "      <td>-0.001509</td>\n",
       "    </tr>\n",
       "    <tr>\n",
       "      <th>7</th>\n",
       "      <td>0.833847</td>\n",
       "      <td>-1.490177</td>\n",
       "      <td>-0.410193</td>\n",
       "      <td>0.759906</td>\n",
       "      <td>2.856407</td>\n",
       "      <td>2.342994</td>\n",
       "      <td>-1.207406</td>\n",
       "      <td>1.076920</td>\n",
       "      <td>0.205884</td>\n",
       "      <td>-0.968913</td>\n",
       "      <td>...</td>\n",
       "      <td>0.290585</td>\n",
       "      <td>-0.133370</td>\n",
       "      <td>-0.698325</td>\n",
       "      <td>1.296524</td>\n",
       "      <td>1.282605</td>\n",
       "      <td>-1.069568</td>\n",
       "      <td>-0.901328</td>\n",
       "      <td>-1.000761</td>\n",
       "      <td>0.106970</td>\n",
       "      <td>-0.003798</td>\n",
       "    </tr>\n",
       "    <tr>\n",
       "      <th>8</th>\n",
       "      <td>1.248696</td>\n",
       "      <td>-1.521315</td>\n",
       "      <td>-0.840790</td>\n",
       "      <td>0.102067</td>\n",
       "      <td>2.113997</td>\n",
       "      <td>-1.390448</td>\n",
       "      <td>3.715906</td>\n",
       "      <td>1.207625</td>\n",
       "      <td>0.125152</td>\n",
       "      <td>-1.319599</td>\n",
       "      <td>...</td>\n",
       "      <td>-0.604149</td>\n",
       "      <td>0.074435</td>\n",
       "      <td>0.067254</td>\n",
       "      <td>0.932499</td>\n",
       "      <td>1.394033</td>\n",
       "      <td>-1.377306</td>\n",
       "      <td>-0.965848</td>\n",
       "      <td>-1.264243</td>\n",
       "      <td>0.087625</td>\n",
       "      <td>-0.004700</td>\n",
       "    </tr>\n",
       "    <tr>\n",
       "      <th>9</th>\n",
       "      <td>-1.260412</td>\n",
       "      <td>-0.761896</td>\n",
       "      <td>-0.922455</td>\n",
       "      <td>0.122317</td>\n",
       "      <td>1.382521</td>\n",
       "      <td>-0.755724</td>\n",
       "      <td>-0.369328</td>\n",
       "      <td>0.246185</td>\n",
       "      <td>0.012677</td>\n",
       "      <td>-0.388386</td>\n",
       "      <td>...</td>\n",
       "      <td>-0.108040</td>\n",
       "      <td>0.001772</td>\n",
       "      <td>-0.809568</td>\n",
       "      <td>0.554186</td>\n",
       "      <td>0.801058</td>\n",
       "      <td>0.899549</td>\n",
       "      <td>-0.305594</td>\n",
       "      <td>-0.230946</td>\n",
       "      <td>0.108211</td>\n",
       "      <td>-0.000724</td>\n",
       "    </tr>\n",
       "  </tbody>\n",
       "</table>\n",
       "<p>10 rows × 29 columns</p>\n",
       "</div>"
      ],
      "text/plain": [
       "         0         1         2         3         4         5         6   \\\n",
       "0  0.455009 -1.394678  1.923681 -0.605076  1.022127 -0.586566 -0.112396   \n",
       "1  0.780035 -1.414169  0.264195  2.906263  0.403252 -1.518127 -0.686472   \n",
       "2 -0.934585 -0.563404 -0.741889  0.198543  0.833754 -0.254189  0.076001   \n",
       "3  0.089104 -1.313397  1.797727 -0.448514  2.216518 -1.135147 -0.444039   \n",
       "4  0.322048 -1.146312  1.868896 -0.236786  2.639024 -1.132518 -0.286249   \n",
       "5  0.869633 -1.232250 -0.278972  0.845806  2.627395  2.696991 -0.887206   \n",
       "6 -0.102599 -1.688737  1.757871 -0.980221  0.476859 -0.711081 -0.491721   \n",
       "7  0.833847 -1.490177 -0.410193  0.759906  2.856407  2.342994 -1.207406   \n",
       "8  1.248696 -1.521315 -0.840790  0.102067  2.113997 -1.390448  3.715906   \n",
       "9 -1.260412 -0.761896 -0.922455  0.122317  1.382521 -0.755724 -0.369328   \n",
       "\n",
       "         7         8         9   ...        19        20        21        22  \\\n",
       "0  0.050505 -0.141874 -0.472498  ... -0.105833 -0.106064 -1.172532 -0.196398   \n",
       "1  0.463791 -0.001142 -0.820989  ... -0.070652 -0.144747 -1.114575  0.556496   \n",
       "2 -0.071520 -0.141418 -0.291918  ... -0.131824 -0.103714 -0.985186 -0.365528   \n",
       "3  0.115417  0.124875  0.092323  ... -0.103579  0.092828 -1.135580  0.515250   \n",
       "4 -0.064507  0.095204  0.271349  ... -0.155128  0.061146 -1.490652  0.142504   \n",
       "5  0.757998  0.203131 -0.479534  ...  0.295172 -0.112371 -0.667915  0.695491   \n",
       "6  0.404229 -0.013110 -0.647928  ... -0.002182  0.010577 -0.453047  0.691553   \n",
       "7  1.076920  0.205884 -0.968913  ...  0.290585 -0.133370 -0.698325  1.296524   \n",
       "8  1.207625  0.125152 -1.319599  ... -0.604149  0.074435  0.067254  0.932499   \n",
       "9  0.246185  0.012677 -0.388386  ... -0.108040  0.001772 -0.809568  0.554186   \n",
       "\n",
       "         23        24        25        26        27        28  \n",
       "0 -0.193440  2.893187  0.136162 -0.607632  0.153116 -0.000744  \n",
       "1  0.494911  1.550177 -0.425530 -0.835494  0.139245 -0.002267  \n",
       "2 -0.302732  2.808856  0.290318 -0.326634  0.123426  0.000041  \n",
       "3  0.033999  0.101212 -0.222051 -0.440310  0.134669 -0.001088  \n",
       "4 -0.671906  1.003468 -0.046030 -0.483259  0.148115 -0.000726  \n",
       "5  0.241258 -1.033322 -0.372448 -0.981312  0.105427 -0.003130  \n",
       "6  1.201623  0.366615 -0.272134 -0.476900  0.121384 -0.001509  \n",
       "7  1.282605 -1.069568 -0.901328 -1.000761  0.106970 -0.003798  \n",
       "8  1.394033 -1.377306 -0.965848 -1.264243  0.087625 -0.004700  \n",
       "9  0.801058  0.899549 -0.305594 -0.230946  0.108211 -0.000724  \n",
       "\n",
       "[10 rows x 29 columns]"
      ]
     },
     "execution_count": 63,
     "metadata": {},
     "output_type": "execute_result"
    }
   ],
   "source": [
    "dfx_trans = pca.transform(dfx)\n",
    "dfx_trans = pd.DataFrame(data=dfx_trans)\n",
    "dfx_trans.head(10)"
   ]
  },
  {
   "cell_type": "code",
   "execution_count": 64,
   "id": "cea78199",
   "metadata": {},
   "outputs": [],
   "source": [
    "x=df.drop(columns=['Target'])\n",
    "y=df['Target']"
   ]
  },
  {
   "cell_type": "code",
   "execution_count": 65,
   "id": "28e4dd74",
   "metadata": {},
   "outputs": [
    {
     "data": {
      "text/plain": [
       "((134529, 29), (134529,))"
      ]
     },
     "execution_count": 65,
     "metadata": {},
     "output_type": "execute_result"
    }
   ],
   "source": [
    "x.shape , y.shape"
   ]
  },
  {
   "cell_type": "code",
   "execution_count": 66,
   "id": "b75573c1",
   "metadata": {},
   "outputs": [
    {
     "name": "stdout",
     "output_type": "stream",
     "text": [
      "(107623, 29) (107623,)\n",
      "(26906, 29) (26906,)\n"
     ]
    }
   ],
   "source": [
    "\n",
    "from sklearn.model_selection import train_test_split\n",
    "x_train , x_test ,y_train ,y_test = train_test_split(x,y,test_size=0.20,stratify=y,random_state=42)\n",
    "print(x_train.shape ,y_train.shape)\n",
    "print(x_test.shape , y_test.shape)\n"
   ]
  },
  {
   "cell_type": "markdown",
   "id": "9f02625b",
   "metadata": {},
   "source": [
    "# ExtraTreesClassifier method"
   ]
  },
  {
   "cell_type": "markdown",
   "id": "b9a89cf1",
   "metadata": {},
   "source": [
    "# Feature Selection"
   ]
  },
  {
   "cell_type": "code",
   "execution_count": 67,
   "id": "5e45ecb2",
   "metadata": {},
   "outputs": [
    {
     "name": "stdout",
     "output_type": "stream",
     "text": [
      "[0.32952688 0.12081492 0.18102265 0.05092634 0.10308418 0.01737901\n",
      " 0.13700787 0.0092763  0.01265994 0.00055185 0.00052339 0.00058469\n",
      " 0.00065214 0.00119212 0.00107564 0.00047741 0.00064089 0.0005152\n",
      " 0.00055696 0.01896035 0.00242507 0.00160288 0.00128558 0.00128698\n",
      " 0.00122095 0.00129664 0.00141639 0.00113597 0.00090081]\n"
     ]
    }
   ],
   "source": [
    "from sklearn.ensemble import ExtraTreesClassifier\n",
    "import matplotlib.pyplot as plt\n",
    "model=ExtraTreesClassifier()\n",
    "model.fit(x,y)\n",
    "print(model.feature_importances_)\n",
    "          \n",
    "          \n"
   ]
  },
  {
   "cell_type": "code",
   "execution_count": 68,
   "id": "7219ec4f",
   "metadata": {},
   "outputs": [
    {
     "data": {
      "text/plain": [
       "<function matplotlib.pyplot.show(close=None, block=None)>"
      ]
     },
     "execution_count": 68,
     "metadata": {},
     "output_type": "execute_result"
    },
    {
     "data": {
      "image/png": "[encoded data removed]",
      "text/plain": [
       "<Figure size 432x288 with 1 Axes>"
      ]
     },
     "metadata": {
      "needs_background": "light"
     },
     "output_type": "display_data"
    }
   ],
   "source": [
    "feat_imp=pd.Series(model.feature_importances_,index=x.columns)\n",
    "feat_imp.nlargest(10).plot(kind='barh')\n",
    "plt.show"
   ]
  },
  {
   "cell_type": "code",
   "execution_count": null,
   "id": "b6694efe",
   "metadata": {},
   "outputs": [],
   "source": []
  }
 ],
 "metadata": {
  "kernelspec": {
   "display_name": "Python 3 (ipykernel)",
   "language": "python",
   "name": "python3"
  },
  "language_info": {
   "codemirror_mode": {
    "name": "ipython",
    "version": 3
   },
   "file_extension": ".py",
   "mimetype": "text/x-python",
   "name": "python",
   "nbconvert_exporter": "python",
   "pygments_lexer": "ipython3",
   "version": "3.9.12"
  }
 },
 "nbformat": 4,
 "nbformat_minor": 5
}
