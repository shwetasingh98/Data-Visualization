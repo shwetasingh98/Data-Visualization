{
 "cells": [
  {
   "cell_type": "markdown",
   "id": "fc86f3d9",
   "metadata": {
    "papermill": {
     "duration": 0.009548,
     "end_time": "2022-10-14T08:08:38.229643",
     "exception": false,
     "start_time": "2022-10-14T08:08:38.220095",
     "status": "completed"
    },
    "tags": []
   },
   "source": [
    "**This notebook is an exercise in the [Data Visualization](https://www.kaggle.com/learn/data-visualization) course.  You can reference the tutorial at [this link](https://www.kaggle.com/alexisbcook/scatter-plots).**\n",
    "\n",
    "---\n"
   ]
  },
  {
   "cell_type": "markdown",
   "id": "e96e90ba",
   "metadata": {
    "papermill": {
     "duration": 0.007944,
     "end_time": "2022-10-14T08:08:38.246072",
     "exception": false,
     "start_time": "2022-10-14T08:08:38.238128",
     "status": "completed"
    },
    "tags": []
   },
   "source": [
    "In this exercise, you will use your new knowledge to propose a solution to a real-world scenario.  To succeed, you will need to import data into Python, answer questions using the data, and generate **scatter plots** to understand patterns in the data.\n",
    "\n",
    "## Scenario\n",
    "\n",
    "You work for a major candy producer, and your goal is to write a report that your company can use to guide the design of its next product.  Soon after starting your research, you stumble across this [very interesting dataset](https://fivethirtyeight.com/features/the-ultimate-halloween-candy-power-ranking/) containing results from a fun survey to crowdsource favorite candies.\n",
    "\n",
    "## Setup\n",
    "\n",
    "Run the next cell to import and configure the Python libraries that you need to complete the exercise."
   ]
  },
  {
   "cell_type": "code",
   "execution_count": 1,
   "id": "a501fe44",
   "metadata": {
    "execution": {
     "iopub.execute_input": "2022-10-14T08:08:38.264437Z",
     "iopub.status.busy": "2022-10-14T08:08:38.263956Z",
     "iopub.status.idle": "2022-10-14T08:08:39.353329Z",
     "shell.execute_reply": "2022-10-14T08:08:39.352199Z"
    },
    "papermill": {
     "duration": 1.10209,
     "end_time": "2022-10-14T08:08:39.356293",
     "exception": false,
     "start_time": "2022-10-14T08:08:38.254203",
     "status": "completed"
    },
    "tags": []
   },
   "outputs": [
    {
     "name": "stdout",
     "output_type": "stream",
     "text": [
      "Setup Complete\n"
     ]
    }
   ],
   "source": [
    "import pandas as pd\n",
    "pd.plotting.register_matplotlib_converters()\n",
    "import matplotlib.pyplot as plt\n",
    "%matplotlib inline\n",
    "import seaborn as sns\n",
    "print(\"Setup Complete\")"
   ]
  },
  {
   "cell_type": "markdown",
   "id": "0f1c8abd",
   "metadata": {
    "papermill": {
     "duration": 0.00835,
     "end_time": "2022-10-14T08:08:39.373785",
     "exception": false,
     "start_time": "2022-10-14T08:08:39.365435",
     "status": "completed"
    },
    "tags": []
   },
   "source": [
    "The questions below will give you feedback on your work. Run the following cell to set up our feedback system."
   ]
  },
  {
   "cell_type": "code",
   "execution_count": 2,
   "id": "ac78e584",
   "metadata": {
    "execution": {
     "iopub.execute_input": "2022-10-14T08:08:39.392931Z",
     "iopub.status.busy": "2022-10-14T08:08:39.392171Z",
     "iopub.status.idle": "2022-10-14T08:08:39.455203Z",
     "shell.execute_reply": "2022-10-14T08:08:39.453892Z"
    },
    "papermill": {
     "duration": 0.075067,
     "end_time": "2022-10-14T08:08:39.457404",
     "exception": false,
     "start_time": "2022-10-14T08:08:39.382337",
     "status": "completed"
    },
    "tags": []
   },
   "outputs": [
    {
     "name": "stdout",
     "output_type": "stream",
     "text": [
      "Setup Complete\n"
     ]
    }
   ],
   "source": [
    "# Set up code checking\n",
    "import os\n",
    "if not os.path.exists(\"../input/candy.csv\"):\n",
    "    os.symlink(\"../input/data-for-datavis/candy.csv\", \"../input/candy.csv\") \n",
    "from learntools.core import binder\n",
    "binder.bind(globals())\n",
    "from learntools.data_viz_to_coder.ex4 import *\n",
    "print(\"Setup Complete\")"
   ]
  },
  {
   "cell_type": "markdown",
   "id": "6ea8e16d",
   "metadata": {
    "papermill": {
     "duration": 0.008432,
     "end_time": "2022-10-14T08:08:39.475737",
     "exception": false,
     "start_time": "2022-10-14T08:08:39.467305",
     "status": "completed"
    },
    "tags": []
   },
   "source": [
    "## Step 1: Load the Data\n",
    "\n",
    "Read the candy data file into `candy_data`.  Use the `\"id\"` column to label the rows."
   ]
  },
  {
   "cell_type": "code",
   "execution_count": 3,
   "id": "4b1c1190",
   "metadata": {
    "execution": {
     "iopub.execute_input": "2022-10-14T08:08:39.494517Z",
     "iopub.status.busy": "2022-10-14T08:08:39.494105Z",
     "iopub.status.idle": "2022-10-14T08:08:39.511124Z",
     "shell.execute_reply": "2022-10-14T08:08:39.510422Z"
    },
    "papermill": {
     "duration": 0.028494,
     "end_time": "2022-10-14T08:08:39.512994",
     "exception": false,
     "start_time": "2022-10-14T08:08:39.484500",
     "status": "completed"
    },
    "tags": []
   },
   "outputs": [
    {
     "data": {
      "application/javascript": [
       "parent.postMessage({\"jupyterEvent\": \"custom.exercise_interaction\", \"data\": {\"outcomeType\": 1, \"valueTowardsCompletion\": 0.3333333333333333, \"interactionType\": 1, \"questionType\": 1, \"questionId\": \"1_LoadData\", \"learnToolsVersion\": \"0.3.4\", \"failureMessage\": \"\", \"exceptionClass\": \"\", \"trace\": \"\"}}, \"*\")"
      ],
      "text/plain": [
       "<IPython.core.display.Javascript object>"
      ]
     },
     "metadata": {},
     "output_type": "display_data"
    },
    {
     "data": {
      "text/markdown": [
       "<span style=\"color:#33cc33\">Correct</span>"
      ],
      "text/plain": [
       "Correct"
      ]
     },
     "metadata": {},
     "output_type": "display_data"
    }
   ],
   "source": [
    "# Path of the file to read\n",
    "candy_filepath = \"../input/candy.csv\"\n",
    "\n",
    "# Fill in the line below to read the file into a variable candy_data\n",
    "candy_data =pd.read_csv(candy_filepath,index_col=\"id\")\n",
    "candy_data \n",
    "\n",
    "# Run the line below with no changes to check that you've loaded the data correctly\n",
    "step_1.check()"
   ]
  },
  {
   "cell_type": "code",
   "execution_count": 4,
   "id": "7fcdca4a",
   "metadata": {
    "execution": {
     "iopub.execute_input": "2022-10-14T08:08:39.533400Z",
     "iopub.status.busy": "2022-10-14T08:08:39.532831Z",
     "iopub.status.idle": "2022-10-14T08:08:39.537500Z",
     "shell.execute_reply": "2022-10-14T08:08:39.536477Z"
    },
    "papermill": {
     "duration": 0.016895,
     "end_time": "2022-10-14T08:08:39.539481",
     "exception": false,
     "start_time": "2022-10-14T08:08:39.522586",
     "status": "completed"
    },
    "tags": []
   },
   "outputs": [],
   "source": [
    "# Lines below will give you a hint or solution code\n",
    "#step_1.hint()\n",
    "#step_1.solution()"
   ]
  },
  {
   "cell_type": "markdown",
   "id": "31dcb03e",
   "metadata": {
    "papermill": {
     "duration": 0.00838,
     "end_time": "2022-10-14T08:08:39.556564",
     "exception": false,
     "start_time": "2022-10-14T08:08:39.548184",
     "status": "completed"
    },
    "tags": []
   },
   "source": [
    "## Step 2: Review the data\n",
    "\n",
    "Use a Python command to print the first five rows of the data."
   ]
  },
  {
   "cell_type": "code",
   "execution_count": 5,
   "id": "cc68f6ea",
   "metadata": {
    "execution": {
     "iopub.execute_input": "2022-10-14T08:08:39.575799Z",
     "iopub.status.busy": "2022-10-14T08:08:39.575416Z",
     "iopub.status.idle": "2022-10-14T08:08:39.597797Z",
     "shell.execute_reply": "2022-10-14T08:08:39.596708Z"
    },
    "papermill": {
     "duration": 0.034844,
     "end_time": "2022-10-14T08:08:39.600166",
     "exception": false,
     "start_time": "2022-10-14T08:08:39.565322",
     "status": "completed"
    },
    "tags": []
   },
   "outputs": [
    {
     "data": {
      "text/html": [
       "<div>\n",
       "<style scoped>\n",
       "    .dataframe tbody tr th:only-of-type {\n",
       "        vertical-align: middle;\n",
       "    }\n",
       "\n",
       "    .dataframe tbody tr th {\n",
       "        vertical-align: top;\n",
       "    }\n",
       "\n",
       "    .dataframe thead th {\n",
       "        text-align: right;\n",
       "    }\n",
       "</style>\n",
       "<table border=\"1\" class=\"dataframe\">\n",
       "  <thead>\n",
       "    <tr style=\"text-align: right;\">\n",
       "      <th></th>\n",
       "      <th>competitorname</th>\n",
       "      <th>chocolate</th>\n",
       "      <th>fruity</th>\n",
       "      <th>caramel</th>\n",
       "      <th>peanutyalmondy</th>\n",
       "      <th>nougat</th>\n",
       "      <th>crispedricewafer</th>\n",
       "      <th>hard</th>\n",
       "      <th>bar</th>\n",
       "      <th>pluribus</th>\n",
       "      <th>sugarpercent</th>\n",
       "      <th>pricepercent</th>\n",
       "      <th>winpercent</th>\n",
       "    </tr>\n",
       "    <tr>\n",
       "      <th>id</th>\n",
       "      <th></th>\n",
       "      <th></th>\n",
       "      <th></th>\n",
       "      <th></th>\n",
       "      <th></th>\n",
       "      <th></th>\n",
       "      <th></th>\n",
       "      <th></th>\n",
       "      <th></th>\n",
       "      <th></th>\n",
       "      <th></th>\n",
       "      <th></th>\n",
       "      <th></th>\n",
       "    </tr>\n",
       "  </thead>\n",
       "  <tbody>\n",
       "    <tr>\n",
       "      <th>0</th>\n",
       "      <td>100 Grand</td>\n",
       "      <td>Yes</td>\n",
       "      <td>No</td>\n",
       "      <td>Yes</td>\n",
       "      <td>No</td>\n",
       "      <td>No</td>\n",
       "      <td>Yes</td>\n",
       "      <td>No</td>\n",
       "      <td>Yes</td>\n",
       "      <td>No</td>\n",
       "      <td>0.732</td>\n",
       "      <td>0.860</td>\n",
       "      <td>66.971725</td>\n",
       "    </tr>\n",
       "    <tr>\n",
       "      <th>1</th>\n",
       "      <td>3 Musketeers</td>\n",
       "      <td>Yes</td>\n",
       "      <td>No</td>\n",
       "      <td>No</td>\n",
       "      <td>No</td>\n",
       "      <td>Yes</td>\n",
       "      <td>No</td>\n",
       "      <td>No</td>\n",
       "      <td>Yes</td>\n",
       "      <td>No</td>\n",
       "      <td>0.604</td>\n",
       "      <td>0.511</td>\n",
       "      <td>67.602936</td>\n",
       "    </tr>\n",
       "    <tr>\n",
       "      <th>2</th>\n",
       "      <td>Air Heads</td>\n",
       "      <td>No</td>\n",
       "      <td>Yes</td>\n",
       "      <td>No</td>\n",
       "      <td>No</td>\n",
       "      <td>No</td>\n",
       "      <td>No</td>\n",
       "      <td>No</td>\n",
       "      <td>No</td>\n",
       "      <td>No</td>\n",
       "      <td>0.906</td>\n",
       "      <td>0.511</td>\n",
       "      <td>52.341465</td>\n",
       "    </tr>\n",
       "    <tr>\n",
       "      <th>3</th>\n",
       "      <td>Almond Joy</td>\n",
       "      <td>Yes</td>\n",
       "      <td>No</td>\n",
       "      <td>No</td>\n",
       "      <td>Yes</td>\n",
       "      <td>No</td>\n",
       "      <td>No</td>\n",
       "      <td>No</td>\n",
       "      <td>Yes</td>\n",
       "      <td>No</td>\n",
       "      <td>0.465</td>\n",
       "      <td>0.767</td>\n",
       "      <td>50.347546</td>\n",
       "    </tr>\n",
       "    <tr>\n",
       "      <th>4</th>\n",
       "      <td>Baby Ruth</td>\n",
       "      <td>Yes</td>\n",
       "      <td>No</td>\n",
       "      <td>Yes</td>\n",
       "      <td>Yes</td>\n",
       "      <td>Yes</td>\n",
       "      <td>No</td>\n",
       "      <td>No</td>\n",
       "      <td>Yes</td>\n",
       "      <td>No</td>\n",
       "      <td>0.604</td>\n",
       "      <td>0.767</td>\n",
       "      <td>56.914547</td>\n",
       "    </tr>\n",
       "  </tbody>\n",
       "</table>\n",
       "</div>"
      ],
      "text/plain": [
       "   competitorname chocolate fruity caramel peanutyalmondy nougat  \\\n",
       "id                                                                 \n",
       "0       100 Grand       Yes     No     Yes             No     No   \n",
       "1    3 Musketeers       Yes     No      No             No    Yes   \n",
       "2       Air Heads        No    Yes      No             No     No   \n",
       "3      Almond Joy       Yes     No      No            Yes     No   \n",
       "4       Baby Ruth       Yes     No     Yes            Yes    Yes   \n",
       "\n",
       "   crispedricewafer hard  bar pluribus  sugarpercent  pricepercent  winpercent  \n",
       "id                                                                              \n",
       "0               Yes   No  Yes       No         0.732         0.860   66.971725  \n",
       "1                No   No  Yes       No         0.604         0.511   67.602936  \n",
       "2                No   No   No       No         0.906         0.511   52.341465  \n",
       "3                No   No  Yes       No         0.465         0.767   50.347546  \n",
       "4                No   No  Yes       No         0.604         0.767   56.914547  "
      ]
     },
     "execution_count": 5,
     "metadata": {},
     "output_type": "execute_result"
    }
   ],
   "source": [
    "# Print the first five rows of the data\n",
    "candy_data.head()\n",
    "\n",
    " # Your code here"
   ]
  },
  {
   "cell_type": "markdown",
   "id": "b6ba5870",
   "metadata": {
    "papermill": {
     "duration": 0.009499,
     "end_time": "2022-10-14T08:08:39.619150",
     "exception": false,
     "start_time": "2022-10-14T08:08:39.609651",
     "status": "completed"
    },
    "tags": []
   },
   "source": [
    "The dataset contains 83 rows, where each corresponds to a different candy bar.  There are 13 columns:\n",
    "- `'competitorname'` contains the name of the candy bar. \n",
    "- the next **9** columns (from `'chocolate'` to `'pluribus'`) describe the candy.  For instance, rows with chocolate candies have `\"Yes\"` in the `'chocolate'` column (and candies without chocolate have `\"No\"` in the same column).\n",
    "- `'sugarpercent'` provides some indication of the amount of sugar, where higher values signify higher sugar content.\n",
    "- `'pricepercent'` shows the price per unit, relative to the other candies in the dataset.\n",
    "- `'winpercent'` is calculated from the survey results; higher values indicate that the candy was more popular with survey respondents.\n",
    "\n",
    "Use the first five rows of the data to answer the questions below."
   ]
  },
  {
   "cell_type": "code",
   "execution_count": 6,
   "id": "23a9dece",
   "metadata": {
    "execution": {
     "iopub.execute_input": "2022-10-14T08:08:39.639781Z",
     "iopub.status.busy": "2022-10-14T08:08:39.639067Z",
     "iopub.status.idle": "2022-10-14T08:08:39.646865Z",
     "shell.execute_reply": "2022-10-14T08:08:39.646151Z"
    },
    "papermill": {
     "duration": 0.02016,
     "end_time": "2022-10-14T08:08:39.648791",
     "exception": false,
     "start_time": "2022-10-14T08:08:39.628631",
     "status": "completed"
    },
    "tags": []
   },
   "outputs": [
    {
     "data": {
      "application/javascript": [
       "parent.postMessage({\"jupyterEvent\": \"custom.exercise_interaction\", \"data\": {\"outcomeType\": 1, \"valueTowardsCompletion\": 0.3333333333333333, \"interactionType\": 1, \"questionType\": 1, \"questionId\": \"2_ReviewData\", \"learnToolsVersion\": \"0.3.4\", \"failureMessage\": \"\", \"exceptionClass\": \"\", \"trace\": \"\"}}, \"*\")"
      ],
      "text/plain": [
       "<IPython.core.display.Javascript object>"
      ]
     },
     "metadata": {},
     "output_type": "display_data"
    },
    {
     "data": {
      "text/markdown": [
       "<span style=\"color:#33cc33\">Correct</span>"
      ],
      "text/plain": [
       "Correct"
      ]
     },
     "metadata": {},
     "output_type": "display_data"
    }
   ],
   "source": [
    "# Fill in the line below: Which candy was more popular with survey respondents:\n",
    "# '3 Musketeers' or 'Almond Joy'?  (Please enclose your answer in single quotes.)\n",
    "more_popular ='3 Musketeers'\n",
    "\n",
    "# Fill in the line below: Which candy has higher sugar content: 'Air Heads'\n",
    "# or 'Baby Ruth'? (Please enclose your answer in single quotes.)\n",
    "more_sugar = 'Air Heads'\n",
    "\n",
    "# Check your answers\n",
    "step_2.check()"
   ]
  },
  {
   "cell_type": "code",
   "execution_count": 7,
   "id": "0544879f",
   "metadata": {
    "execution": {
     "iopub.execute_input": "2022-10-14T08:08:39.669210Z",
     "iopub.status.busy": "2022-10-14T08:08:39.668695Z",
     "iopub.status.idle": "2022-10-14T08:08:39.671903Z",
     "shell.execute_reply": "2022-10-14T08:08:39.671275Z"
    },
    "papermill": {
     "duration": 0.015568,
     "end_time": "2022-10-14T08:08:39.673869",
     "exception": false,
     "start_time": "2022-10-14T08:08:39.658301",
     "status": "completed"
    },
    "tags": []
   },
   "outputs": [],
   "source": [
    "# Lines below will give you a hint or solution code\n",
    "#step_2.hint()\n",
    "#step_2.solution()"
   ]
  },
  {
   "cell_type": "markdown",
   "id": "cd7a9ce2",
   "metadata": {
    "papermill": {
     "duration": 0.008837,
     "end_time": "2022-10-14T08:08:39.692015",
     "exception": false,
     "start_time": "2022-10-14T08:08:39.683178",
     "status": "completed"
    },
    "tags": []
   },
   "source": [
    "## Step 3: The role of sugar\n",
    "\n",
    "Do people tend to prefer candies with higher sugar content?  \n",
    "\n",
    "#### Part A\n",
    "\n",
    "Create a scatter plot that shows the relationship between `'sugarpercent'` (on the horizontal x-axis) and `'winpercent'` (on the vertical y-axis).  _Don't add a regression line just yet -- you'll do that in the next step!_"
   ]
  },
  {
   "cell_type": "code",
   "execution_count": 8,
   "id": "86de0132",
   "metadata": {
    "execution": {
     "iopub.execute_input": "2022-10-14T08:08:39.712184Z",
     "iopub.status.busy": "2022-10-14T08:08:39.711551Z",
     "iopub.status.idle": "2022-10-14T08:08:39.976381Z",
     "shell.execute_reply": "2022-10-14T08:08:39.975118Z"
    },
    "papermill": {
     "duration": 0.277743,
     "end_time": "2022-10-14T08:08:39.978773",
     "exception": false,
     "start_time": "2022-10-14T08:08:39.701030",
     "status": "completed"
    },
    "tags": []
   },
   "outputs": [
    {
     "data": {
      "application/javascript": [
       "parent.postMessage({\"jupyterEvent\": \"custom.exercise_interaction\", \"data\": {\"outcomeType\": 1, \"valueTowardsCompletion\": 0.3333333333333333, \"interactionType\": 1, \"questionType\": 2, \"questionId\": \"3.1_PlotBlueScatter\", \"learnToolsVersion\": \"0.3.4\", \"failureMessage\": \"\", \"exceptionClass\": \"\", \"trace\": \"\"}}, \"*\")"
      ],
      "text/plain": [
       "<IPython.core.display.Javascript object>"
      ]
     },
     "metadata": {},
     "output_type": "display_data"
    },
    {
     "data": {
      "text/markdown": [
       "<span style=\"color:#33cc33\">Correct</span>"
      ],
      "text/plain": [
       "Correct"
      ]
     },
     "metadata": {},
     "output_type": "display_data"
    },
    {
     "data": {
      "image/png": "[encoded data removed]",
      "text/plain": [
       "<Figure size 432x288 with 1 Axes>"
      ]
     },
     "metadata": {
      "needs_background": "light"
     },
     "output_type": "display_data"
    }
   ],
   "source": [
    "# Scatter plot showing the relationship between 'sugarpercent' and 'winpercent'\n",
    "sns.scatterplot(x=candy_data['sugarpercent'],y=candy_data['winpercent'])\n",
    " # Your code here\n",
    "\n",
    "# Check your answer\n",
    "step_3.a.check()"
   ]
  },
  {
   "cell_type": "code",
   "execution_count": 9,
   "id": "59cfa5dd",
   "metadata": {
    "execution": {
     "iopub.execute_input": "2022-10-14T08:08:40.000633Z",
     "iopub.status.busy": "2022-10-14T08:08:39.999928Z",
     "iopub.status.idle": "2022-10-14T08:08:40.004121Z",
     "shell.execute_reply": "2022-10-14T08:08:40.003149Z"
    },
    "papermill": {
     "duration": 0.0175,
     "end_time": "2022-10-14T08:08:40.006362",
     "exception": false,
     "start_time": "2022-10-14T08:08:39.988862",
     "status": "completed"
    },
    "tags": []
   },
   "outputs": [],
   "source": [
    "# Lines below will give you a hint or solution code\n",
    "#step_3.a.hint()\n",
    "#step_3.a.solution_plot()"
   ]
  },
  {
   "cell_type": "markdown",
   "id": "04ed2043",
   "metadata": {
    "papermill": {
     "duration": 0.009327,
     "end_time": "2022-10-14T08:08:40.025334",
     "exception": false,
     "start_time": "2022-10-14T08:08:40.016007",
     "status": "completed"
    },
    "tags": []
   },
   "source": [
    "#### Part B\n",
    "\n",
    "Does the scatter plot show a **strong** correlation between the two variables?  If so, are candies with more sugar relatively more or less popular with the survey respondents?"
   ]
  },
  {
   "cell_type": "code",
   "execution_count": 10,
   "id": "8494bcf3",
   "metadata": {
    "execution": {
     "iopub.execute_input": "2022-10-14T08:08:40.046464Z",
     "iopub.status.busy": "2022-10-14T08:08:40.045774Z",
     "iopub.status.idle": "2022-10-14T08:08:40.050647Z",
     "shell.execute_reply": "2022-10-14T08:08:40.049543Z"
    },
    "papermill": {
     "duration": 0.01787,
     "end_time": "2022-10-14T08:08:40.052800",
     "exception": false,
     "start_time": "2022-10-14T08:08:40.034930",
     "status": "completed"
    },
    "tags": []
   },
   "outputs": [],
   "source": [
    "#step_3.b.hint()"
   ]
  },
  {
   "cell_type": "code",
   "execution_count": 11,
   "id": "926c78df",
   "metadata": {
    "execution": {
     "iopub.execute_input": "2022-10-14T08:08:40.073868Z",
     "iopub.status.busy": "2022-10-14T08:08:40.073231Z",
     "iopub.status.idle": "2022-10-14T08:08:40.077329Z",
     "shell.execute_reply": "2022-10-14T08:08:40.076609Z"
    },
    "papermill": {
     "duration": 0.016615,
     "end_time": "2022-10-14T08:08:40.079158",
     "exception": false,
     "start_time": "2022-10-14T08:08:40.062543",
     "status": "completed"
    },
    "tags": []
   },
   "outputs": [],
   "source": [
    "# Check your answer (Run this code cell to receive credit!)\n",
    "#step_3.b.solution()"
   ]
  },
  {
   "cell_type": "markdown",
   "id": "b55b7129",
   "metadata": {
    "papermill": {
     "duration": 0.009526,
     "end_time": "2022-10-14T08:08:40.098421",
     "exception": false,
     "start_time": "2022-10-14T08:08:40.088895",
     "status": "completed"
    },
    "tags": []
   },
   "source": [
    "## Step 4: Take a closer look\n",
    "\n",
    "#### Part A\n",
    "\n",
    "Create the same scatter plot you created in **Step 3**, but now with a regression line!"
   ]
  },
  {
   "cell_type": "code",
   "execution_count": 12,
   "id": "df5de8ef",
   "metadata": {
    "execution": {
     "iopub.execute_input": "2022-10-14T08:08:40.119673Z",
     "iopub.status.busy": "2022-10-14T08:08:40.119014Z",
     "iopub.status.idle": "2022-10-14T08:08:40.441668Z",
     "shell.execute_reply": "2022-10-14T08:08:40.440908Z"
    },
    "papermill": {
     "duration": 0.335535,
     "end_time": "2022-10-14T08:08:40.443626",
     "exception": false,
     "start_time": "2022-10-14T08:08:40.108091",
     "status": "completed"
    },
    "tags": []
   },
   "outputs": [
    {
     "data": {
      "application/javascript": [
       "parent.postMessage({\"jupyterEvent\": \"custom.exercise_interaction\", \"data\": {\"outcomeType\": 1, \"valueTowardsCompletion\": 0.3333333333333333, \"interactionType\": 1, \"questionType\": 2, \"questionId\": \"4.1_PlotBlueReg\", \"learnToolsVersion\": \"0.3.4\", \"failureMessage\": \"\", \"exceptionClass\": \"\", \"trace\": \"\"}}, \"*\")"
      ],
      "text/plain": [
       "<IPython.core.display.Javascript object>"
      ]
     },
     "metadata": {},
     "output_type": "display_data"
    },
    {
     "data": {
      "text/markdown": [
       "<span style=\"color:#33cc33\">Correct</span>"
      ],
      "text/plain": [
       "Correct"
      ]
     },
     "metadata": {},
     "output_type": "display_data"
    },
    {
     "data": {
      "image/png": "[encoded data removed]",
      "text/plain": [
       "<Figure size 432x288 with 1 Axes>"
      ]
     },
     "metadata": {
      "needs_background": "light"
     },
     "output_type": "display_data"
    }
   ],
   "source": [
    "# Scatter plot w/ regression line showing the relationship between 'sugarpercent' and 'winpercent' # Your code here\n",
    "sns.regplot(x=candy_data['sugarpercent'],y=candy_data['winpercent'])\n",
    "# Check your answer\n",
    "step_4.a.check()"
   ]
  },
  {
   "cell_type": "code",
   "execution_count": 13,
   "id": "244f4e2b",
   "metadata": {
    "execution": {
     "iopub.execute_input": "2022-10-14T08:08:40.466733Z",
     "iopub.status.busy": "2022-10-14T08:08:40.465779Z",
     "iopub.status.idle": "2022-10-14T08:08:40.469750Z",
     "shell.execute_reply": "2022-10-14T08:08:40.469029Z"
    },
    "papermill": {
     "duration": 0.017655,
     "end_time": "2022-10-14T08:08:40.471657",
     "exception": false,
     "start_time": "2022-10-14T08:08:40.454002",
     "status": "completed"
    },
    "tags": []
   },
   "outputs": [],
   "source": [
    "# Lines below will give you a hint or solution code\n",
    "#step_4.a.hint()\n",
    "#step_4.a.solution_plot()"
   ]
  },
  {
   "cell_type": "markdown",
   "id": "300fe847",
   "metadata": {
    "papermill": {
     "duration": 0.009803,
     "end_time": "2022-10-14T08:08:40.491488",
     "exception": false,
     "start_time": "2022-10-14T08:08:40.481685",
     "status": "completed"
    },
    "tags": []
   },
   "source": [
    "#### Part B\n",
    "\n",
    "According to the plot above, is there a **slight** correlation between `'winpercent'` and `'sugarpercent'`?  What does this tell you about the candy that people tend to prefer?"
   ]
  },
  {
   "cell_type": "code",
   "execution_count": 14,
   "id": "e252ed0b",
   "metadata": {
    "execution": {
     "iopub.execute_input": "2022-10-14T08:08:40.513936Z",
     "iopub.status.busy": "2022-10-14T08:08:40.513275Z",
     "iopub.status.idle": "2022-10-14T08:08:40.517046Z",
     "shell.execute_reply": "2022-10-14T08:08:40.516269Z"
    },
    "papermill": {
     "duration": 0.017374,
     "end_time": "2022-10-14T08:08:40.519125",
     "exception": false,
     "start_time": "2022-10-14T08:08:40.501751",
     "status": "completed"
    },
    "tags": []
   },
   "outputs": [],
   "source": [
    "#step_4.b.hint()"
   ]
  },
  {
   "cell_type": "code",
   "execution_count": 15,
   "id": "2c4f9873",
   "metadata": {
    "execution": {
     "iopub.execute_input": "2022-10-14T08:08:40.540985Z",
     "iopub.status.busy": "2022-10-14T08:08:40.540601Z",
     "iopub.status.idle": "2022-10-14T08:08:40.548655Z",
     "shell.execute_reply": "2022-10-14T08:08:40.547695Z"
    },
    "papermill": {
     "duration": 0.021402,
     "end_time": "2022-10-14T08:08:40.550752",
     "exception": false,
     "start_time": "2022-10-14T08:08:40.529350",
     "status": "completed"
    },
    "tags": []
   },
   "outputs": [
    {
     "data": {
      "application/javascript": [
       "parent.postMessage({\"jupyterEvent\": \"custom.exercise_interaction\", \"data\": {\"interactionType\": 3, \"questionType\": 4, \"questionId\": \"4.2_ThinkBlueReg\", \"learnToolsVersion\": \"0.3.4\", \"valueTowardsCompletion\": 0.0, \"failureMessage\": \"\", \"exceptionClass\": \"\", \"trace\": \"\", \"outcomeType\": 4}}, \"*\")"
      ],
      "text/plain": [
       "<IPython.core.display.Javascript object>"
      ]
     },
     "metadata": {},
     "output_type": "display_data"
    },
    {
     "data": {
      "text/markdown": [
       "<span style=\"color:#33cc99\">Solution:</span> Since the regression line has a slightly positive slope, this tells us that there is a slightly positive correlation between `'winpercent'` and `'sugarpercent'`. Thus, people have a slight preference for candies containing relatively more sugar."
      ],
      "text/plain": [
       "Solution: Since the regression line has a slightly positive slope, this tells us that there is a slightly positive correlation between `'winpercent'` and `'sugarpercent'`. Thus, people have a slight preference for candies containing relatively more sugar."
      ]
     },
     "metadata": {},
     "output_type": "display_data"
    }
   ],
   "source": [
    "# Check your answer (Run this code cell to receive credit!)\n",
    "step_4.b.solution()"
   ]
  },
  {
   "cell_type": "markdown",
   "id": "81a431ce",
   "metadata": {
    "papermill": {
     "duration": 0.009593,
     "end_time": "2022-10-14T08:08:40.570750",
     "exception": false,
     "start_time": "2022-10-14T08:08:40.561157",
     "status": "completed"
    },
    "tags": []
   },
   "source": [
    "## Step 5: Chocolate!\n",
    "\n",
    "In the code cell below, create a scatter plot to show the relationship between `'pricepercent'` (on the horizontal x-axis) and `'winpercent'` (on the vertical y-axis). Use the `'chocolate'` column to color-code the points.  _Don't add any regression lines just yet -- you'll do that in the next step!_"
   ]
  },
  {
   "cell_type": "code",
   "execution_count": 16,
   "id": "f188d5d8",
   "metadata": {
    "execution": {
     "iopub.execute_input": "2022-10-14T08:08:40.592829Z",
     "iopub.status.busy": "2022-10-14T08:08:40.592205Z",
     "iopub.status.idle": "2022-10-14T08:08:40.918571Z",
     "shell.execute_reply": "2022-10-14T08:08:40.917488Z"
    },
    "papermill": {
     "duration": 0.340145,
     "end_time": "2022-10-14T08:08:40.920949",
     "exception": false,
     "start_time": "2022-10-14T08:08:40.580804",
     "status": "completed"
    },
    "tags": []
   },
   "outputs": [
    {
     "data": {
      "application/javascript": [
       "parent.postMessage({\"jupyterEvent\": \"custom.exercise_interaction\", \"data\": {\"outcomeType\": 1, \"valueTowardsCompletion\": 0.3333333333333333, \"interactionType\": 1, \"questionType\": 2, \"questionId\": \"5_ColorScatter\", \"learnToolsVersion\": \"0.3.4\", \"failureMessage\": \"\", \"exceptionClass\": \"\", \"trace\": \"\"}}, \"*\")"
      ],
      "text/plain": [
       "<IPython.core.display.Javascript object>"
      ]
     },
     "metadata": {},
     "output_type": "display_data"
    },
    {
     "data": {
      "text/markdown": [
       "<span style=\"color:#33cc33\">Correct</span>"
      ],
      "text/plain": [
       "Correct"
      ]
     },
     "metadata": {},
     "output_type": "display_data"
    },
    {
     "data": {
      "image/png": "[encoded data removed]",
      "text/plain": [
       "<Figure size 432x288 with 1 Axes>"
      ]
     },
     "metadata": {
      "needs_background": "light"
     },
     "output_type": "display_data"
    }
   ],
   "source": [
    "# Scatter plot showing the relationship between 'pricepercent', 'winpercent', and 'chocolate'\n",
    "sns.scatterplot(x=candy_data['sugarpercent'],y=candy_data['winpercent'], hue=candy_data['chocolate'])\n",
    "# Your code here\n",
    "\n",
    "# Check your answer\n",
    "step_5.check()"
   ]
  },
  {
   "cell_type": "code",
   "execution_count": 17,
   "id": "336ad6a9",
   "metadata": {
    "execution": {
     "iopub.execute_input": "2022-10-14T08:08:40.945159Z",
     "iopub.status.busy": "2022-10-14T08:08:40.944819Z",
     "iopub.status.idle": "2022-10-14T08:08:40.948791Z",
     "shell.execute_reply": "2022-10-14T08:08:40.947728Z"
    },
    "papermill": {
     "duration": 0.01865,
     "end_time": "2022-10-14T08:08:40.950844",
     "exception": false,
     "start_time": "2022-10-14T08:08:40.932194",
     "status": "completed"
    },
    "tags": []
   },
   "outputs": [],
   "source": [
    "# Lines below will give you a hint or solution code\n",
    "\n",
    "#step_5.hint()\n",
    "#step_5.solution_plot()"
   ]
  },
  {
   "cell_type": "markdown",
   "id": "30afa9d1",
   "metadata": {
    "papermill": {
     "duration": 0.010532,
     "end_time": "2022-10-14T08:08:40.972358",
     "exception": false,
     "start_time": "2022-10-14T08:08:40.961826",
     "status": "completed"
    },
    "tags": []
   },
   "source": [
    "Can you see any interesting patterns in the scatter plot?  We'll investigate this plot further  by adding regression lines in the next step!\n",
    "\n",
    "## Step 6: Investigate chocolate\n",
    "\n",
    "#### Part A\n",
    "\n",
    "Create the same scatter plot you created in **Step 5**, but now with two regression lines, corresponding to (1) chocolate candies and (2) candies without chocolate."
   ]
  },
  {
   "cell_type": "code",
   "execution_count": 18,
   "id": "da8a6fde",
   "metadata": {
    "execution": {
     "iopub.execute_input": "2022-10-14T08:08:40.995379Z",
     "iopub.status.busy": "2022-10-14T08:08:40.994989Z",
     "iopub.status.idle": "2022-10-14T08:08:41.622353Z",
     "shell.execute_reply": "2022-10-14T08:08:41.621236Z"
    },
    "papermill": {
     "duration": 0.641465,
     "end_time": "2022-10-14T08:08:41.624556",
     "exception": false,
     "start_time": "2022-10-14T08:08:40.983091",
     "status": "completed"
    },
    "tags": []
   },
   "outputs": [
    {
     "data": {
      "application/javascript": [
       "parent.postMessage({\"jupyterEvent\": \"custom.exercise_interaction\", \"data\": {\"outcomeType\": 1, \"valueTowardsCompletion\": 0.3333333333333333, \"interactionType\": 1, \"questionType\": 2, \"questionId\": \"6.1_PlotColorReg\", \"learnToolsVersion\": \"0.3.4\", \"failureMessage\": \"\", \"exceptionClass\": \"\", \"trace\": \"\"}}, \"*\")"
      ],
      "text/plain": [
       "<IPython.core.display.Javascript object>"
      ]
     },
     "metadata": {},
     "output_type": "display_data"
    },
    {
     "data": {
      "text/markdown": [
       "<span style=\"color:#33cc33\">Correct</span>"
      ],
      "text/plain": [
       "Correct"
      ]
     },
     "metadata": {},
     "output_type": "display_data"
    },
    {
     "data": {
      "image/png": "[encoded data removed]",
      "text/plain": [
       "<Figure size 416.375x360 with 1 Axes>"
      ]
     },
     "metadata": {
      "needs_background": "light"
     },
     "output_type": "display_data"
    }
   ],
   "source": [
    "# Color-coded scatter plot w/ regression lines\n",
    "sns.lmplot(x=\"sugarpercent\",y=\"winpercent\",hue=\"chocolate\" ,data=candy_data)\n",
    "# Your code here\n",
    "\n",
    "# Check your answer\n",
    "step_6.a.check()"
   ]
  },
  {
   "cell_type": "code",
   "execution_count": 19,
   "id": "e0e523ae",
   "metadata": {
    "execution": {
     "iopub.execute_input": "2022-10-14T08:08:41.649816Z",
     "iopub.status.busy": "2022-10-14T08:08:41.649411Z",
     "iopub.status.idle": "2022-10-14T08:08:41.654161Z",
     "shell.execute_reply": "2022-10-14T08:08:41.652907Z"
    },
    "papermill": {
     "duration": 0.019805,
     "end_time": "2022-10-14T08:08:41.656411",
     "exception": false,
     "start_time": "2022-10-14T08:08:41.636606",
     "status": "completed"
    },
    "tags": []
   },
   "outputs": [],
   "source": [
    "# Lines below will give you a hint or solution code\n",
    "#step_6.a.hint()\n",
    "#step_6.a.solution_plot()"
   ]
  },
  {
   "cell_type": "markdown",
   "id": "6060e7cd",
   "metadata": {
    "papermill": {
     "duration": 0.011847,
     "end_time": "2022-10-14T08:08:41.679727",
     "exception": false,
     "start_time": "2022-10-14T08:08:41.667880",
     "status": "completed"
    },
    "tags": []
   },
   "source": [
    "#### Part B\n",
    "\n",
    "Using the regression lines, what conclusions can you draw about the effects of chocolate and price on candy popularity?"
   ]
  },
  {
   "cell_type": "code",
   "execution_count": 20,
   "id": "f81c79a0",
   "metadata": {
    "execution": {
     "iopub.execute_input": "2022-10-14T08:08:41.705073Z",
     "iopub.status.busy": "2022-10-14T08:08:41.704694Z",
     "iopub.status.idle": "2022-10-14T08:08:41.708863Z",
     "shell.execute_reply": "2022-10-14T08:08:41.707943Z"
    },
    "papermill": {
     "duration": 0.019565,
     "end_time": "2022-10-14T08:08:41.710946",
     "exception": false,
     "start_time": "2022-10-14T08:08:41.691381",
     "status": "completed"
    },
    "tags": []
   },
   "outputs": [],
   "source": [
    "#step_6.b.hint()"
   ]
  },
  {
   "cell_type": "code",
   "execution_count": 21,
   "id": "2247bf5f",
   "metadata": {
    "execution": {
     "iopub.execute_input": "2022-10-14T08:08:41.736843Z",
     "iopub.status.busy": "2022-10-14T08:08:41.735904Z",
     "iopub.status.idle": "2022-10-14T08:08:41.743370Z",
     "shell.execute_reply": "2022-10-14T08:08:41.742698Z"
    },
    "papermill": {
     "duration": 0.021982,
     "end_time": "2022-10-14T08:08:41.745201",
     "exception": false,
     "start_time": "2022-10-14T08:08:41.723219",
     "status": "completed"
    },
    "tags": []
   },
   "outputs": [
    {
     "data": {
      "application/javascript": [
       "parent.postMessage({\"jupyterEvent\": \"custom.exercise_interaction\", \"data\": {\"interactionType\": 3, \"questionType\": 4, \"questionId\": \"6.2_ThinkColorReg\", \"learnToolsVersion\": \"0.3.4\", \"valueTowardsCompletion\": 0.0, \"failureMessage\": \"\", \"exceptionClass\": \"\", \"trace\": \"\", \"outcomeType\": 4}}, \"*\")"
      ],
      "text/plain": [
       "<IPython.core.display.Javascript object>"
      ]
     },
     "metadata": {},
     "output_type": "display_data"
    },
    {
     "data": {
      "text/markdown": [
       "<span style=\"color:#33cc99\">Solution:</span> We'll begin with the regression line for chocolate candies. Since this line has a slightly positive slope, we can say that more expensive chocolate candies tend to be more popular (than relatively cheaper chocolate candies).  Likewise, since the regression line for candies without chocolate has a negative slope, we can say that if candies don't contain chocolate, they tend to be more popular when they are cheaper.  One important note, however, is that the dataset is quite small -- so we shouldn't invest too much trust in these patterns!  To inspire more confidence in the results, we should add more candies to the dataset."
      ],
      "text/plain": [
       "Solution: We'll begin with the regression line for chocolate candies. Since this line has a slightly positive slope, we can say that more expensive chocolate candies tend to be more popular (than relatively cheaper chocolate candies).  Likewise, since the regression line for candies without chocolate has a negative slope, we can say that if candies don't contain chocolate, they tend to be more popular when they are cheaper.  One important note, however, is that the dataset is quite small -- so we shouldn't invest too much trust in these patterns!  To inspire more confidence in the results, we should add more candies to the dataset."
      ]
     },
     "metadata": {},
     "output_type": "display_data"
    }
   ],
   "source": [
    "# Check your answer (Run this code cell to receive credit!)\n",
    "step_6.b.solution()"
   ]
  },
  {
   "cell_type": "markdown",
   "id": "69a15513",
   "metadata": {
    "papermill": {
     "duration": 0.011869,
     "end_time": "2022-10-14T08:08:41.768953",
     "exception": false,
     "start_time": "2022-10-14T08:08:41.757084",
     "status": "completed"
    },
    "tags": []
   },
   "source": [
    "## Step 7: Everybody loves chocolate.\n",
    "\n",
    "#### Part A\n",
    "\n",
    "Create a categorical scatter plot to highlight the relationship between `'chocolate'` and `'winpercent'`.  Put `'chocolate'` on the (horizontal) x-axis, and `'winpercent'` on the (vertical) y-axis."
   ]
  },
  {
   "cell_type": "code",
   "execution_count": 22,
   "id": "05984139",
   "metadata": {
    "execution": {
     "iopub.execute_input": "2022-10-14T08:08:41.794496Z",
     "iopub.status.busy": "2022-10-14T08:08:41.794070Z",
     "iopub.status.idle": "2022-10-14T08:08:42.011466Z",
     "shell.execute_reply": "2022-10-14T08:08:42.010410Z"
    },
    "papermill": {
     "duration": 0.232761,
     "end_time": "2022-10-14T08:08:42.013716",
     "exception": false,
     "start_time": "2022-10-14T08:08:41.780955",
     "status": "completed"
    },
    "tags": []
   },
   "outputs": [
    {
     "data": {
      "application/javascript": [
       "parent.postMessage({\"jupyterEvent\": \"custom.exercise_interaction\", \"data\": {\"outcomeType\": 1, \"valueTowardsCompletion\": 0.3333333333333333, \"interactionType\": 1, \"questionType\": 2, \"questionId\": \"7.1_PlotSwarm\", \"learnToolsVersion\": \"0.3.4\", \"failureMessage\": \"\", \"exceptionClass\": \"\", \"trace\": \"\"}}, \"*\")"
      ],
      "text/plain": [
       "<IPython.core.display.Javascript object>"
      ]
     },
     "metadata": {},
     "output_type": "display_data"
    },
    {
     "data": {
      "text/markdown": [
       "<span style=\"color:#33cc33\">Correct</span>"
      ],
      "text/plain": [
       "Correct"
      ]
     },
     "metadata": {},
     "output_type": "display_data"
    },
    {
     "data": {
      "image/png": "[encoded data removed]",
      "text/plain": [
       "<Figure size 432x288 with 1 Axes>"
      ]
     },
     "metadata": {
      "needs_background": "light"
     },
     "output_type": "display_data"
    }
   ],
   "source": [
    "# Scatter plot showing the relationship between 'chocolate' and 'winpercent'\n",
    "sns.swarmplot(x=candy_data['chocolate'],y=candy_data['winpercent'])\n",
    "\n",
    "# Your code here\n",
    "\n",
    "# Check your answer\n",
    "step_7.a.check()"
   ]
  },
  {
   "cell_type": "code",
   "execution_count": 23,
   "id": "00a64c06",
   "metadata": {
    "execution": {
     "iopub.execute_input": "2022-10-14T08:08:42.040430Z",
     "iopub.status.busy": "2022-10-14T08:08:42.040018Z",
     "iopub.status.idle": "2022-10-14T08:08:42.044190Z",
     "shell.execute_reply": "2022-10-14T08:08:42.043087Z"
    },
    "papermill": {
     "duration": 0.01996,
     "end_time": "2022-10-14T08:08:42.046334",
     "exception": false,
     "start_time": "2022-10-14T08:08:42.026374",
     "status": "completed"
    },
    "tags": []
   },
   "outputs": [],
   "source": [
    "# Lines below will give you a hint or solution code\n",
    "#step_7.a.hint()\n",
    "#step_7.a.solution_plot()"
   ]
  },
  {
   "cell_type": "markdown",
   "id": "e593834a",
   "metadata": {
    "papermill": {
     "duration": 0.01196,
     "end_time": "2022-10-14T08:08:42.070371",
     "exception": false,
     "start_time": "2022-10-14T08:08:42.058411",
     "status": "completed"
    },
    "tags": []
   },
   "source": [
    "#### Part B\n",
    "\n",
    "You decide to dedicate a section of your report to the fact that chocolate candies tend to be more popular than candies without chocolate.  Which plot is more appropriate to tell this story: the plot from **Step 6**, or the plot from **Step 7**?"
   ]
  },
  {
   "cell_type": "code",
   "execution_count": 24,
   "id": "613075f7",
   "metadata": {
    "execution": {
     "iopub.execute_input": "2022-10-14T08:08:42.096803Z",
     "iopub.status.busy": "2022-10-14T08:08:42.096426Z",
     "iopub.status.idle": "2022-10-14T08:08:42.100638Z",
     "shell.execute_reply": "2022-10-14T08:08:42.099607Z"
    },
    "papermill": {
     "duration": 0.020342,
     "end_time": "2022-10-14T08:08:42.102770",
     "exception": false,
     "start_time": "2022-10-14T08:08:42.082428",
     "status": "completed"
    },
    "tags": []
   },
   "outputs": [],
   "source": [
    "#step_7.b.hint()"
   ]
  },
  {
   "cell_type": "code",
   "execution_count": 25,
   "id": "3c2054d0",
   "metadata": {
    "execution": {
     "iopub.execute_input": "2022-10-14T08:08:42.128810Z",
     "iopub.status.busy": "2022-10-14T08:08:42.128254Z",
     "iopub.status.idle": "2022-10-14T08:08:42.135549Z",
     "shell.execute_reply": "2022-10-14T08:08:42.134633Z"
    },
    "papermill": {
     "duration": 0.022754,
     "end_time": "2022-10-14T08:08:42.137527",
     "exception": false,
     "start_time": "2022-10-14T08:08:42.114773",
     "status": "completed"
    },
    "tags": []
   },
   "outputs": [
    {
     "data": {
      "application/javascript": [
       "parent.postMessage({\"jupyterEvent\": \"custom.exercise_interaction\", \"data\": {\"interactionType\": 3, \"questionType\": 4, \"questionId\": \"7.2_ThinkSwarm\", \"learnToolsVersion\": \"0.3.4\", \"valueTowardsCompletion\": 0.0, \"failureMessage\": \"\", \"exceptionClass\": \"\", \"trace\": \"\", \"outcomeType\": 4}}, \"*\")"
      ],
      "text/plain": [
       "<IPython.core.display.Javascript object>"
      ]
     },
     "metadata": {},
     "output_type": "display_data"
    },
    {
     "data": {
      "text/markdown": [
       "<span style=\"color:#33cc99\">Solution:</span> In this case, the categorical scatter plot from **Step 7** is the more appropriate plot. While both plots tell the desired story, the plot from **Step 6** conveys far more information that could distract from the main point."
      ],
      "text/plain": [
       "Solution: In this case, the categorical scatter plot from **Step 7** is the more appropriate plot. While both plots tell the desired story, the plot from **Step 6** conveys far more information that could distract from the main point."
      ]
     },
     "metadata": {},
     "output_type": "display_data"
    }
   ],
   "source": [
    "# Check your answer (Run this code cell to receive credit!)\n",
    "step_7.b.solution()"
   ]
  },
  {
   "cell_type": "markdown",
   "id": "5c343ee0",
   "metadata": {
    "papermill": {
     "duration": 0.012458,
     "end_time": "2022-10-14T08:08:42.162090",
     "exception": false,
     "start_time": "2022-10-14T08:08:42.149632",
     "status": "completed"
    },
    "tags": []
   },
   "source": [
    "## Keep going\n",
    "\n",
    "Explore **[histograms and density plots](https://www.kaggle.com/alexisbcook/distributions)**."
   ]
  },
  {
   "cell_type": "markdown",
   "id": "65f8ee28",
   "metadata": {
    "papermill": {
     "duration": 0.012564,
     "end_time": "2022-10-14T08:08:42.186576",
     "exception": false,
     "start_time": "2022-10-14T08:08:42.174012",
     "status": "completed"
    },
    "tags": []
   },
   "source": [
    "---\n",
    "\n",
    "\n",
    "\n",
    "\n",
    "*Have questions or comments? Visit the [course discussion forum](https://www.kaggle.com/learn/data-visualization/discussion) to chat with other learners.*"
   ]
  }
 ],
 "metadata": {
  "kernelspec": {
   "display_name": "Python 3",
   "language": "python",
   "name": "python3"
  },
  "language_info": {
   "codemirror_mode": {
    "name": "ipython",
    "version": 3
   },
   "file_extension": ".py",
   "mimetype": "text/x-python",
   "name": "python",
   "nbconvert_exporter": "python",
   "pygments_lexer": "ipython3",
   "version": "3.7.12"
  },
  "papermill": {
   "default_parameters": {},
   "duration": 13.306548,
   "end_time": "2022-10-14T08:08:42.919983",
   "environment_variables": {},
   "exception": null,
   "input_path": "__notebook__.ipynb",
   "output_path": "__notebook__.ipynb",
   "parameters": {},
   "start_time": "2022-10-14T08:08:29.613435",
   "version": "2.3.4"
  }
 },
 "nbformat": 4,
 "nbformat_minor": 5
}
